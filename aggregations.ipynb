{
 "cells": [
  {
   "cell_type": "code",
   "execution_count": 1,
   "metadata": {},
   "outputs": [],
   "source": [
    "import pandas as pd\n",
    "import numpy as np\n",
    "import matplotlib.pyplot as plt\n",
    "\n",
    "\n",
    "import seaborn as sns\n",
    "import functions"
   ]
  },
  {
   "cell_type": "code",
   "execution_count": 23,
   "metadata": {},
   "outputs": [
    {
     "data": {
      "text/plain": [
       "<module 'functions' from 'c:\\\\Users\\\\balsevt\\\\python\\\\m3s4\\\\functions.py'>"
      ]
     },
     "execution_count": 23,
     "metadata": {},
     "output_type": "execute_result"
    }
   ],
   "source": [
    "import importlib\n",
    "\n",
    "importlib.reload(functions)"
   ]
  },
  {
   "cell_type": "code",
   "execution_count": 2,
   "metadata": {},
   "outputs": [],
   "source": [
    "df_app = pd.read_parquet(r\"data\\train\\df_app.parquet\", engine=\"pyarrow\")\n",
    "df_bur = pd.read_parquet(r\"data\\train\\df_bur.parquet\", engine=\"pyarrow\")\n",
    "df_bur_bal = pd.read_parquet(r\"data\\train\\df_bur_bal.parquet\", engine=\"pyarrow\")\n",
    "df_prev_app = pd.read_parquet(r\"data\\train\\df_prev_app.parquet\", engine=\"pyarrow\")\n",
    "df_cash = pd.read_parquet(r\"data\\train\\df_cash.parquet\", engine=\"pyarrow\")\n",
    "df_inst = pd.read_parquet(r\"data\\train\\df_inst.parquet\", engine=\"pyarrow\")\n",
    "df_cred = pd.read_parquet(r\"data\\train\\df_cred.parquet\", engine=\"pyarrow\")"
   ]
  },
  {
   "cell_type": "code",
   "execution_count": 3,
   "metadata": {},
   "outputs": [
    {
     "name": "stdout",
     "output_type": "stream",
     "text": [
      "All ok\n",
      "All ok\n",
      "All ok\n",
      "All ok\n",
      "All ok\n",
      "All ok\n",
      "All ok\n",
      "All ok\n",
      "All ok\n",
      "All ok\n",
      "All ok\n",
      "All ok\n"
     ]
    }
   ],
   "source": [
    "curr_dfs = [df_app, df_bur, df_prev_app, df_cash, df_inst, df_cred]\n",
    "bur_dfs = [df_bur, df_bur_bal]\n",
    "prev_dfs = [df_prev_app, df_cash, df_inst, df_cred]\n",
    "\n",
    "for df in curr_dfs:\n",
    "    functions.check_df_nulls(df[\"SK_ID_CURR\"])\n",
    "\n",
    "for df in bur_dfs:\n",
    "    functions.check_df_nulls(df[\"SK_ID_BUREAU\"])\n",
    "\n",
    "for df in prev_dfs:\n",
    "    functions.check_df_nulls(df[\"SK_ID_PREV\"])"
   ]
  },
  {
   "cell_type": "markdown",
   "metadata": {},
   "source": [
    "### Aggregating Bureau Balance Table"
   ]
  },
  {
   "cell_type": "markdown",
   "metadata": {},
   "source": [
    "#### Test df_bur_bal aggregations"
   ]
  },
  {
   "cell_type": "markdown",
   "metadata": {},
   "source": [
    "We would need: last and max status of a loan as well as mean, std of the loan while it was not yet closed"
   ]
  },
  {
   "cell_type": "code",
   "execution_count": 8,
   "metadata": {},
   "outputs": [
    {
     "data": {
      "text/plain": [
       "array(['C', '0', 'X', '1', '2', '5', '4', '3'], dtype=object)"
      ]
     },
     "execution_count": 8,
     "metadata": {},
     "output_type": "execute_result"
    }
   ],
   "source": [
    "df_bur_bal[\"STATUS\"].unique()"
   ]
  },
  {
   "cell_type": "code",
   "execution_count": 9,
   "metadata": {},
   "outputs": [],
   "source": [
    "data = {\n",
    "    \"SK_ID_BUREAU\": [1, 1, 1, 1, 1, 1, 2, 2, 2, 3],\n",
    "    \"MONTHS_BALANCE\": [0, -1, -2, -3, -4, -5, 0, -1, -2, 0],\n",
    "    \"STATUS\": [\"C\", \"0\", \"1\", \"1\", \"1\", \"X\", \"1\", \"2\", \"3\", \"C\"],\n",
    "}\n",
    "\n",
    "test = pd.DataFrame(data)"
   ]
  },
  {
   "cell_type": "code",
   "execution_count": 10,
   "metadata": {},
   "outputs": [
    {
     "data": {
      "text/html": [
       "<div>\n",
       "<style scoped>\n",
       "    .dataframe tbody tr th:only-of-type {\n",
       "        vertical-align: middle;\n",
       "    }\n",
       "\n",
       "    .dataframe tbody tr th {\n",
       "        vertical-align: top;\n",
       "    }\n",
       "\n",
       "    .dataframe thead th {\n",
       "        text-align: right;\n",
       "    }\n",
       "</style>\n",
       "<table border=\"1\" class=\"dataframe\">\n",
       "  <thead>\n",
       "    <tr style=\"text-align: right;\">\n",
       "      <th></th>\n",
       "      <th>SK_ID_BUREAU</th>\n",
       "      <th>STATUS_last</th>\n",
       "      <th>STATUS_median</th>\n",
       "      <th>STATUS_mean</th>\n",
       "      <th>STATUS_std</th>\n",
       "      <th>STATUS_max</th>\n",
       "    </tr>\n",
       "  </thead>\n",
       "  <tbody>\n",
       "    <tr>\n",
       "      <th>0</th>\n",
       "      <td>1</td>\n",
       "      <td>-1.0</td>\n",
       "      <td>1.0</td>\n",
       "      <td>0.75</td>\n",
       "      <td>0.5</td>\n",
       "      <td>1.0</td>\n",
       "    </tr>\n",
       "    <tr>\n",
       "      <th>1</th>\n",
       "      <td>2</td>\n",
       "      <td>1.0</td>\n",
       "      <td>2.0</td>\n",
       "      <td>2.00</td>\n",
       "      <td>1.0</td>\n",
       "      <td>3.0</td>\n",
       "    </tr>\n",
       "    <tr>\n",
       "      <th>2</th>\n",
       "      <td>3</td>\n",
       "      <td>-1.0</td>\n",
       "      <td>NaN</td>\n",
       "      <td>NaN</td>\n",
       "      <td>NaN</td>\n",
       "      <td>NaN</td>\n",
       "    </tr>\n",
       "  </tbody>\n",
       "</table>\n",
       "</div>"
      ],
      "text/plain": [
       "   SK_ID_BUREAU  STATUS_last  STATUS_median  STATUS_mean  STATUS_std  \\\n",
       "0             1         -1.0            1.0         0.75         0.5   \n",
       "1             2          1.0            2.0         2.00         1.0   \n",
       "2             3         -1.0            NaN          NaN         NaN   \n",
       "\n",
       "   STATUS_max  \n",
       "0         1.0  \n",
       "1         3.0  \n",
       "2         NaN  "
      ]
     },
     "execution_count": 10,
     "metadata": {},
     "output_type": "execute_result"
    }
   ],
   "source": [
    "functions.aggregate_bur_bal(test)"
   ]
  },
  {
   "cell_type": "code",
   "execution_count": null,
   "metadata": {},
   "outputs": [],
   "source": [
    "df_selected_few = df_app.sample(20, random_state=42)\n",
    "\n",
    "curr_ids = [334358]\n",
    "\n",
    "df_bur_filtered = df_bur[df_bur[\"SK_ID_CURR\"].isin(curr_ids)]\n",
    "bureau_ids = df_bur_filtered[\"SK_ID_BUREAU\"]\n",
    "\n",
    "df_bur_bal_filtered = df_bur_bal[df_bur_bal[\"SK_ID_BUREAU\"].isin(bureau_ids)]"
   ]
  },
  {
   "cell_type": "code",
   "execution_count": 11,
   "metadata": {},
   "outputs": [
    {
     "data": {
      "text/html": [
       "<div>\n",
       "<style scoped>\n",
       "    .dataframe tbody tr th:only-of-type {\n",
       "        vertical-align: middle;\n",
       "    }\n",
       "\n",
       "    .dataframe tbody tr th {\n",
       "        vertical-align: top;\n",
       "    }\n",
       "\n",
       "    .dataframe thead th {\n",
       "        text-align: right;\n",
       "    }\n",
       "</style>\n",
       "<table border=\"1\" class=\"dataframe\">\n",
       "  <thead>\n",
       "    <tr style=\"text-align: right;\">\n",
       "      <th></th>\n",
       "      <th>SK_ID_BUREAU</th>\n",
       "      <th>STATUS_last</th>\n",
       "      <th>STATUS_median</th>\n",
       "      <th>STATUS_mean</th>\n",
       "      <th>STATUS_std</th>\n",
       "      <th>STATUS_max</th>\n",
       "    </tr>\n",
       "  </thead>\n",
       "  <tbody>\n",
       "    <tr>\n",
       "      <th>0</th>\n",
       "      <td>5501454</td>\n",
       "      <td>-1.0</td>\n",
       "      <td>0.0</td>\n",
       "      <td>0.000000</td>\n",
       "      <td>0.000000</td>\n",
       "      <td>0.0</td>\n",
       "    </tr>\n",
       "    <tr>\n",
       "      <th>1</th>\n",
       "      <td>5501456</td>\n",
       "      <td>-1.0</td>\n",
       "      <td>0.0</td>\n",
       "      <td>0.000000</td>\n",
       "      <td>0.000000</td>\n",
       "      <td>0.0</td>\n",
       "    </tr>\n",
       "    <tr>\n",
       "      <th>2</th>\n",
       "      <td>5501455</td>\n",
       "      <td>NaN</td>\n",
       "      <td>0.0</td>\n",
       "      <td>0.153846</td>\n",
       "      <td>0.375534</td>\n",
       "      <td>1.0</td>\n",
       "    </tr>\n",
       "  </tbody>\n",
       "</table>\n",
       "</div>"
      ],
      "text/plain": [
       "   SK_ID_BUREAU  STATUS_last  STATUS_median  STATUS_mean  STATUS_std  \\\n",
       "0       5501454         -1.0            0.0     0.000000    0.000000   \n",
       "1       5501456         -1.0            0.0     0.000000    0.000000   \n",
       "2       5501455          NaN            0.0     0.153846    0.375534   \n",
       "\n",
       "   STATUS_max  \n",
       "0         0.0  \n",
       "1         0.0  \n",
       "2         1.0  "
      ]
     },
     "execution_count": 11,
     "metadata": {},
     "output_type": "execute_result"
    }
   ],
   "source": [
    "functions.aggregate_bur_bal(df_bur_bal_filtered)"
   ]
  },
  {
   "cell_type": "markdown",
   "metadata": {},
   "source": [
    "#### Aggregate the Table"
   ]
  },
  {
   "cell_type": "code",
   "execution_count": 3,
   "metadata": {},
   "outputs": [],
   "source": [
    "df_bur_bal_agg = functions.aggregate_bur_bal(df_bur_bal)"
   ]
  },
  {
   "cell_type": "markdown",
   "metadata": {},
   "source": [
    "#### Explore Bureau Balance Aggregations"
   ]
  },
  {
   "cell_type": "code",
   "execution_count": 13,
   "metadata": {},
   "outputs": [
    {
     "data": {
      "text/html": [
       "<div>\n",
       "<style scoped>\n",
       "    .dataframe tbody tr th:only-of-type {\n",
       "        vertical-align: middle;\n",
       "    }\n",
       "\n",
       "    .dataframe tbody tr th {\n",
       "        vertical-align: top;\n",
       "    }\n",
       "\n",
       "    .dataframe thead th {\n",
       "        text-align: right;\n",
       "    }\n",
       "</style>\n",
       "<table border=\"1\" class=\"dataframe\">\n",
       "  <thead>\n",
       "    <tr style=\"text-align: right;\">\n",
       "      <th></th>\n",
       "      <th>SK_ID_BUREAU</th>\n",
       "      <th>STATUS_last</th>\n",
       "      <th>STATUS_median</th>\n",
       "      <th>STATUS_mean</th>\n",
       "      <th>STATUS_std</th>\n",
       "      <th>STATUS_max</th>\n",
       "    </tr>\n",
       "  </thead>\n",
       "  <tbody>\n",
       "    <tr>\n",
       "      <th>count</th>\n",
       "      <td>4.953830e+05</td>\n",
       "      <td>267465.000000</td>\n",
       "      <td>433689.000000</td>\n",
       "      <td>433689.000000</td>\n",
       "      <td>409065.000000</td>\n",
       "      <td>433689.000000</td>\n",
       "    </tr>\n",
       "    <tr>\n",
       "      <th>mean</th>\n",
       "      <td>5.974812e+06</td>\n",
       "      <td>-0.651786</td>\n",
       "      <td>0.032552</td>\n",
       "      <td>0.052616</td>\n",
       "      <td>0.076421</td>\n",
       "      <td>0.202675</td>\n",
       "    </tr>\n",
       "    <tr>\n",
       "      <th>std</th>\n",
       "      <td>5.171548e+05</td>\n",
       "      <td>0.590703</td>\n",
       "      <td>0.315570</td>\n",
       "      <td>0.280736</td>\n",
       "      <td>0.236631</td>\n",
       "      <td>0.615389</td>\n",
       "    </tr>\n",
       "    <tr>\n",
       "      <th>min</th>\n",
       "      <td>5.008804e+06</td>\n",
       "      <td>-1.000000</td>\n",
       "      <td>0.000000</td>\n",
       "      <td>0.000000</td>\n",
       "      <td>0.000000</td>\n",
       "      <td>0.000000</td>\n",
       "    </tr>\n",
       "    <tr>\n",
       "      <th>25%</th>\n",
       "      <td>5.576562e+06</td>\n",
       "      <td>-1.000000</td>\n",
       "      <td>0.000000</td>\n",
       "      <td>0.000000</td>\n",
       "      <td>0.000000</td>\n",
       "      <td>0.000000</td>\n",
       "    </tr>\n",
       "    <tr>\n",
       "      <th>50%</th>\n",
       "      <td>6.023622e+06</td>\n",
       "      <td>-1.000000</td>\n",
       "      <td>0.000000</td>\n",
       "      <td>0.000000</td>\n",
       "      <td>0.000000</td>\n",
       "      <td>0.000000</td>\n",
       "    </tr>\n",
       "    <tr>\n",
       "      <th>75%</th>\n",
       "      <td>6.398064e+06</td>\n",
       "      <td>0.000000</td>\n",
       "      <td>0.000000</td>\n",
       "      <td>0.000000</td>\n",
       "      <td>0.000000</td>\n",
       "      <td>0.000000</td>\n",
       "    </tr>\n",
       "    <tr>\n",
       "      <th>max</th>\n",
       "      <td>6.842888e+06</td>\n",
       "      <td>5.000000</td>\n",
       "      <td>5.000000</td>\n",
       "      <td>5.000000</td>\n",
       "      <td>3.535534</td>\n",
       "      <td>5.000000</td>\n",
       "    </tr>\n",
       "  </tbody>\n",
       "</table>\n",
       "</div>"
      ],
      "text/plain": [
       "       SK_ID_BUREAU    STATUS_last  STATUS_median    STATUS_mean  \\\n",
       "count  4.953830e+05  267465.000000  433689.000000  433689.000000   \n",
       "mean   5.974812e+06      -0.651786       0.032552       0.052616   \n",
       "std    5.171548e+05       0.590703       0.315570       0.280736   \n",
       "min    5.008804e+06      -1.000000       0.000000       0.000000   \n",
       "25%    5.576562e+06      -1.000000       0.000000       0.000000   \n",
       "50%    6.023622e+06      -1.000000       0.000000       0.000000   \n",
       "75%    6.398064e+06       0.000000       0.000000       0.000000   \n",
       "max    6.842888e+06       5.000000       5.000000       5.000000   \n",
       "\n",
       "          STATUS_std     STATUS_max  \n",
       "count  409065.000000  433689.000000  \n",
       "mean        0.076421       0.202675  \n",
       "std         0.236631       0.615389  \n",
       "min         0.000000       0.000000  \n",
       "25%         0.000000       0.000000  \n",
       "50%         0.000000       0.000000  \n",
       "75%         0.000000       0.000000  \n",
       "max         3.535534       5.000000  "
      ]
     },
     "execution_count": 13,
     "metadata": {},
     "output_type": "execute_result"
    }
   ],
   "source": [
    "df_bur_bal_agg.describe()"
   ]
  },
  {
   "cell_type": "code",
   "execution_count": 45,
   "metadata": {},
   "outputs": [
    {
     "data": {
      "text/plain": [
       "STATUS_last\n",
       "False    0.539916\n",
       "True     0.460084\n",
       "Name: proportion, dtype: float64"
      ]
     },
     "execution_count": 45,
     "metadata": {},
     "output_type": "execute_result"
    },
    {
     "data": {
      "image/png": "[encoded data removed]",
      "text/plain": [
       "<Figure size 640x480 with 1 Axes>"
      ]
     },
     "metadata": {},
     "output_type": "display_data"
    }
   ],
   "source": [
    "sns.countplot(df_bur_bal_agg, x=\"STATUS_last\")\n",
    "df_bur_bal_agg[\"STATUS_last\"].isna().value_counts(normalize=True)"
   ]
  },
  {
   "cell_type": "code",
   "execution_count": 47,
   "metadata": {},
   "outputs": [
    {
     "data": {
      "text/plain": [
       "STATUS_mean\n",
       "False    0.875462\n",
       "True     0.124538\n",
       "Name: proportion, dtype: float64"
      ]
     },
     "execution_count": 47,
     "metadata": {},
     "output_type": "execute_result"
    },
    {
     "data": {
      "image/png": "[encoded data removed]",
      "text/plain": [
       "<Figure size 640x480 with 1 Axes>"
      ]
     },
     "metadata": {},
     "output_type": "display_data"
    }
   ],
   "source": [
    "sns.histplot(df_bur_bal_agg.fillna(-5), x=\"STATUS_mean\")\n",
    "df_bur_bal_agg[\"STATUS_mean\"].isna().value_counts(normalize=True)"
   ]
  },
  {
   "cell_type": "code",
   "execution_count": 48,
   "metadata": {},
   "outputs": [
    {
     "data": {
      "text/plain": [
       "STATUS_max\n",
       "False    0.875462\n",
       "True     0.124538\n",
       "Name: proportion, dtype: float64"
      ]
     },
     "execution_count": 48,
     "metadata": {},
     "output_type": "execute_result"
    },
    {
     "data": {
      "image/png": "[encoded data removed]",
      "text/plain": [
       "<Figure size 640x480 with 1 Axes>"
      ]
     },
     "metadata": {},
     "output_type": "display_data"
    }
   ],
   "source": [
    "sns.countplot(df_bur_bal_agg.fillna(-5), x=\"STATUS_max\")\n",
    "df_bur_bal_agg[\"STATUS_max\"].isna().value_counts(normalize=True)"
   ]
  },
  {
   "cell_type": "markdown",
   "metadata": {},
   "source": [
    "### Aggregating Bureau Table"
   ]
  },
  {
   "cell_type": "markdown",
   "metadata": {},
   "source": [
    "merge Bureau balance aggregations onto Bureau table"
   ]
  },
  {
   "cell_type": "code",
   "execution_count": 4,
   "metadata": {},
   "outputs": [],
   "source": [
    "df = df_bur.merge(df_bur_bal_agg, how=\"outer\", on=\"SK_ID_BUREAU\")"
   ]
  },
  {
   "cell_type": "markdown",
   "metadata": {},
   "source": [
    "#### Explore the Table's Features"
   ]
  },
  {
   "cell_type": "code",
   "execution_count": 20,
   "metadata": {},
   "outputs": [
    {
     "data": {
      "text/html": [
       "<div>\n",
       "<style scoped>\n",
       "    .dataframe tbody tr th:only-of-type {\n",
       "        vertical-align: middle;\n",
       "    }\n",
       "\n",
       "    .dataframe tbody tr th {\n",
       "        vertical-align: top;\n",
       "    }\n",
       "\n",
       "    .dataframe thead th {\n",
       "        text-align: right;\n",
       "    }\n",
       "</style>\n",
       "<table border=\"1\" class=\"dataframe\">\n",
       "  <thead>\n",
       "    <tr style=\"text-align: right;\">\n",
       "      <th></th>\n",
       "      <th>SK_ID_CURR</th>\n",
       "      <th>SK_ID_BUREAU</th>\n",
       "      <th>CREDIT_ACTIVE</th>\n",
       "      <th>CREDIT_CURRENCY</th>\n",
       "      <th>DAYS_CREDIT</th>\n",
       "      <th>CREDIT_DAY_OVERDUE</th>\n",
       "      <th>DAYS_CREDIT_ENDDATE</th>\n",
       "      <th>DAYS_ENDDATE_FACT</th>\n",
       "    </tr>\n",
       "  </thead>\n",
       "  <tbody>\n",
       "    <tr>\n",
       "      <th>604825</th>\n",
       "      <td>334358</td>\n",
       "      <td>5501454</td>\n",
       "      <td>Closed</td>\n",
       "      <td>currency 1</td>\n",
       "      <td>-1696</td>\n",
       "      <td>0</td>\n",
       "      <td>-1359.0</td>\n",
       "      <td>-1359.0</td>\n",
       "    </tr>\n",
       "    <tr>\n",
       "      <th>604826</th>\n",
       "      <td>334358</td>\n",
       "      <td>5501455</td>\n",
       "      <td>Closed</td>\n",
       "      <td>currency 1</td>\n",
       "      <td>-2509</td>\n",
       "      <td>0</td>\n",
       "      <td>-2204.0</td>\n",
       "      <td>-2201.0</td>\n",
       "    </tr>\n",
       "    <tr>\n",
       "      <th>604827</th>\n",
       "      <td>334358</td>\n",
       "      <td>5501456</td>\n",
       "      <td>Closed</td>\n",
       "      <td>currency 1</td>\n",
       "      <td>-342</td>\n",
       "      <td>0</td>\n",
       "      <td>-69.0</td>\n",
       "      <td>-69.0</td>\n",
       "    </tr>\n",
       "  </tbody>\n",
       "</table>\n",
       "</div>"
      ],
      "text/plain": [
       "        SK_ID_CURR  SK_ID_BUREAU CREDIT_ACTIVE CREDIT_CURRENCY  DAYS_CREDIT  \\\n",
       "604825      334358       5501454        Closed      currency 1        -1696   \n",
       "604826      334358       5501455        Closed      currency 1        -2509   \n",
       "604827      334358       5501456        Closed      currency 1         -342   \n",
       "\n",
       "        CREDIT_DAY_OVERDUE  DAYS_CREDIT_ENDDATE  DAYS_ENDDATE_FACT  \n",
       "604825                   0              -1359.0            -1359.0  \n",
       "604826                   0              -2204.0            -2201.0  \n",
       "604827                   0                -69.0              -69.0  "
      ]
     },
     "execution_count": 20,
     "metadata": {},
     "output_type": "execute_result"
    }
   ],
   "source": [
    "df_filtered = df[df[\"SK_ID_CURR\"].isin(curr_ids)]\n",
    "df_filtered.iloc[:, :8]"
   ]
  },
  {
   "cell_type": "code",
   "execution_count": 52,
   "metadata": {},
   "outputs": [
    {
     "data": {
      "text/html": [
       "<div>\n",
       "<style scoped>\n",
       "    .dataframe tbody tr th:only-of-type {\n",
       "        vertical-align: middle;\n",
       "    }\n",
       "\n",
       "    .dataframe tbody tr th {\n",
       "        vertical-align: top;\n",
       "    }\n",
       "\n",
       "    .dataframe thead th {\n",
       "        text-align: right;\n",
       "    }\n",
       "</style>\n",
       "<table border=\"1\" class=\"dataframe\">\n",
       "  <thead>\n",
       "    <tr style=\"text-align: right;\">\n",
       "      <th></th>\n",
       "      <th>AMT_CREDIT_MAX_OVERDUE</th>\n",
       "      <th>CNT_CREDIT_PROLONG</th>\n",
       "      <th>AMT_CREDIT_SUM</th>\n",
       "      <th>AMT_CREDIT_SUM_DEBT</th>\n",
       "      <th>AMT_CREDIT_SUM_LIMIT</th>\n",
       "      <th>AMT_CREDIT_SUM_OVERDUE</th>\n",
       "    </tr>\n",
       "  </thead>\n",
       "  <tbody>\n",
       "    <tr>\n",
       "      <th>604825</th>\n",
       "      <td>NaN</td>\n",
       "      <td>0</td>\n",
       "      <td>131706.0</td>\n",
       "      <td>0.0</td>\n",
       "      <td>0.0</td>\n",
       "      <td>0.0</td>\n",
       "    </tr>\n",
       "    <tr>\n",
       "      <th>604826</th>\n",
       "      <td>0.0</td>\n",
       "      <td>0</td>\n",
       "      <td>41067.0</td>\n",
       "      <td>NaN</td>\n",
       "      <td>NaN</td>\n",
       "      <td>0.0</td>\n",
       "    </tr>\n",
       "    <tr>\n",
       "      <th>604827</th>\n",
       "      <td>0.0</td>\n",
       "      <td>0</td>\n",
       "      <td>99000.0</td>\n",
       "      <td>0.0</td>\n",
       "      <td>0.0</td>\n",
       "      <td>0.0</td>\n",
       "    </tr>\n",
       "  </tbody>\n",
       "</table>\n",
       "</div>"
      ],
      "text/plain": [
       "        AMT_CREDIT_MAX_OVERDUE  CNT_CREDIT_PROLONG  AMT_CREDIT_SUM  \\\n",
       "604825                     NaN                   0        131706.0   \n",
       "604826                     0.0                   0         41067.0   \n",
       "604827                     0.0                   0         99000.0   \n",
       "\n",
       "        AMT_CREDIT_SUM_DEBT  AMT_CREDIT_SUM_LIMIT  AMT_CREDIT_SUM_OVERDUE  \n",
       "604825                  0.0                   0.0                     0.0  \n",
       "604826                  NaN                   NaN                     0.0  \n",
       "604827                  0.0                   0.0                     0.0  "
      ]
     },
     "execution_count": 52,
     "metadata": {},
     "output_type": "execute_result"
    }
   ],
   "source": [
    "df_filtered.iloc[:, 8:14]"
   ]
  },
  {
   "cell_type": "code",
   "execution_count": 53,
   "metadata": {},
   "outputs": [
    {
     "data": {
      "text/html": [
       "<div>\n",
       "<style scoped>\n",
       "    .dataframe tbody tr th:only-of-type {\n",
       "        vertical-align: middle;\n",
       "    }\n",
       "\n",
       "    .dataframe tbody tr th {\n",
       "        vertical-align: top;\n",
       "    }\n",
       "\n",
       "    .dataframe thead th {\n",
       "        text-align: right;\n",
       "    }\n",
       "</style>\n",
       "<table border=\"1\" class=\"dataframe\">\n",
       "  <thead>\n",
       "    <tr style=\"text-align: right;\">\n",
       "      <th></th>\n",
       "      <th>CREDIT_TYPE</th>\n",
       "      <th>DAYS_CREDIT_UPDATE</th>\n",
       "      <th>AMT_ANNUITY</th>\n",
       "      <th>STATUS_last</th>\n",
       "      <th>STATUS_median</th>\n",
       "      <th>STATUS_mean</th>\n",
       "      <th>STATUS_std</th>\n",
       "      <th>STATUS_max</th>\n",
       "    </tr>\n",
       "  </thead>\n",
       "  <tbody>\n",
       "    <tr>\n",
       "      <th>604825</th>\n",
       "      <td>Consumer credit</td>\n",
       "      <td>-1357</td>\n",
       "      <td>NaN</td>\n",
       "      <td>-1.0</td>\n",
       "      <td>0.0</td>\n",
       "      <td>0.000000</td>\n",
       "      <td>0.000000</td>\n",
       "      <td>0.0</td>\n",
       "    </tr>\n",
       "    <tr>\n",
       "      <th>604826</th>\n",
       "      <td>Consumer credit</td>\n",
       "      <td>-2197</td>\n",
       "      <td>30055.5</td>\n",
       "      <td>NaN</td>\n",
       "      <td>0.0</td>\n",
       "      <td>0.153846</td>\n",
       "      <td>0.375534</td>\n",
       "      <td>1.0</td>\n",
       "    </tr>\n",
       "    <tr>\n",
       "      <th>604827</th>\n",
       "      <td>Consumer credit</td>\n",
       "      <td>-67</td>\n",
       "      <td>NaN</td>\n",
       "      <td>-1.0</td>\n",
       "      <td>0.0</td>\n",
       "      <td>0.000000</td>\n",
       "      <td>0.000000</td>\n",
       "      <td>0.0</td>\n",
       "    </tr>\n",
       "  </tbody>\n",
       "</table>\n",
       "</div>"
      ],
      "text/plain": [
       "            CREDIT_TYPE  DAYS_CREDIT_UPDATE  AMT_ANNUITY  STATUS_last  \\\n",
       "604825  Consumer credit               -1357          NaN         -1.0   \n",
       "604826  Consumer credit               -2197      30055.5          NaN   \n",
       "604827  Consumer credit                 -67          NaN         -1.0   \n",
       "\n",
       "        STATUS_median  STATUS_mean  STATUS_std  STATUS_max  \n",
       "604825            0.0     0.000000    0.000000         0.0  \n",
       "604826            0.0     0.153846    0.375534         1.0  \n",
       "604827            0.0     0.000000    0.000000         0.0  "
      ]
     },
     "execution_count": 53,
     "metadata": {},
     "output_type": "execute_result"
    }
   ],
   "source": [
    "df_filtered.iloc[:, 14:]"
   ]
  },
  {
   "cell_type": "code",
   "execution_count": 8,
   "metadata": {},
   "outputs": [
    {
     "data": {
      "image/png": "[encoded data removed]",
      "text/plain": [
       "<Figure size 640x480 with 1 Axes>"
      ]
     },
     "metadata": {},
     "output_type": "display_data"
    }
   ],
   "source": [
    "sns.countplot(df.fillna(\"NONE\"), x=\"CREDIT_ACTIVE\", stat=\"percent\")\n",
    "functions.add_labels(fmt=\"%2.3f%%\")"
   ]
  },
  {
   "cell_type": "markdown",
   "metadata": {},
   "source": [
    "This should provide the same info as our aggregate STATUS_last. It provides additional info and also we seem to be lacking the aggregate quite frequently. We should consider dropping our STATUS_last aggregate and use this instead. To aggregate CREDIT_ACTIVE, we would probably want to have the counts of categories."
   ]
  },
  {
   "cell_type": "code",
   "execution_count": 33,
   "metadata": {},
   "outputs": [
    {
     "data": {
      "image/png": "[encoded data removed]",
      "text/plain": [
       "<Figure size 640x480 with 1 Axes>"
      ]
     },
     "metadata": {},
     "output_type": "display_data"
    }
   ],
   "source": [
    "sns.countplot(df.fillna(\"NONE\"), x=\"CREDIT_CURRENCY\", stat=\"percent\")\n",
    "functions.add_labels(fmt=\"%2.3f%%\")"
   ]
  },
  {
   "cell_type": "markdown",
   "metadata": {},
   "source": [
    "almost everyone is using currency 1, may only consider binary \"uses other currencies\". we'll use unique count to estimate this."
   ]
  },
  {
   "cell_type": "code",
   "execution_count": 33,
   "metadata": {},
   "outputs": [
    {
     "data": {
      "text/plain": [
       "DAYS_CREDIT\n",
       "False    1.0\n",
       "Name: proportion, dtype: float64"
      ]
     },
     "execution_count": 33,
     "metadata": {},
     "output_type": "execute_result"
    },
    {
     "data": {
      "image/png": "[encoded data removed]",
      "text/plain": [
       "<Figure size 640x480 with 1 Axes>"
      ]
     },
     "metadata": {},
     "output_type": "display_data"
    }
   ],
   "source": [
    "sns.histplot(df[\"DAYS_CREDIT\"])\n",
    "df[\"DAYS_CREDIT\"].isna().value_counts(normalize=True)"
   ]
  },
  {
   "cell_type": "markdown",
   "metadata": {},
   "source": [
    "Min, mean"
   ]
  },
  {
   "cell_type": "code",
   "execution_count": 26,
   "metadata": {},
   "outputs": [
    {
     "data": {
      "image/png": "[encoded data removed]",
      "text/plain": [
       "<Figure size 640x480 with 1 Axes>"
      ]
     },
     "metadata": {},
     "output_type": "display_data"
    }
   ],
   "source": [
    "df_overdue = df[[\"CREDIT_DAY_OVERDUE\"]].copy()\n",
    "df_overdue[\"is_overdue\"] = df_overdue[\"CREDIT_DAY_OVERDUE\"] > 0\n",
    "sns.countplot(df_overdue.fillna(\"NONE\"), x=\"is_overdue\")\n",
    "functions.add_labels()"
   ]
  },
  {
   "cell_type": "markdown",
   "metadata": {},
   "source": [
    "Very little loans seem to be overdue. Lets aggregate this column into \"has_overdue\""
   ]
  },
  {
   "cell_type": "code",
   "execution_count": 32,
   "metadata": {},
   "outputs": [
    {
     "data": {
      "text/plain": [
       "DAYS_CREDIT_ENDDATE\n",
       "False    0.939135\n",
       "True     0.060865\n",
       "Name: proportion, dtype: float64"
      ]
     },
     "execution_count": 32,
     "metadata": {},
     "output_type": "execute_result"
    },
    {
     "data": {
      "image/png": "[encoded data removed]",
      "text/plain": [
       "<Figure size 640x480 with 1 Axes>"
      ]
     },
     "metadata": {},
     "output_type": "display_data"
    }
   ],
   "source": [
    "sns.histplot(df[\"DAYS_CREDIT_ENDDATE\"])\n",
    "df[\"DAYS_CREDIT_ENDDATE\"].isna().value_counts(normalize=True)"
   ]
  },
  {
   "cell_type": "markdown",
   "metadata": {},
   "source": [
    "for those loans that are not closed, calculate max, mean"
   ]
  },
  {
   "cell_type": "code",
   "execution_count": 34,
   "metadata": {},
   "outputs": [
    {
     "data": {
      "text/plain": [
       "DAYS_ENDDATE_FACT\n",
       "False    0.628328\n",
       "True     0.371672\n",
       "Name: proportion, dtype: float64"
      ]
     },
     "execution_count": 34,
     "metadata": {},
     "output_type": "execute_result"
    },
    {
     "data": {
      "image/png": "[encoded data removed]",
      "text/plain": [
       "<Figure size 640x480 with 1 Axes>"
      ]
     },
     "metadata": {},
     "output_type": "display_data"
    }
   ],
   "source": [
    "sns.histplot(df[\"DAYS_ENDDATE_FACT\"])\n",
    "df[\"DAYS_ENDDATE_FACT\"].isna().value_counts(normalize=True)"
   ]
  },
  {
   "cell_type": "markdown",
   "metadata": {},
   "source": [
    "will not be used"
   ]
  },
  {
   "cell_type": "code",
   "execution_count": 35,
   "metadata": {},
   "outputs": [
    {
     "data": {
      "text/plain": [
       "AMT_CREDIT_MAX_OVERDUE\n",
       "True     0.647498\n",
       "False    0.352502\n",
       "Name: proportion, dtype: float64"
      ]
     },
     "execution_count": 35,
     "metadata": {},
     "output_type": "execute_result"
    },
    {
     "data": {
      "image/png": "[encoded data removed]",
      "text/plain": [
       "<Figure size 640x480 with 1 Axes>"
      ]
     },
     "metadata": {},
     "output_type": "display_data"
    }
   ],
   "source": [
    "sns.histplot(df[\"AMT_CREDIT_MAX_OVERDUE\"])\n",
    "df[\"AMT_CREDIT_MAX_OVERDUE\"].isna().value_counts(normalize=True)"
   ]
  },
  {
   "cell_type": "markdown",
   "metadata": {},
   "source": [
    "drop, already covered and many nans"
   ]
  },
  {
   "cell_type": "code",
   "execution_count": 36,
   "metadata": {},
   "outputs": [
    {
     "data": {
      "text/plain": [
       "CNT_CREDIT_PROLONG\n",
       "False    1.0\n",
       "Name: proportion, dtype: float64"
      ]
     },
     "execution_count": 36,
     "metadata": {},
     "output_type": "execute_result"
    },
    {
     "data": {
      "image/png": "[encoded data removed]",
      "text/plain": [
       "<Figure size 640x480 with 1 Axes>"
      ]
     },
     "metadata": {},
     "output_type": "display_data"
    }
   ],
   "source": [
    "sns.countplot(df, x=\"CNT_CREDIT_PROLONG\")\n",
    "df[\"CNT_CREDIT_PROLONG\"].isna().value_counts(normalize=True)"
   ]
  },
  {
   "cell_type": "markdown",
   "metadata": {},
   "source": [
    "aggregate into binary \"has_prolonged\""
   ]
  },
  {
   "cell_type": "markdown",
   "metadata": {},
   "source": [
    "All AMT columns to be aggregated into max, mean."
   ]
  },
  {
   "cell_type": "code",
   "execution_count": null,
   "metadata": {},
   "outputs": [
    {
     "data": {
      "image/png": "[encoded data removed]",
      "text/plain": [
       "<Figure size 640x480 with 1 Axes>"
      ]
     },
     "metadata": {},
     "output_type": "display_data"
    }
   ],
   "source": [
    "sns.countplot(df.fillna(\"None\"), y=\"CREDIT_TYPE\")\n",
    "functions.add_labels()"
   ]
  },
  {
   "cell_type": "markdown",
   "metadata": {},
   "source": [
    "Aggregate count of unique types, bin into 7 categories and count for each"
   ]
  },
  {
   "cell_type": "code",
   "execution_count": 49,
   "metadata": {},
   "outputs": [
    {
     "data": {
      "text/plain": [
       "DAYS_CREDIT_UPDATE\n",
       "False    1.0\n",
       "Name: proportion, dtype: float64"
      ]
     },
     "execution_count": 49,
     "metadata": {},
     "output_type": "execute_result"
    },
    {
     "data": {
      "image/png": "[encoded data removed]",
      "text/plain": [
       "<Figure size 640x480 with 1 Axes>"
      ]
     },
     "metadata": {},
     "output_type": "display_data"
    }
   ],
   "source": [
    "sns.histplot(df[\"DAYS_CREDIT_UPDATE\"])\n",
    "df[\"DAYS_CREDIT_UPDATE\"].isna().value_counts(normalize=True)"
   ]
  },
  {
   "cell_type": "markdown",
   "metadata": {},
   "source": [
    "drop, doesn't seem to be helpful"
   ]
  },
  {
   "cell_type": "code",
   "execution_count": 41,
   "metadata": {},
   "outputs": [
    {
     "data": {
      "text/plain": [
       "STATUS_last\n",
       "True     0.807917\n",
       "False    0.192083\n",
       "Name: proportion, dtype: float64"
      ]
     },
     "execution_count": 41,
     "metadata": {},
     "output_type": "execute_result"
    },
    {
     "data": {
      "image/png": "[encoded data removed]",
      "text/plain": [
       "<Figure size 640x480 with 1 Axes>"
      ]
     },
     "metadata": {},
     "output_type": "display_data"
    }
   ],
   "source": [
    "sns.countplot(df, x=\"STATUS_last\")\n",
    "df[\"STATUS_last\"].isna().value_counts(normalize=True)"
   ]
  },
  {
   "cell_type": "markdown",
   "metadata": {},
   "source": [
    "most are nan and mostly covered by other columns either way, so drop."
   ]
  },
  {
   "cell_type": "code",
   "execution_count": 37,
   "metadata": {},
   "outputs": [
    {
     "data": {
      "text/plain": [
       "STATUS_mean\n",
       "True     0.688542\n",
       "False    0.311458\n",
       "Name: proportion, dtype: float64"
      ]
     },
     "execution_count": 37,
     "metadata": {},
     "output_type": "execute_result"
    },
    {
     "data": {
      "image/png": "[encoded data removed]",
      "text/plain": [
       "<Figure size 640x480 with 1 Axes>"
      ]
     },
     "metadata": {},
     "output_type": "display_data"
    }
   ],
   "source": [
    "sns.histplot(df, x=\"STATUS_mean\")\n",
    "df[\"STATUS_mean\"].isna().value_counts(normalize=True)"
   ]
  },
  {
   "cell_type": "code",
   "execution_count": 42,
   "metadata": {},
   "outputs": [
    {
     "data": {
      "text/plain": [
       "STATUS_std\n",
       "True     0.706226\n",
       "False    0.293774\n",
       "Name: proportion, dtype: float64"
      ]
     },
     "execution_count": 42,
     "metadata": {},
     "output_type": "execute_result"
    },
    {
     "data": {
      "image/png": "[encoded data removed]",
      "text/plain": [
       "<Figure size 640x480 with 1 Axes>"
      ]
     },
     "metadata": {},
     "output_type": "display_data"
    }
   ],
   "source": [
    "sns.histplot(df, x=\"STATUS_std\")\n",
    "df[\"STATUS_std\"].isna().value_counts(normalize=True)"
   ]
  },
  {
   "cell_type": "code",
   "execution_count": 43,
   "metadata": {},
   "outputs": [
    {
     "data": {
      "text/plain": [
       "STATUS_max\n",
       "True     0.688542\n",
       "False    0.311458\n",
       "Name: proportion, dtype: float64"
      ]
     },
     "execution_count": 43,
     "metadata": {},
     "output_type": "execute_result"
    },
    {
     "data": {
      "image/png": "[encoded data removed]",
      "text/plain": [
       "<Figure size 640x480 with 1 Axes>"
      ]
     },
     "metadata": {},
     "output_type": "display_data"
    }
   ],
   "source": [
    "sns.countplot(df, x=\"STATUS_max\")\n",
    "df[\"STATUS_max\"].isna().value_counts(normalize=True)"
   ]
  },
  {
   "cell_type": "markdown",
   "metadata": {},
   "source": [
    "After merging bureau balance aggregations with the main bureau table, we can see that the proportion of missing values increased dramatically. They may no longer be usable due to the amount of missing values, but we'll see later. For max let's aggregate a max, for std and mean - means."
   ]
  },
  {
   "cell_type": "markdown",
   "metadata": {},
   "source": [
    "#### Aggregate the Table"
   ]
  },
  {
   "cell_type": "code",
   "execution_count": 5,
   "metadata": {},
   "outputs": [],
   "source": [
    "aggregates_bur = functions.aggregate_bur(df)"
   ]
  },
  {
   "cell_type": "code",
   "execution_count": 6,
   "metadata": {},
   "outputs": [],
   "source": [
    "aggregates_bur.to_parquet(\"data/train/aggregates_bur.parquet\")"
   ]
  },
  {
   "cell_type": "markdown",
   "metadata": {},
   "source": [
    "#### Explore the Aggregates"
   ]
  },
  {
   "cell_type": "code",
   "execution_count": 90,
   "metadata": {},
   "outputs": [
    {
     "data": {
      "text/html": [
       "<div>\n",
       "<style scoped>\n",
       "    .dataframe tbody tr th:only-of-type {\n",
       "        vertical-align: middle;\n",
       "    }\n",
       "\n",
       "    .dataframe tbody tr th {\n",
       "        vertical-align: top;\n",
       "    }\n",
       "\n",
       "    .dataframe thead th {\n",
       "        text-align: right;\n",
       "    }\n",
       "</style>\n",
       "<table border=\"1\" class=\"dataframe\">\n",
       "  <thead>\n",
       "    <tr style=\"text-align: right;\">\n",
       "      <th></th>\n",
       "      <th>BUR_CREDIT_CURRENCY_nunique</th>\n",
       "      <th>BUR_DAYS_CREDIT_min</th>\n",
       "      <th>BUR_DAYS_CREDIT_mean</th>\n",
       "      <th>BUR_AMT_CREDIT_SUM_mean</th>\n",
       "      <th>BUR_AMT_CREDIT_SUM_max</th>\n",
       "      <th>BUR_AMT_CREDIT_SUM_DEBT_mean</th>\n",
       "    </tr>\n",
       "    <tr>\n",
       "      <th>SK_ID_CURR</th>\n",
       "      <th></th>\n",
       "      <th></th>\n",
       "      <th></th>\n",
       "      <th></th>\n",
       "      <th></th>\n",
       "      <th></th>\n",
       "    </tr>\n",
       "  </thead>\n",
       "  <tbody>\n",
       "    <tr>\n",
       "      <th>100002</th>\n",
       "      <td>1</td>\n",
       "      <td>-1437</td>\n",
       "      <td>-874.000000</td>\n",
       "      <td>108131.945625</td>\n",
       "      <td>450000.0</td>\n",
       "      <td>49156.200000</td>\n",
       "    </tr>\n",
       "    <tr>\n",
       "      <th>100003</th>\n",
       "      <td>1</td>\n",
       "      <td>-2586</td>\n",
       "      <td>-1400.750000</td>\n",
       "      <td>254350.125000</td>\n",
       "      <td>810000.0</td>\n",
       "      <td>0.000000</td>\n",
       "    </tr>\n",
       "    <tr>\n",
       "      <th>100007</th>\n",
       "      <td>1</td>\n",
       "      <td>-1149</td>\n",
       "      <td>-1149.000000</td>\n",
       "      <td>146250.000000</td>\n",
       "      <td>146250.0</td>\n",
       "      <td>0.000000</td>\n",
       "    </tr>\n",
       "    <tr>\n",
       "      <th>100008</th>\n",
       "      <td>1</td>\n",
       "      <td>-1097</td>\n",
       "      <td>-757.333333</td>\n",
       "      <td>156148.500000</td>\n",
       "      <td>267606.0</td>\n",
       "      <td>80019.000000</td>\n",
       "    </tr>\n",
       "    <tr>\n",
       "      <th>100009</th>\n",
       "      <td>1</td>\n",
       "      <td>-2882</td>\n",
       "      <td>-1271.500000</td>\n",
       "      <td>266711.750000</td>\n",
       "      <td>1777500.0</td>\n",
       "      <td>76953.535714</td>\n",
       "    </tr>\n",
       "  </tbody>\n",
       "</table>\n",
       "</div>"
      ],
      "text/plain": [
       "            BUR_CREDIT_CURRENCY_nunique  BUR_DAYS_CREDIT_min  \\\n",
       "SK_ID_CURR                                                     \n",
       "100002                                1                -1437   \n",
       "100003                                1                -2586   \n",
       "100007                                1                -1149   \n",
       "100008                                1                -1097   \n",
       "100009                                1                -2882   \n",
       "\n",
       "            BUR_DAYS_CREDIT_mean  BUR_AMT_CREDIT_SUM_mean  \\\n",
       "SK_ID_CURR                                                  \n",
       "100002               -874.000000            108131.945625   \n",
       "100003              -1400.750000            254350.125000   \n",
       "100007              -1149.000000            146250.000000   \n",
       "100008               -757.333333            156148.500000   \n",
       "100009              -1271.500000            266711.750000   \n",
       "\n",
       "            BUR_AMT_CREDIT_SUM_max  BUR_AMT_CREDIT_SUM_DEBT_mean  \n",
       "SK_ID_CURR                                                        \n",
       "100002                    450000.0                  49156.200000  \n",
       "100003                    810000.0                      0.000000  \n",
       "100007                    146250.0                      0.000000  \n",
       "100008                    267606.0                  80019.000000  \n",
       "100009                   1777500.0                  76953.535714  "
      ]
     },
     "execution_count": 90,
     "metadata": {},
     "output_type": "execute_result"
    }
   ],
   "source": [
    "aggregates_bur.iloc[:5, :6]"
   ]
  },
  {
   "cell_type": "code",
   "execution_count": 91,
   "metadata": {},
   "outputs": [
    {
     "data": {
      "text/html": [
       "<div>\n",
       "<style scoped>\n",
       "    .dataframe tbody tr th:only-of-type {\n",
       "        vertical-align: middle;\n",
       "    }\n",
       "\n",
       "    .dataframe tbody tr th {\n",
       "        vertical-align: top;\n",
       "    }\n",
       "\n",
       "    .dataframe thead th {\n",
       "        text-align: right;\n",
       "    }\n",
       "</style>\n",
       "<table border=\"1\" class=\"dataframe\">\n",
       "  <thead>\n",
       "    <tr style=\"text-align: right;\">\n",
       "      <th></th>\n",
       "      <th>BUR_AMT_CREDIT_SUM_DEBT_max</th>\n",
       "      <th>BUR_AMT_CREDIT_SUM_LIMIT_mean</th>\n",
       "      <th>BUR_AMT_CREDIT_SUM_LIMIT_max</th>\n",
       "      <th>BUR_AMT_CREDIT_SUM_OVERDUE_mean</th>\n",
       "      <th>BUR_AMT_CREDIT_SUM_OVERDUE_max</th>\n",
       "    </tr>\n",
       "    <tr>\n",
       "      <th>SK_ID_CURR</th>\n",
       "      <th></th>\n",
       "      <th></th>\n",
       "      <th></th>\n",
       "      <th></th>\n",
       "      <th></th>\n",
       "    </tr>\n",
       "  </thead>\n",
       "  <tbody>\n",
       "    <tr>\n",
       "      <th>100002</th>\n",
       "      <td>245781.0</td>\n",
       "      <td>7997.14125</td>\n",
       "      <td>31988.565</td>\n",
       "      <td>0.0</td>\n",
       "      <td>0.0</td>\n",
       "    </tr>\n",
       "    <tr>\n",
       "      <th>100003</th>\n",
       "      <td>0.0</td>\n",
       "      <td>202500.00000</td>\n",
       "      <td>810000.000</td>\n",
       "      <td>0.0</td>\n",
       "      <td>0.0</td>\n",
       "    </tr>\n",
       "    <tr>\n",
       "      <th>100007</th>\n",
       "      <td>0.0</td>\n",
       "      <td>0.00000</td>\n",
       "      <td>0.000</td>\n",
       "      <td>0.0</td>\n",
       "      <td>0.0</td>\n",
       "    </tr>\n",
       "    <tr>\n",
       "      <th>100008</th>\n",
       "      <td>240057.0</td>\n",
       "      <td>0.00000</td>\n",
       "      <td>0.000</td>\n",
       "      <td>0.0</td>\n",
       "      <td>0.0</td>\n",
       "    </tr>\n",
       "    <tr>\n",
       "      <th>100009</th>\n",
       "      <td>557959.5</td>\n",
       "      <td>0.00000</td>\n",
       "      <td>0.000</td>\n",
       "      <td>0.0</td>\n",
       "      <td>0.0</td>\n",
       "    </tr>\n",
       "  </tbody>\n",
       "</table>\n",
       "</div>"
      ],
      "text/plain": [
       "            BUR_AMT_CREDIT_SUM_DEBT_max  BUR_AMT_CREDIT_SUM_LIMIT_mean  \\\n",
       "SK_ID_CURR                                                               \n",
       "100002                         245781.0                     7997.14125   \n",
       "100003                              0.0                   202500.00000   \n",
       "100007                              0.0                        0.00000   \n",
       "100008                         240057.0                        0.00000   \n",
       "100009                         557959.5                        0.00000   \n",
       "\n",
       "            BUR_AMT_CREDIT_SUM_LIMIT_max  BUR_AMT_CREDIT_SUM_OVERDUE_mean  \\\n",
       "SK_ID_CURR                                                                  \n",
       "100002                         31988.565                              0.0   \n",
       "100003                        810000.000                              0.0   \n",
       "100007                             0.000                              0.0   \n",
       "100008                             0.000                              0.0   \n",
       "100009                             0.000                              0.0   \n",
       "\n",
       "            BUR_AMT_CREDIT_SUM_OVERDUE_max  \n",
       "SK_ID_CURR                                  \n",
       "100002                                 0.0  \n",
       "100003                                 0.0  \n",
       "100007                                 0.0  \n",
       "100008                                 0.0  \n",
       "100009                                 0.0  "
      ]
     },
     "execution_count": 91,
     "metadata": {},
     "output_type": "execute_result"
    }
   ],
   "source": [
    "aggregates_bur.iloc[:5, 6:11]"
   ]
  },
  {
   "cell_type": "code",
   "execution_count": 92,
   "metadata": {},
   "outputs": [
    {
     "data": {
      "text/html": [
       "<div>\n",
       "<style scoped>\n",
       "    .dataframe tbody tr th:only-of-type {\n",
       "        vertical-align: middle;\n",
       "    }\n",
       "\n",
       "    .dataframe tbody tr th {\n",
       "        vertical-align: top;\n",
       "    }\n",
       "\n",
       "    .dataframe thead th {\n",
       "        text-align: right;\n",
       "    }\n",
       "</style>\n",
       "<table border=\"1\" class=\"dataframe\">\n",
       "  <thead>\n",
       "    <tr style=\"text-align: right;\">\n",
       "      <th></th>\n",
       "      <th>BUR_CREDIT_TYPE_nunique</th>\n",
       "      <th>BUR_AMT_ANNUITY_mean</th>\n",
       "      <th>BUR_AMT_ANNUITY_max</th>\n",
       "      <th>BUR_STATUS_mean_mean</th>\n",
       "      <th>BUR_STATUS_std_mean</th>\n",
       "      <th>BUR_STATUS_max_mean</th>\n",
       "      <th>BUR_CREDIT_ACTIVE_Closed_sum</th>\n",
       "    </tr>\n",
       "    <tr>\n",
       "      <th>SK_ID_CURR</th>\n",
       "      <th></th>\n",
       "      <th></th>\n",
       "      <th></th>\n",
       "      <th></th>\n",
       "      <th></th>\n",
       "      <th></th>\n",
       "      <th></th>\n",
       "    </tr>\n",
       "  </thead>\n",
       "  <tbody>\n",
       "    <tr>\n",
       "      <th>100002</th>\n",
       "      <td>2</td>\n",
       "      <td>0.0</td>\n",
       "      <td>0.0</td>\n",
       "      <td>0.341806</td>\n",
       "      <td>0.361962</td>\n",
       "      <td>0.75</td>\n",
       "      <td>6.0</td>\n",
       "    </tr>\n",
       "    <tr>\n",
       "      <th>100003</th>\n",
       "      <td>2</td>\n",
       "      <td>NaN</td>\n",
       "      <td>NaN</td>\n",
       "      <td>NaN</td>\n",
       "      <td>NaN</td>\n",
       "      <td>NaN</td>\n",
       "      <td>3.0</td>\n",
       "    </tr>\n",
       "    <tr>\n",
       "      <th>100007</th>\n",
       "      <td>1</td>\n",
       "      <td>NaN</td>\n",
       "      <td>NaN</td>\n",
       "      <td>NaN</td>\n",
       "      <td>NaN</td>\n",
       "      <td>NaN</td>\n",
       "      <td>1.0</td>\n",
       "    </tr>\n",
       "    <tr>\n",
       "      <th>100008</th>\n",
       "      <td>1</td>\n",
       "      <td>NaN</td>\n",
       "      <td>NaN</td>\n",
       "      <td>NaN</td>\n",
       "      <td>NaN</td>\n",
       "      <td>NaN</td>\n",
       "      <td>2.0</td>\n",
       "    </tr>\n",
       "    <tr>\n",
       "      <th>100009</th>\n",
       "      <td>2</td>\n",
       "      <td>NaN</td>\n",
       "      <td>NaN</td>\n",
       "      <td>NaN</td>\n",
       "      <td>NaN</td>\n",
       "      <td>NaN</td>\n",
       "      <td>14.0</td>\n",
       "    </tr>\n",
       "  </tbody>\n",
       "</table>\n",
       "</div>"
      ],
      "text/plain": [
       "            BUR_CREDIT_TYPE_nunique  BUR_AMT_ANNUITY_mean  \\\n",
       "SK_ID_CURR                                                  \n",
       "100002                            2                   0.0   \n",
       "100003                            2                   NaN   \n",
       "100007                            1                   NaN   \n",
       "100008                            1                   NaN   \n",
       "100009                            2                   NaN   \n",
       "\n",
       "            BUR_AMT_ANNUITY_max  BUR_STATUS_mean_mean  BUR_STATUS_std_mean  \\\n",
       "SK_ID_CURR                                                                   \n",
       "100002                      0.0              0.341806             0.361962   \n",
       "100003                      NaN                   NaN                  NaN   \n",
       "100007                      NaN                   NaN                  NaN   \n",
       "100008                      NaN                   NaN                  NaN   \n",
       "100009                      NaN                   NaN                  NaN   \n",
       "\n",
       "            BUR_STATUS_max_mean  BUR_CREDIT_ACTIVE_Closed_sum  \n",
       "SK_ID_CURR                                                     \n",
       "100002                     0.75                           6.0  \n",
       "100003                      NaN                           3.0  \n",
       "100007                      NaN                           1.0  \n",
       "100008                      NaN                           2.0  \n",
       "100009                      NaN                          14.0  "
      ]
     },
     "execution_count": 92,
     "metadata": {},
     "output_type": "execute_result"
    }
   ],
   "source": [
    "aggregates_bur.iloc[:5, 11:18]"
   ]
  },
  {
   "cell_type": "code",
   "execution_count": 93,
   "metadata": {},
   "outputs": [
    {
     "data": {
      "text/html": [
       "<div>\n",
       "<style scoped>\n",
       "    .dataframe tbody tr th:only-of-type {\n",
       "        vertical-align: middle;\n",
       "    }\n",
       "\n",
       "    .dataframe tbody tr th {\n",
       "        vertical-align: top;\n",
       "    }\n",
       "\n",
       "    .dataframe thead th {\n",
       "        text-align: right;\n",
       "    }\n",
       "</style>\n",
       "<table border=\"1\" class=\"dataframe\">\n",
       "  <thead>\n",
       "    <tr style=\"text-align: right;\">\n",
       "      <th></th>\n",
       "      <th>BUR_CREDIT_ACTIVE_Active_sum</th>\n",
       "      <th>BUR_CREDIT_ACTIVE_Sold_sum</th>\n",
       "      <th>BUR_CREDIT_ACTIVE_Bad_debt_sum</th>\n",
       "      <th>BUR_Has_overdue_sum</th>\n",
       "      <th>BUR_Has_prolong_sum</th>\n",
       "      <th>BUR_CREDIT_TYPE_Consumer_credit_sum</th>\n",
       "    </tr>\n",
       "    <tr>\n",
       "      <th>SK_ID_CURR</th>\n",
       "      <th></th>\n",
       "      <th></th>\n",
       "      <th></th>\n",
       "      <th></th>\n",
       "      <th></th>\n",
       "      <th></th>\n",
       "    </tr>\n",
       "  </thead>\n",
       "  <tbody>\n",
       "    <tr>\n",
       "      <th>100002</th>\n",
       "      <td>2.0</td>\n",
       "      <td>0.0</td>\n",
       "      <td>0.0</td>\n",
       "      <td>0</td>\n",
       "      <td>0</td>\n",
       "      <td>4.0</td>\n",
       "    </tr>\n",
       "    <tr>\n",
       "      <th>100003</th>\n",
       "      <td>1.0</td>\n",
       "      <td>0.0</td>\n",
       "      <td>0.0</td>\n",
       "      <td>0</td>\n",
       "      <td>0</td>\n",
       "      <td>2.0</td>\n",
       "    </tr>\n",
       "    <tr>\n",
       "      <th>100007</th>\n",
       "      <td>0.0</td>\n",
       "      <td>0.0</td>\n",
       "      <td>0.0</td>\n",
       "      <td>0</td>\n",
       "      <td>0</td>\n",
       "      <td>1.0</td>\n",
       "    </tr>\n",
       "    <tr>\n",
       "      <th>100008</th>\n",
       "      <td>1.0</td>\n",
       "      <td>0.0</td>\n",
       "      <td>0.0</td>\n",
       "      <td>0</td>\n",
       "      <td>0</td>\n",
       "      <td>3.0</td>\n",
       "    </tr>\n",
       "    <tr>\n",
       "      <th>100009</th>\n",
       "      <td>4.0</td>\n",
       "      <td>0.0</td>\n",
       "      <td>0.0</td>\n",
       "      <td>0</td>\n",
       "      <td>0</td>\n",
       "      <td>16.0</td>\n",
       "    </tr>\n",
       "  </tbody>\n",
       "</table>\n",
       "</div>"
      ],
      "text/plain": [
       "            BUR_CREDIT_ACTIVE_Active_sum  BUR_CREDIT_ACTIVE_Sold_sum  \\\n",
       "SK_ID_CURR                                                             \n",
       "100002                               2.0                         0.0   \n",
       "100003                               1.0                         0.0   \n",
       "100007                               0.0                         0.0   \n",
       "100008                               1.0                         0.0   \n",
       "100009                               4.0                         0.0   \n",
       "\n",
       "            BUR_CREDIT_ACTIVE_Bad_debt_sum  BUR_Has_overdue_sum  \\\n",
       "SK_ID_CURR                                                        \n",
       "100002                                 0.0                    0   \n",
       "100003                                 0.0                    0   \n",
       "100007                                 0.0                    0   \n",
       "100008                                 0.0                    0   \n",
       "100009                                 0.0                    0   \n",
       "\n",
       "            BUR_Has_prolong_sum  BUR_CREDIT_TYPE_Consumer_credit_sum  \n",
       "SK_ID_CURR                                                            \n",
       "100002                        0                                  4.0  \n",
       "100003                        0                                  2.0  \n",
       "100007                        0                                  1.0  \n",
       "100008                        0                                  3.0  \n",
       "100009                        0                                 16.0  "
      ]
     },
     "execution_count": 93,
     "metadata": {},
     "output_type": "execute_result"
    }
   ],
   "source": [
    "aggregates_bur.iloc[:5, 18:24]"
   ]
  },
  {
   "cell_type": "code",
   "execution_count": 97,
   "metadata": {},
   "outputs": [
    {
     "data": {
      "text/html": [
       "<div>\n",
       "<style scoped>\n",
       "    .dataframe tbody tr th:only-of-type {\n",
       "        vertical-align: middle;\n",
       "    }\n",
       "\n",
       "    .dataframe tbody tr th {\n",
       "        vertical-align: top;\n",
       "    }\n",
       "\n",
       "    .dataframe thead th {\n",
       "        text-align: right;\n",
       "    }\n",
       "</style>\n",
       "<table border=\"1\" class=\"dataframe\">\n",
       "  <thead>\n",
       "    <tr style=\"text-align: right;\">\n",
       "      <th></th>\n",
       "      <th>BUR_CREDIT_TYPE_Credit_card_sum</th>\n",
       "      <th>BUR_CREDIT_TYPE_Mortgage_sum</th>\n",
       "      <th>BUR_CREDIT_TYPE_Car_loan_sum</th>\n",
       "      <th>BUR_CREDIT_TYPE_Microloan_sum</th>\n",
       "    </tr>\n",
       "    <tr>\n",
       "      <th>SK_ID_CURR</th>\n",
       "      <th></th>\n",
       "      <th></th>\n",
       "      <th></th>\n",
       "      <th></th>\n",
       "    </tr>\n",
       "  </thead>\n",
       "  <tbody>\n",
       "    <tr>\n",
       "      <th>100002</th>\n",
       "      <td>4.0</td>\n",
       "      <td>0.0</td>\n",
       "      <td>0.0</td>\n",
       "      <td>0.0</td>\n",
       "    </tr>\n",
       "    <tr>\n",
       "      <th>100003</th>\n",
       "      <td>2.0</td>\n",
       "      <td>0.0</td>\n",
       "      <td>0.0</td>\n",
       "      <td>0.0</td>\n",
       "    </tr>\n",
       "    <tr>\n",
       "      <th>100007</th>\n",
       "      <td>0.0</td>\n",
       "      <td>0.0</td>\n",
       "      <td>0.0</td>\n",
       "      <td>0.0</td>\n",
       "    </tr>\n",
       "    <tr>\n",
       "      <th>100008</th>\n",
       "      <td>0.0</td>\n",
       "      <td>0.0</td>\n",
       "      <td>0.0</td>\n",
       "      <td>0.0</td>\n",
       "    </tr>\n",
       "    <tr>\n",
       "      <th>100009</th>\n",
       "      <td>2.0</td>\n",
       "      <td>0.0</td>\n",
       "      <td>0.0</td>\n",
       "      <td>0.0</td>\n",
       "    </tr>\n",
       "  </tbody>\n",
       "</table>\n",
       "</div>"
      ],
      "text/plain": [
       "            BUR_CREDIT_TYPE_Credit_card_sum  BUR_CREDIT_TYPE_Mortgage_sum  \\\n",
       "SK_ID_CURR                                                                  \n",
       "100002                                  4.0                           0.0   \n",
       "100003                                  2.0                           0.0   \n",
       "100007                                  0.0                           0.0   \n",
       "100008                                  0.0                           0.0   \n",
       "100009                                  2.0                           0.0   \n",
       "\n",
       "            BUR_CREDIT_TYPE_Car_loan_sum  BUR_CREDIT_TYPE_Microloan_sum  \n",
       "SK_ID_CURR                                                               \n",
       "100002                               0.0                            0.0  \n",
       "100003                               0.0                            0.0  \n",
       "100007                               0.0                            0.0  \n",
       "100008                               0.0                            0.0  \n",
       "100009                               0.0                            0.0  "
      ]
     },
     "execution_count": 97,
     "metadata": {},
     "output_type": "execute_result"
    }
   ],
   "source": [
    "aggregates_bur.iloc[:5, 24:28]"
   ]
  },
  {
   "cell_type": "code",
   "execution_count": 95,
   "metadata": {},
   "outputs": [
    {
     "data": {
      "text/html": [
       "<div>\n",
       "<style scoped>\n",
       "    .dataframe tbody tr th:only-of-type {\n",
       "        vertical-align: middle;\n",
       "    }\n",
       "\n",
       "    .dataframe tbody tr th {\n",
       "        vertical-align: top;\n",
       "    }\n",
       "\n",
       "    .dataframe thead th {\n",
       "        text-align: right;\n",
       "    }\n",
       "</style>\n",
       "<table border=\"1\" class=\"dataframe\">\n",
       "  <thead>\n",
       "    <tr style=\"text-align: right;\">\n",
       "      <th></th>\n",
       "      <th>BUR_CREDIT_TYPE_business_sum</th>\n",
       "      <th>BUR_CREDIT_TYPE_infrequent_sum</th>\n",
       "      <th>BUR_DAYS_CREDIT_ENDDATE_mean</th>\n",
       "      <th>BUR_DAYS_CREDIT_ENDDATE_max</th>\n",
       "    </tr>\n",
       "    <tr>\n",
       "      <th>SK_ID_CURR</th>\n",
       "      <th></th>\n",
       "      <th></th>\n",
       "      <th></th>\n",
       "      <th></th>\n",
       "    </tr>\n",
       "  </thead>\n",
       "  <tbody>\n",
       "    <tr>\n",
       "      <th>100002</th>\n",
       "      <td>0.0</td>\n",
       "      <td>0.0</td>\n",
       "      <td>309.000000</td>\n",
       "      <td>780.0</td>\n",
       "    </tr>\n",
       "    <tr>\n",
       "      <th>100003</th>\n",
       "      <td>0.0</td>\n",
       "      <td>0.0</td>\n",
       "      <td>1216.000000</td>\n",
       "      <td>1216.0</td>\n",
       "    </tr>\n",
       "    <tr>\n",
       "      <th>100007</th>\n",
       "      <td>0.0</td>\n",
       "      <td>0.0</td>\n",
       "      <td>NaN</td>\n",
       "      <td>NaN</td>\n",
       "    </tr>\n",
       "    <tr>\n",
       "      <th>100008</th>\n",
       "      <td>0.0</td>\n",
       "      <td>0.0</td>\n",
       "      <td>471.000000</td>\n",
       "      <td>471.0</td>\n",
       "    </tr>\n",
       "    <tr>\n",
       "      <th>100009</th>\n",
       "      <td>0.0</td>\n",
       "      <td>0.0</td>\n",
       "      <td>861.666667</td>\n",
       "      <td>1402.0</td>\n",
       "    </tr>\n",
       "  </tbody>\n",
       "</table>\n",
       "</div>"
      ],
      "text/plain": [
       "            BUR_CREDIT_TYPE_business_sum  BUR_CREDIT_TYPE_infrequent_sum  \\\n",
       "SK_ID_CURR                                                                 \n",
       "100002                               0.0                             0.0   \n",
       "100003                               0.0                             0.0   \n",
       "100007                               0.0                             0.0   \n",
       "100008                               0.0                             0.0   \n",
       "100009                               0.0                             0.0   \n",
       "\n",
       "            BUR_DAYS_CREDIT_ENDDATE_mean  BUR_DAYS_CREDIT_ENDDATE_max  \n",
       "SK_ID_CURR                                                             \n",
       "100002                        309.000000                        780.0  \n",
       "100003                       1216.000000                       1216.0  \n",
       "100007                               NaN                          NaN  \n",
       "100008                        471.000000                        471.0  \n",
       "100009                        861.666667                       1402.0  "
      ]
     },
     "execution_count": 95,
     "metadata": {},
     "output_type": "execute_result"
    }
   ],
   "source": [
    "aggregates_bur.iloc[:5, 28:]"
   ]
  },
  {
   "cell_type": "markdown",
   "metadata": {},
   "source": [
    "### Aggregating df_cash"
   ]
  },
  {
   "cell_type": "markdown",
   "metadata": {},
   "source": [
    "#### Explore the Table"
   ]
  },
  {
   "cell_type": "code",
   "execution_count": 29,
   "metadata": {},
   "outputs": [
    {
     "data": {
      "text/html": [
       "<div>\n",
       "<style scoped>\n",
       "    .dataframe tbody tr th:only-of-type {\n",
       "        vertical-align: middle;\n",
       "    }\n",
       "\n",
       "    .dataframe tbody tr th {\n",
       "        vertical-align: top;\n",
       "    }\n",
       "\n",
       "    .dataframe thead th {\n",
       "        text-align: right;\n",
       "    }\n",
       "</style>\n",
       "<table border=\"1\" class=\"dataframe\">\n",
       "  <thead>\n",
       "    <tr style=\"text-align: right;\">\n",
       "      <th></th>\n",
       "      <th>SK_ID_PREV</th>\n",
       "      <th>SK_ID_CURR</th>\n",
       "      <th>MONTHS_BALANCE</th>\n",
       "      <th>CNT_INSTALMENT</th>\n",
       "      <th>CNT_INSTALMENT_FUTURE</th>\n",
       "      <th>NAME_CONTRACT_STATUS</th>\n",
       "      <th>SK_DPD</th>\n",
       "      <th>SK_DPD_DEF</th>\n",
       "    </tr>\n",
       "  </thead>\n",
       "  <tbody>\n",
       "    <tr>\n",
       "      <th>2768890</th>\n",
       "      <td>1855444</td>\n",
       "      <td>221561</td>\n",
       "      <td>-95</td>\n",
       "      <td>5.0</td>\n",
       "      <td>0.0</td>\n",
       "      <td>Active</td>\n",
       "      <td>0</td>\n",
       "      <td>0</td>\n",
       "    </tr>\n",
       "    <tr>\n",
       "      <th>3187130</th>\n",
       "      <td>2253548</td>\n",
       "      <td>191715</td>\n",
       "      <td>-95</td>\n",
       "      <td>4.0</td>\n",
       "      <td>0.0</td>\n",
       "      <td>Active</td>\n",
       "      <td>0</td>\n",
       "      <td>0</td>\n",
       "    </tr>\n",
       "    <tr>\n",
       "      <th>3873066</th>\n",
       "      <td>2359979</td>\n",
       "      <td>317423</td>\n",
       "      <td>-95</td>\n",
       "      <td>10.0</td>\n",
       "      <td>7.0</td>\n",
       "      <td>Active</td>\n",
       "      <td>0</td>\n",
       "      <td>0</td>\n",
       "    </tr>\n",
       "    <tr>\n",
       "      <th>3625383</th>\n",
       "      <td>2305306</td>\n",
       "      <td>142249</td>\n",
       "      <td>-89</td>\n",
       "      <td>8.0</td>\n",
       "      <td>0.0</td>\n",
       "      <td>Active</td>\n",
       "      <td>0</td>\n",
       "      <td>0</td>\n",
       "    </tr>\n",
       "    <tr>\n",
       "      <th>2859400</th>\n",
       "      <td>2103578</td>\n",
       "      <td>420492</td>\n",
       "      <td>-94</td>\n",
       "      <td>4.0</td>\n",
       "      <td>0.0</td>\n",
       "      <td>Active</td>\n",
       "      <td>11</td>\n",
       "      <td>0</td>\n",
       "    </tr>\n",
       "    <tr>\n",
       "      <th>9696333</th>\n",
       "      <td>2524591</td>\n",
       "      <td>148154</td>\n",
       "      <td>-51</td>\n",
       "      <td>6.0</td>\n",
       "      <td>0.0</td>\n",
       "      <td>Demand</td>\n",
       "      <td>1742</td>\n",
       "      <td>1712</td>\n",
       "    </tr>\n",
       "  </tbody>\n",
       "</table>\n",
       "</div>"
      ],
      "text/plain": [
       "         SK_ID_PREV  SK_ID_CURR  MONTHS_BALANCE  CNT_INSTALMENT  \\\n",
       "2768890     1855444      221561             -95             5.0   \n",
       "3187130     2253548      191715             -95             4.0   \n",
       "3873066     2359979      317423             -95            10.0   \n",
       "3625383     2305306      142249             -89             8.0   \n",
       "2859400     2103578      420492             -94             4.0   \n",
       "9696333     2524591      148154             -51             6.0   \n",
       "\n",
       "         CNT_INSTALMENT_FUTURE NAME_CONTRACT_STATUS  SK_DPD  SK_DPD_DEF  \n",
       "2768890                    0.0               Active       0           0  \n",
       "3187130                    0.0               Active       0           0  \n",
       "3873066                    7.0               Active       0           0  \n",
       "3625383                    0.0               Active       0           0  \n",
       "2859400                    0.0               Active      11           0  \n",
       "9696333                    0.0               Demand    1742        1712  "
      ]
     },
     "execution_count": 29,
     "metadata": {},
     "output_type": "execute_result"
    }
   ],
   "source": [
    "curr_ids = df_app[\"SK_ID_CURR\"]\n",
    "prev_ids = df_prev_app[df_prev_app[\"SK_ID_CURR\"].isin(curr_ids)][\"SK_ID_PREV\"]\n",
    "df_cash_not_in_prev = df_cash[~df_cash[\"SK_ID_PREV\"].isin(prev_ids)]\n",
    "df_cash_not_in_prev.sample(6, random_state=42)"
   ]
  },
  {
   "cell_type": "markdown",
   "metadata": {},
   "source": [
    "As seen previously, the tables relating to previous loan applications seem to have some missing applications, but look valid otherwise.\n",
    "\n",
    "To handle the df_cash, df_inst, df_cred tables I will take the approach to aggregate by SK_ID_CURR rather than SK_ID_PREV as it skips an aggregation step. Also, we'll be able to also handle the data with missing applications this way."
   ]
  },
  {
   "cell_type": "code",
   "execution_count": 38,
   "metadata": {},
   "outputs": [
    {
     "data": {
      "text/html": [
       "<div>\n",
       "<style scoped>\n",
       "    .dataframe tbody tr th:only-of-type {\n",
       "        vertical-align: middle;\n",
       "    }\n",
       "\n",
       "    .dataframe tbody tr th {\n",
       "        vertical-align: top;\n",
       "    }\n",
       "\n",
       "    .dataframe thead th {\n",
       "        text-align: right;\n",
       "    }\n",
       "</style>\n",
       "<table border=\"1\" class=\"dataframe\">\n",
       "  <thead>\n",
       "    <tr style=\"text-align: right;\">\n",
       "      <th></th>\n",
       "      <th>SK_ID_PREV</th>\n",
       "      <th>SK_ID_CURR</th>\n",
       "      <th>MONTHS_BALANCE</th>\n",
       "      <th>CNT_INSTALMENT</th>\n",
       "      <th>CNT_INSTALMENT_FUTURE</th>\n",
       "      <th>NAME_CONTRACT_STATUS</th>\n",
       "      <th>SK_DPD</th>\n",
       "      <th>SK_DPD_DEF</th>\n",
       "    </tr>\n",
       "  </thead>\n",
       "  <tbody>\n",
       "    <tr>\n",
       "      <th>9595258</th>\n",
       "      <td>2299329</td>\n",
       "      <td>100006</td>\n",
       "      <td>-13</td>\n",
       "      <td>5.0</td>\n",
       "      <td>0.0</td>\n",
       "      <td>Completed</td>\n",
       "      <td>0</td>\n",
       "      <td>0</td>\n",
       "    </tr>\n",
       "    <tr>\n",
       "      <th>1547042</th>\n",
       "      <td>2299329</td>\n",
       "      <td>100006</td>\n",
       "      <td>-14</td>\n",
       "      <td>5.0</td>\n",
       "      <td>0.0</td>\n",
       "      <td>Active</td>\n",
       "      <td>0</td>\n",
       "      <td>0</td>\n",
       "    </tr>\n",
       "    <tr>\n",
       "      <th>7813685</th>\n",
       "      <td>2299329</td>\n",
       "      <td>100006</td>\n",
       "      <td>-15</td>\n",
       "      <td>12.0</td>\n",
       "      <td>8.0</td>\n",
       "      <td>Active</td>\n",
       "      <td>0</td>\n",
       "      <td>0</td>\n",
       "    </tr>\n",
       "    <tr>\n",
       "      <th>3226333</th>\n",
       "      <td>2299329</td>\n",
       "      <td>100006</td>\n",
       "      <td>-16</td>\n",
       "      <td>12.0</td>\n",
       "      <td>9.0</td>\n",
       "      <td>Active</td>\n",
       "      <td>0</td>\n",
       "      <td>0</td>\n",
       "    </tr>\n",
       "    <tr>\n",
       "      <th>6415578</th>\n",
       "      <td>2299329</td>\n",
       "      <td>100006</td>\n",
       "      <td>-17</td>\n",
       "      <td>12.0</td>\n",
       "      <td>10.0</td>\n",
       "      <td>Active</td>\n",
       "      <td>0</td>\n",
       "      <td>0</td>\n",
       "    </tr>\n",
       "    <tr>\n",
       "      <th>1632814</th>\n",
       "      <td>2299329</td>\n",
       "      <td>100006</td>\n",
       "      <td>-18</td>\n",
       "      <td>12.0</td>\n",
       "      <td>11.0</td>\n",
       "      <td>Active</td>\n",
       "      <td>0</td>\n",
       "      <td>0</td>\n",
       "    </tr>\n",
       "    <tr>\n",
       "      <th>2084324</th>\n",
       "      <td>2299329</td>\n",
       "      <td>100006</td>\n",
       "      <td>-19</td>\n",
       "      <td>12.0</td>\n",
       "      <td>12.0</td>\n",
       "      <td>Active</td>\n",
       "      <td>0</td>\n",
       "      <td>0</td>\n",
       "    </tr>\n",
       "    <tr>\n",
       "      <th>2692043</th>\n",
       "      <td>2299329</td>\n",
       "      <td>100006</td>\n",
       "      <td>-20</td>\n",
       "      <td>NaN</td>\n",
       "      <td>NaN</td>\n",
       "      <td>Returned to the store</td>\n",
       "      <td>0</td>\n",
       "      <td>0</td>\n",
       "    </tr>\n",
       "    <tr>\n",
       "      <th>6935403</th>\n",
       "      <td>2190416</td>\n",
       "      <td>100006</td>\n",
       "      <td>-1</td>\n",
       "      <td>12.0</td>\n",
       "      <td>3.0</td>\n",
       "      <td>Active</td>\n",
       "      <td>0</td>\n",
       "      <td>0</td>\n",
       "    </tr>\n",
       "    <tr>\n",
       "      <th>9549306</th>\n",
       "      <td>2190416</td>\n",
       "      <td>100006</td>\n",
       "      <td>-2</td>\n",
       "      <td>12.0</td>\n",
       "      <td>4.0</td>\n",
       "      <td>Active</td>\n",
       "      <td>0</td>\n",
       "      <td>0</td>\n",
       "    </tr>\n",
       "    <tr>\n",
       "      <th>9112813</th>\n",
       "      <td>2190416</td>\n",
       "      <td>100006</td>\n",
       "      <td>-3</td>\n",
       "      <td>12.0</td>\n",
       "      <td>5.0</td>\n",
       "      <td>Active</td>\n",
       "      <td>0</td>\n",
       "      <td>0</td>\n",
       "    </tr>\n",
       "    <tr>\n",
       "      <th>8423947</th>\n",
       "      <td>2190416</td>\n",
       "      <td>100006</td>\n",
       "      <td>-4</td>\n",
       "      <td>12.0</td>\n",
       "      <td>6.0</td>\n",
       "      <td>Active</td>\n",
       "      <td>0</td>\n",
       "      <td>0</td>\n",
       "    </tr>\n",
       "    <tr>\n",
       "      <th>6407345</th>\n",
       "      <td>2190416</td>\n",
       "      <td>100006</td>\n",
       "      <td>-5</td>\n",
       "      <td>12.0</td>\n",
       "      <td>7.0</td>\n",
       "      <td>Active</td>\n",
       "      <td>0</td>\n",
       "      <td>0</td>\n",
       "    </tr>\n",
       "    <tr>\n",
       "      <th>9600306</th>\n",
       "      <td>2190416</td>\n",
       "      <td>100006</td>\n",
       "      <td>-6</td>\n",
       "      <td>12.0</td>\n",
       "      <td>8.0</td>\n",
       "      <td>Active</td>\n",
       "      <td>0</td>\n",
       "      <td>0</td>\n",
       "    </tr>\n",
       "    <tr>\n",
       "      <th>6832954</th>\n",
       "      <td>2190416</td>\n",
       "      <td>100006</td>\n",
       "      <td>-7</td>\n",
       "      <td>12.0</td>\n",
       "      <td>9.0</td>\n",
       "      <td>Active</td>\n",
       "      <td>0</td>\n",
       "      <td>0</td>\n",
       "    </tr>\n",
       "    <tr>\n",
       "      <th>7098583</th>\n",
       "      <td>2190416</td>\n",
       "      <td>100006</td>\n",
       "      <td>-8</td>\n",
       "      <td>12.0</td>\n",
       "      <td>10.0</td>\n",
       "      <td>Active</td>\n",
       "      <td>0</td>\n",
       "      <td>0</td>\n",
       "    </tr>\n",
       "    <tr>\n",
       "      <th>8301616</th>\n",
       "      <td>2190416</td>\n",
       "      <td>100006</td>\n",
       "      <td>-9</td>\n",
       "      <td>12.0</td>\n",
       "      <td>11.0</td>\n",
       "      <td>Active</td>\n",
       "      <td>0</td>\n",
       "      <td>0</td>\n",
       "    </tr>\n",
       "    <tr>\n",
       "      <th>7902400</th>\n",
       "      <td>2190416</td>\n",
       "      <td>100006</td>\n",
       "      <td>-10</td>\n",
       "      <td>12.0</td>\n",
       "      <td>12.0</td>\n",
       "      <td>Active</td>\n",
       "      <td>0</td>\n",
       "      <td>0</td>\n",
       "    </tr>\n",
       "    <tr>\n",
       "      <th>3527715</th>\n",
       "      <td>2078043</td>\n",
       "      <td>100006</td>\n",
       "      <td>-4</td>\n",
       "      <td>1.0</td>\n",
       "      <td>0.0</td>\n",
       "      <td>Completed</td>\n",
       "      <td>0</td>\n",
       "      <td>0</td>\n",
       "    </tr>\n",
       "    <tr>\n",
       "      <th>2299757</th>\n",
       "      <td>2078043</td>\n",
       "      <td>100006</td>\n",
       "      <td>-5</td>\n",
       "      <td>1.0</td>\n",
       "      <td>0.0</td>\n",
       "      <td>Active</td>\n",
       "      <td>0</td>\n",
       "      <td>0</td>\n",
       "    </tr>\n",
       "    <tr>\n",
       "      <th>2809129</th>\n",
       "      <td>2078043</td>\n",
       "      <td>100006</td>\n",
       "      <td>-6</td>\n",
       "      <td>48.0</td>\n",
       "      <td>48.0</td>\n",
       "      <td>Active</td>\n",
       "      <td>0</td>\n",
       "      <td>0</td>\n",
       "    </tr>\n",
       "  </tbody>\n",
       "</table>\n",
       "</div>"
      ],
      "text/plain": [
       "         SK_ID_PREV  SK_ID_CURR  MONTHS_BALANCE  CNT_INSTALMENT  \\\n",
       "9595258     2299329      100006             -13             5.0   \n",
       "1547042     2299329      100006             -14             5.0   \n",
       "7813685     2299329      100006             -15            12.0   \n",
       "3226333     2299329      100006             -16            12.0   \n",
       "6415578     2299329      100006             -17            12.0   \n",
       "1632814     2299329      100006             -18            12.0   \n",
       "2084324     2299329      100006             -19            12.0   \n",
       "2692043     2299329      100006             -20             NaN   \n",
       "6935403     2190416      100006              -1            12.0   \n",
       "9549306     2190416      100006              -2            12.0   \n",
       "9112813     2190416      100006              -3            12.0   \n",
       "8423947     2190416      100006              -4            12.0   \n",
       "6407345     2190416      100006              -5            12.0   \n",
       "9600306     2190416      100006              -6            12.0   \n",
       "6832954     2190416      100006              -7            12.0   \n",
       "7098583     2190416      100006              -8            12.0   \n",
       "8301616     2190416      100006              -9            12.0   \n",
       "7902400     2190416      100006             -10            12.0   \n",
       "3527715     2078043      100006              -4             1.0   \n",
       "2299757     2078043      100006              -5             1.0   \n",
       "2809129     2078043      100006              -6            48.0   \n",
       "\n",
       "         CNT_INSTALMENT_FUTURE   NAME_CONTRACT_STATUS  SK_DPD  SK_DPD_DEF  \n",
       "9595258                    0.0              Completed       0           0  \n",
       "1547042                    0.0                 Active       0           0  \n",
       "7813685                    8.0                 Active       0           0  \n",
       "3226333                    9.0                 Active       0           0  \n",
       "6415578                   10.0                 Active       0           0  \n",
       "1632814                   11.0                 Active       0           0  \n",
       "2084324                   12.0                 Active       0           0  \n",
       "2692043                    NaN  Returned to the store       0           0  \n",
       "6935403                    3.0                 Active       0           0  \n",
       "9549306                    4.0                 Active       0           0  \n",
       "9112813                    5.0                 Active       0           0  \n",
       "8423947                    6.0                 Active       0           0  \n",
       "6407345                    7.0                 Active       0           0  \n",
       "9600306                    8.0                 Active       0           0  \n",
       "6832954                    9.0                 Active       0           0  \n",
       "7098583                   10.0                 Active       0           0  \n",
       "8301616                   11.0                 Active       0           0  \n",
       "7902400                   12.0                 Active       0           0  \n",
       "3527715                    0.0              Completed       0           0  \n",
       "2299757                    0.0                 Active       0           0  \n",
       "2809129                   48.0                 Active       0           0  "
      ]
     },
     "execution_count": 38,
     "metadata": {},
     "output_type": "execute_result"
    }
   ],
   "source": [
    "df_cash[df_cash[\"SK_ID_CURR\"] == curr_ids[3]].sort_values(\n",
    "    [\"SK_ID_PREV\", \"MONTHS_BALANCE\"], ascending=False\n",
    ")"
   ]
  },
  {
   "cell_type": "code",
   "execution_count": 39,
   "metadata": {},
   "outputs": [
    {
     "data": {
      "text/html": [
       "<div>\n",
       "<style scoped>\n",
       "    .dataframe tbody tr th:only-of-type {\n",
       "        vertical-align: middle;\n",
       "    }\n",
       "\n",
       "    .dataframe tbody tr th {\n",
       "        vertical-align: top;\n",
       "    }\n",
       "\n",
       "    .dataframe thead th {\n",
       "        text-align: right;\n",
       "    }\n",
       "</style>\n",
       "<table border=\"1\" class=\"dataframe\">\n",
       "  <thead>\n",
       "    <tr style=\"text-align: right;\">\n",
       "      <th></th>\n",
       "      <th>SK_ID_PREV</th>\n",
       "      <th>SK_ID_CURR</th>\n",
       "      <th>MONTHS_BALANCE</th>\n",
       "      <th>CNT_INSTALMENT</th>\n",
       "      <th>CNT_INSTALMENT_FUTURE</th>\n",
       "      <th>SK_DPD</th>\n",
       "      <th>SK_DPD_DEF</th>\n",
       "    </tr>\n",
       "  </thead>\n",
       "  <tbody>\n",
       "    <tr>\n",
       "      <th>count</th>\n",
       "      <td>8.117603e+06</td>\n",
       "      <td>8.117603e+06</td>\n",
       "      <td>8.117603e+06</td>\n",
       "      <td>8.096843e+06</td>\n",
       "      <td>8.096837e+06</td>\n",
       "      <td>8.117603e+06</td>\n",
       "      <td>8.117603e+06</td>\n",
       "    </tr>\n",
       "    <tr>\n",
       "      <th>mean</th>\n",
       "      <td>1.903733e+06</td>\n",
       "      <td>2.785095e+05</td>\n",
       "      <td>-3.493884e+01</td>\n",
       "      <td>1.703583e+01</td>\n",
       "      <td>1.047059e+01</td>\n",
       "      <td>1.184859e+01</td>\n",
       "      <td>6.076262e-01</td>\n",
       "    </tr>\n",
       "    <tr>\n",
       "      <th>std</th>\n",
       "      <td>5.359788e+05</td>\n",
       "      <td>1.027539e+05</td>\n",
       "      <td>2.605221e+01</td>\n",
       "      <td>1.200428e+01</td>\n",
       "      <td>1.114546e+01</td>\n",
       "      <td>1.335114e+02</td>\n",
       "      <td>3.118360e+01</td>\n",
       "    </tr>\n",
       "    <tr>\n",
       "      <th>min</th>\n",
       "      <td>1.000001e+06</td>\n",
       "      <td>1.000020e+05</td>\n",
       "      <td>-9.600000e+01</td>\n",
       "      <td>1.000000e+00</td>\n",
       "      <td>0.000000e+00</td>\n",
       "      <td>0.000000e+00</td>\n",
       "      <td>0.000000e+00</td>\n",
       "    </tr>\n",
       "    <tr>\n",
       "      <th>25%</th>\n",
       "      <td>1.434433e+06</td>\n",
       "      <td>1.895580e+05</td>\n",
       "      <td>-5.400000e+01</td>\n",
       "      <td>1.000000e+01</td>\n",
       "      <td>3.000000e+00</td>\n",
       "      <td>0.000000e+00</td>\n",
       "      <td>0.000000e+00</td>\n",
       "    </tr>\n",
       "    <tr>\n",
       "      <th>50%</th>\n",
       "      <td>1.897263e+06</td>\n",
       "      <td>2.788090e+05</td>\n",
       "      <td>-2.700000e+01</td>\n",
       "      <td>1.200000e+01</td>\n",
       "      <td>7.000000e+00</td>\n",
       "      <td>0.000000e+00</td>\n",
       "      <td>0.000000e+00</td>\n",
       "    </tr>\n",
       "    <tr>\n",
       "      <th>75%</th>\n",
       "      <td>2.369345e+06</td>\n",
       "      <td>3.674820e+05</td>\n",
       "      <td>-1.300000e+01</td>\n",
       "      <td>2.400000e+01</td>\n",
       "      <td>1.400000e+01</td>\n",
       "      <td>0.000000e+00</td>\n",
       "      <td>0.000000e+00</td>\n",
       "    </tr>\n",
       "    <tr>\n",
       "      <th>max</th>\n",
       "      <td>2.843499e+06</td>\n",
       "      <td>4.562550e+05</td>\n",
       "      <td>-1.000000e+00</td>\n",
       "      <td>8.400000e+01</td>\n",
       "      <td>8.400000e+01</td>\n",
       "      <td>4.050000e+03</td>\n",
       "      <td>3.373000e+03</td>\n",
       "    </tr>\n",
       "  </tbody>\n",
       "</table>\n",
       "</div>"
      ],
      "text/plain": [
       "         SK_ID_PREV    SK_ID_CURR  MONTHS_BALANCE  CNT_INSTALMENT  \\\n",
       "count  8.117603e+06  8.117603e+06    8.117603e+06    8.096843e+06   \n",
       "mean   1.903733e+06  2.785095e+05   -3.493884e+01    1.703583e+01   \n",
       "std    5.359788e+05  1.027539e+05    2.605221e+01    1.200428e+01   \n",
       "min    1.000001e+06  1.000020e+05   -9.600000e+01    1.000000e+00   \n",
       "25%    1.434433e+06  1.895580e+05   -5.400000e+01    1.000000e+01   \n",
       "50%    1.897263e+06  2.788090e+05   -2.700000e+01    1.200000e+01   \n",
       "75%    2.369345e+06  3.674820e+05   -1.300000e+01    2.400000e+01   \n",
       "max    2.843499e+06  4.562550e+05   -1.000000e+00    8.400000e+01   \n",
       "\n",
       "       CNT_INSTALMENT_FUTURE        SK_DPD    SK_DPD_DEF  \n",
       "count           8.096837e+06  8.117603e+06  8.117603e+06  \n",
       "mean            1.047059e+01  1.184859e+01  6.076262e-01  \n",
       "std             1.114546e+01  1.335114e+02  3.118360e+01  \n",
       "min             0.000000e+00  0.000000e+00  0.000000e+00  \n",
       "25%             3.000000e+00  0.000000e+00  0.000000e+00  \n",
       "50%             7.000000e+00  0.000000e+00  0.000000e+00  \n",
       "75%             1.400000e+01  0.000000e+00  0.000000e+00  \n",
       "max             8.400000e+01  4.050000e+03  3.373000e+03  "
      ]
     },
     "execution_count": 39,
     "metadata": {},
     "output_type": "execute_result"
    }
   ],
   "source": [
    "df_cash.describe()"
   ]
  },
  {
   "cell_type": "code",
   "execution_count": 43,
   "metadata": {},
   "outputs": [
    {
     "data": {
      "image/png": "[encoded data removed]",
      "text/plain": [
       "<Figure size 640x480 with 1 Axes>"
      ]
     },
     "metadata": {},
     "output_type": "display_data"
    }
   ],
   "source": [
    "sns.countplot(df_cash, y=\"NAME_CONTRACT_STATUS\", stat=\"percent\")\n",
    "functions.add_labels(fmt=\"%2.3f%%\")"
   ]
  },
  {
   "cell_type": "code",
   "execution_count": 47,
   "metadata": {},
   "outputs": [
    {
     "data": {
      "text/plain": [
       "<Axes: xlabel='SK_DPD', ylabel='Count'>"
      ]
     },
     "execution_count": 47,
     "metadata": {},
     "output_type": "execute_result"
    },
    {
     "data": {
      "image/png": "[encoded data removed]",
      "text/plain": [
       "<Figure size 640x480 with 1 Axes>"
      ]
     },
     "metadata": {},
     "output_type": "display_data"
    }
   ],
   "source": [
    "sns.histplot(df_cash[\"SK_DPD\"])"
   ]
  },
  {
   "cell_type": "code",
   "execution_count": 52,
   "metadata": {},
   "outputs": [
    {
     "data": {
      "image/png": "[encoded data removed]",
      "text/plain": [
       "<Figure size 640x480 with 1 Axes>"
      ]
     },
     "metadata": {},
     "output_type": "display_data"
    }
   ],
   "source": [
    "df_overdue = df_cash[[\"SK_DPD\", \"SK_DPD_DEF\"]].copy()\n",
    "df_overdue[\"is_overdue\"] = df_overdue[\"SK_DPD\"] > 0\n",
    "sns.countplot(df_overdue.fillna(\"NONE\"), x=\"is_overdue\", stat=\"percent\")\n",
    "functions.add_labels(fmt=\"%2.2f%%\")"
   ]
  },
  {
   "cell_type": "code",
   "execution_count": 46,
   "metadata": {},
   "outputs": [
    {
     "data": {
      "text/plain": [
       "<Axes: xlabel='SK_DPD_DEF', ylabel='Count'>"
      ]
     },
     "execution_count": 46,
     "metadata": {},
     "output_type": "execute_result"
    },
    {
     "data": {
      "image/png": "[encoded data removed]",
      "text/plain": [
       "<Figure size 640x480 with 1 Axes>"
      ]
     },
     "metadata": {},
     "output_type": "display_data"
    }
   ],
   "source": [
    "sns.histplot(df_cash[\"SK_DPD_DEF\"])"
   ]
  },
  {
   "cell_type": "code",
   "execution_count": 54,
   "metadata": {},
   "outputs": [
    {
     "data": {
      "image/png": "[encoded data removed]",
      "text/plain": [
       "<Figure size 640x480 with 1 Axes>"
      ]
     },
     "metadata": {},
     "output_type": "display_data"
    }
   ],
   "source": [
    "df_overdue[\"is_overdue_def\"] = df_overdue[\"SK_DPD_DEF\"] > 0\n",
    "sns.countplot(df_overdue.fillna(\"NONE\"), x=\"is_overdue_def\", stat=\"percent\")\n",
    "functions.add_labels(fmt=\"%2.2f%%\")"
   ]
  },
  {
   "cell_type": "markdown",
   "metadata": {},
   "source": [
    "Aggregations: count unique SK_ID_PREV, count active loans, overdue count sum max, installment max"
   ]
  },
  {
   "cell_type": "markdown",
   "metadata": {},
   "source": [
    "#### Aggregate the Table"
   ]
  },
  {
   "cell_type": "code",
   "execution_count": 7,
   "metadata": {},
   "outputs": [],
   "source": [
    "aggregates_cash = functions.aggregate_cash(df_cash)"
   ]
  },
  {
   "cell_type": "markdown",
   "metadata": {},
   "source": [
    "#### Explore Aggregations"
   ]
  },
  {
   "cell_type": "code",
   "execution_count": 22,
   "metadata": {},
   "outputs": [
    {
     "data": {
      "text/html": [
       "<div>\n",
       "<style scoped>\n",
       "    .dataframe tbody tr th:only-of-type {\n",
       "        vertical-align: middle;\n",
       "    }\n",
       "\n",
       "    .dataframe tbody tr th {\n",
       "        vertical-align: top;\n",
       "    }\n",
       "\n",
       "    .dataframe thead th {\n",
       "        text-align: right;\n",
       "    }\n",
       "</style>\n",
       "<table border=\"1\" class=\"dataframe\">\n",
       "  <thead>\n",
       "    <tr style=\"text-align: right;\">\n",
       "      <th></th>\n",
       "      <th>CASH_SK_ID_PREV_nunique</th>\n",
       "      <th>CASH_SK_ID_PREV_count</th>\n",
       "      <th>CASH_CNT_INSTALMENT_max</th>\n",
       "      <th>CASH_SK_DPD_mean</th>\n",
       "      <th>CASH_SK_DPD_max</th>\n",
       "    </tr>\n",
       "    <tr>\n",
       "      <th>SK_ID_CURR</th>\n",
       "      <th></th>\n",
       "      <th></th>\n",
       "      <th></th>\n",
       "      <th></th>\n",
       "      <th></th>\n",
       "    </tr>\n",
       "  </thead>\n",
       "  <tbody>\n",
       "    <tr>\n",
       "      <th>100002</th>\n",
       "      <td>1</td>\n",
       "      <td>19</td>\n",
       "      <td>24.0</td>\n",
       "      <td>0.000000</td>\n",
       "      <td>0</td>\n",
       "    </tr>\n",
       "    <tr>\n",
       "      <th>100003</th>\n",
       "      <td>3</td>\n",
       "      <td>28</td>\n",
       "      <td>12.0</td>\n",
       "      <td>0.000000</td>\n",
       "      <td>0</td>\n",
       "    </tr>\n",
       "    <tr>\n",
       "      <th>100006</th>\n",
       "      <td>3</td>\n",
       "      <td>21</td>\n",
       "      <td>48.0</td>\n",
       "      <td>0.000000</td>\n",
       "      <td>0</td>\n",
       "    </tr>\n",
       "    <tr>\n",
       "      <th>100007</th>\n",
       "      <td>5</td>\n",
       "      <td>66</td>\n",
       "      <td>24.0</td>\n",
       "      <td>0.000000</td>\n",
       "      <td>0</td>\n",
       "    </tr>\n",
       "    <tr>\n",
       "      <th>100008</th>\n",
       "      <td>4</td>\n",
       "      <td>83</td>\n",
       "      <td>30.0</td>\n",
       "      <td>339.060241</td>\n",
       "      <td>1294</td>\n",
       "    </tr>\n",
       "  </tbody>\n",
       "</table>\n",
       "</div>"
      ],
      "text/plain": [
       "            CASH_SK_ID_PREV_nunique  CASH_SK_ID_PREV_count  \\\n",
       "SK_ID_CURR                                                   \n",
       "100002                            1                     19   \n",
       "100003                            3                     28   \n",
       "100006                            3                     21   \n",
       "100007                            5                     66   \n",
       "100008                            4                     83   \n",
       "\n",
       "            CASH_CNT_INSTALMENT_max  CASH_SK_DPD_mean  CASH_SK_DPD_max  \n",
       "SK_ID_CURR                                                              \n",
       "100002                         24.0          0.000000                0  \n",
       "100003                         12.0          0.000000                0  \n",
       "100006                         48.0          0.000000                0  \n",
       "100007                         24.0          0.000000                0  \n",
       "100008                         30.0        339.060241             1294  "
      ]
     },
     "execution_count": 22,
     "metadata": {},
     "output_type": "execute_result"
    }
   ],
   "source": [
    "aggregates_cash.iloc[:5, :5]"
   ]
  },
  {
   "cell_type": "code",
   "execution_count": 23,
   "metadata": {},
   "outputs": [
    {
     "data": {
      "text/html": [
       "<div>\n",
       "<style scoped>\n",
       "    .dataframe tbody tr th:only-of-type {\n",
       "        vertical-align: middle;\n",
       "    }\n",
       "\n",
       "    .dataframe tbody tr th {\n",
       "        vertical-align: top;\n",
       "    }\n",
       "\n",
       "    .dataframe thead th {\n",
       "        text-align: right;\n",
       "    }\n",
       "</style>\n",
       "<table border=\"1\" class=\"dataframe\">\n",
       "  <thead>\n",
       "    <tr style=\"text-align: right;\">\n",
       "      <th></th>\n",
       "      <th>CASH_Has_overdue_sum</th>\n",
       "      <th>CASH_SK_DPD_DEF_mean</th>\n",
       "      <th>CASH_SK_DPD_DEF_max</th>\n",
       "      <th>CASH_Has_overdue_def_sum</th>\n",
       "      <th>CASH_Status_Active_count</th>\n",
       "    </tr>\n",
       "    <tr>\n",
       "      <th>SK_ID_CURR</th>\n",
       "      <th></th>\n",
       "      <th></th>\n",
       "      <th></th>\n",
       "      <th></th>\n",
       "      <th></th>\n",
       "    </tr>\n",
       "  </thead>\n",
       "  <tbody>\n",
       "    <tr>\n",
       "      <th>100002</th>\n",
       "      <td>0</td>\n",
       "      <td>0.0</td>\n",
       "      <td>0</td>\n",
       "      <td>0</td>\n",
       "      <td>1.0</td>\n",
       "    </tr>\n",
       "    <tr>\n",
       "      <th>100003</th>\n",
       "      <td>0</td>\n",
       "      <td>0.0</td>\n",
       "      <td>0</td>\n",
       "      <td>0</td>\n",
       "      <td>NaN</td>\n",
       "    </tr>\n",
       "    <tr>\n",
       "      <th>100006</th>\n",
       "      <td>0</td>\n",
       "      <td>0.0</td>\n",
       "      <td>0</td>\n",
       "      <td>0</td>\n",
       "      <td>1.0</td>\n",
       "    </tr>\n",
       "    <tr>\n",
       "      <th>100007</th>\n",
       "      <td>0</td>\n",
       "      <td>0.0</td>\n",
       "      <td>0</td>\n",
       "      <td>0</td>\n",
       "      <td>1.0</td>\n",
       "    </tr>\n",
       "    <tr>\n",
       "      <th>100008</th>\n",
       "      <td>43</td>\n",
       "      <td>0.0</td>\n",
       "      <td>0</td>\n",
       "      <td>0</td>\n",
       "      <td>NaN</td>\n",
       "    </tr>\n",
       "  </tbody>\n",
       "</table>\n",
       "</div>"
      ],
      "text/plain": [
       "            CASH_Has_overdue_sum  CASH_SK_DPD_DEF_mean  CASH_SK_DPD_DEF_max  \\\n",
       "SK_ID_CURR                                                                    \n",
       "100002                         0                   0.0                    0   \n",
       "100003                         0                   0.0                    0   \n",
       "100006                         0                   0.0                    0   \n",
       "100007                         0                   0.0                    0   \n",
       "100008                        43                   0.0                    0   \n",
       "\n",
       "            CASH_Has_overdue_def_sum  CASH_Status_Active_count  \n",
       "SK_ID_CURR                                                      \n",
       "100002                             0                       1.0  \n",
       "100003                             0                       NaN  \n",
       "100006                             0                       1.0  \n",
       "100007                             0                       1.0  \n",
       "100008                             0                       NaN  "
      ]
     },
     "execution_count": 23,
     "metadata": {},
     "output_type": "execute_result"
    }
   ],
   "source": [
    "aggregates_cash.iloc[:5, 5:]"
   ]
  },
  {
   "cell_type": "code",
   "execution_count": 24,
   "metadata": {},
   "outputs": [
    {
     "data": {
      "text/plain": [
       "count    61394.000000\n",
       "mean         1.163404\n",
       "std          0.411320\n",
       "min          1.000000\n",
       "25%          1.000000\n",
       "50%          1.000000\n",
       "75%          1.000000\n",
       "max          4.000000\n",
       "Name: CASH_Status_Active_count, dtype: float64"
      ]
     },
     "execution_count": 24,
     "metadata": {},
     "output_type": "execute_result"
    }
   ],
   "source": [
    "aggregates_cash[\"CASH_Status_Active_count\"].describe()"
   ]
  },
  {
   "cell_type": "markdown",
   "metadata": {},
   "source": [
    "good question - how to handle NAs in aggregations? ie for Status_Active_count feature, the aggregations that have NaN actually should have \"0\", but later when we merge with the main table new NAs will appear because they never had a previous loan with Home Credit company."
   ]
  },
  {
   "cell_type": "markdown",
   "metadata": {},
   "source": [
    "### Aggregating df_inst Table"
   ]
  },
  {
   "cell_type": "markdown",
   "metadata": {},
   "source": [
    "#### Explore the Table"
   ]
  },
  {
   "cell_type": "code",
   "execution_count": 109,
   "metadata": {},
   "outputs": [
    {
     "data": {
      "text/html": [
       "<div>\n",
       "<style scoped>\n",
       "    .dataframe tbody tr th:only-of-type {\n",
       "        vertical-align: middle;\n",
       "    }\n",
       "\n",
       "    .dataframe tbody tr th {\n",
       "        vertical-align: top;\n",
       "    }\n",
       "\n",
       "    .dataframe thead th {\n",
       "        text-align: right;\n",
       "    }\n",
       "</style>\n",
       "<table border=\"1\" class=\"dataframe\">\n",
       "  <thead>\n",
       "    <tr style=\"text-align: right;\">\n",
       "      <th></th>\n",
       "      <th>SK_ID_PREV</th>\n",
       "      <th>SK_ID_CURR</th>\n",
       "      <th>NUM_INSTALMENT_VERSION</th>\n",
       "      <th>NUM_INSTALMENT_NUMBER</th>\n",
       "      <th>DAYS_INSTALMENT</th>\n",
       "      <th>DAYS_ENTRY_PAYMENT</th>\n",
       "      <th>AMT_INSTALMENT</th>\n",
       "      <th>AMT_PAYMENT</th>\n",
       "    </tr>\n",
       "  </thead>\n",
       "  <tbody>\n",
       "    <tr>\n",
       "      <th>7186341</th>\n",
       "      <td>2478179</td>\n",
       "      <td>202625</td>\n",
       "      <td>1.0</td>\n",
       "      <td>1</td>\n",
       "      <td>-2435.0</td>\n",
       "      <td>-2443.0</td>\n",
       "      <td>4138.740</td>\n",
       "      <td>4138.740</td>\n",
       "    </tr>\n",
       "    <tr>\n",
       "      <th>6355399</th>\n",
       "      <td>2510003</td>\n",
       "      <td>281760</td>\n",
       "      <td>1.0</td>\n",
       "      <td>16</td>\n",
       "      <td>-84.0</td>\n",
       "      <td>-94.0</td>\n",
       "      <td>57330.000</td>\n",
       "      <td>57330.000</td>\n",
       "    </tr>\n",
       "    <tr>\n",
       "      <th>2587091</th>\n",
       "      <td>2805701</td>\n",
       "      <td>117190</td>\n",
       "      <td>1.0</td>\n",
       "      <td>9</td>\n",
       "      <td>-1010.0</td>\n",
       "      <td>-1020.0</td>\n",
       "      <td>23055.750</td>\n",
       "      <td>23055.750</td>\n",
       "    </tr>\n",
       "    <tr>\n",
       "      <th>1569197</th>\n",
       "      <td>1983707</td>\n",
       "      <td>159755</td>\n",
       "      <td>0.0</td>\n",
       "      <td>53</td>\n",
       "      <td>-1264.0</td>\n",
       "      <td>-1264.0</td>\n",
       "      <td>31.905</td>\n",
       "      <td>31.905</td>\n",
       "    </tr>\n",
       "    <tr>\n",
       "      <th>7971186</th>\n",
       "      <td>1964279</td>\n",
       "      <td>386486</td>\n",
       "      <td>0.0</td>\n",
       "      <td>58</td>\n",
       "      <td>-295.0</td>\n",
       "      <td>-299.0</td>\n",
       "      <td>18235.575</td>\n",
       "      <td>18235.575</td>\n",
       "    </tr>\n",
       "  </tbody>\n",
       "</table>\n",
       "</div>"
      ],
      "text/plain": [
       "         SK_ID_PREV  SK_ID_CURR  NUM_INSTALMENT_VERSION  \\\n",
       "7186341     2478179      202625                     1.0   \n",
       "6355399     2510003      281760                     1.0   \n",
       "2587091     2805701      117190                     1.0   \n",
       "1569197     1983707      159755                     0.0   \n",
       "7971186     1964279      386486                     0.0   \n",
       "\n",
       "         NUM_INSTALMENT_NUMBER  DAYS_INSTALMENT  DAYS_ENTRY_PAYMENT  \\\n",
       "7186341                      1          -2435.0             -2443.0   \n",
       "6355399                     16            -84.0               -94.0   \n",
       "2587091                      9          -1010.0             -1020.0   \n",
       "1569197                     53          -1264.0             -1264.0   \n",
       "7971186                     58           -295.0              -299.0   \n",
       "\n",
       "         AMT_INSTALMENT  AMT_PAYMENT  \n",
       "7186341        4138.740     4138.740  \n",
       "6355399       57330.000    57330.000  \n",
       "2587091       23055.750    23055.750  \n",
       "1569197          31.905       31.905  \n",
       "7971186       18235.575    18235.575  "
      ]
     },
     "execution_count": 109,
     "metadata": {},
     "output_type": "execute_result"
    }
   ],
   "source": [
    "df_inst.sample(5, random_state=42)"
   ]
  },
  {
   "cell_type": "code",
   "execution_count": 114,
   "metadata": {},
   "outputs": [
    {
     "data": {
      "text/html": [
       "<div>\n",
       "<style scoped>\n",
       "    .dataframe tbody tr th:only-of-type {\n",
       "        vertical-align: middle;\n",
       "    }\n",
       "\n",
       "    .dataframe tbody tr th {\n",
       "        vertical-align: top;\n",
       "    }\n",
       "\n",
       "    .dataframe thead th {\n",
       "        text-align: right;\n",
       "    }\n",
       "</style>\n",
       "<table border=\"1\" class=\"dataframe\">\n",
       "  <thead>\n",
       "    <tr style=\"text-align: right;\">\n",
       "      <th></th>\n",
       "      <th>SK_ID_PREV</th>\n",
       "      <th>SK_ID_CURR</th>\n",
       "      <th>NUM_INSTALMENT_VERSION</th>\n",
       "      <th>NUM_INSTALMENT_NUMBER</th>\n",
       "      <th>DAYS_INSTALMENT</th>\n",
       "      <th>DAYS_ENTRY_PAYMENT</th>\n",
       "      <th>AMT_INSTALMENT</th>\n",
       "      <th>AMT_PAYMENT</th>\n",
       "    </tr>\n",
       "  </thead>\n",
       "  <tbody>\n",
       "    <tr>\n",
       "      <th>1022507</th>\n",
       "      <td>2299329</td>\n",
       "      <td>100006</td>\n",
       "      <td>2.0</td>\n",
       "      <td>5</td>\n",
       "      <td>-425.0</td>\n",
       "      <td>-438.0</td>\n",
       "      <td>15159.645</td>\n",
       "      <td>15159.645</td>\n",
       "    </tr>\n",
       "    <tr>\n",
       "      <th>1229699</th>\n",
       "      <td>2299329</td>\n",
       "      <td>100006</td>\n",
       "      <td>1.0</td>\n",
       "      <td>4</td>\n",
       "      <td>-455.0</td>\n",
       "      <td>-530.0</td>\n",
       "      <td>2482.920</td>\n",
       "      <td>2482.920</td>\n",
       "    </tr>\n",
       "    <tr>\n",
       "      <th>529435</th>\n",
       "      <td>2299329</td>\n",
       "      <td>100006</td>\n",
       "      <td>1.0</td>\n",
       "      <td>3</td>\n",
       "      <td>-485.0</td>\n",
       "      <td>-562.0</td>\n",
       "      <td>2482.920</td>\n",
       "      <td>2482.920</td>\n",
       "    </tr>\n",
       "    <tr>\n",
       "      <th>3314736</th>\n",
       "      <td>2299329</td>\n",
       "      <td>100006</td>\n",
       "      <td>1.0</td>\n",
       "      <td>2</td>\n",
       "      <td>-515.0</td>\n",
       "      <td>-562.0</td>\n",
       "      <td>2482.920</td>\n",
       "      <td>2482.920</td>\n",
       "    </tr>\n",
       "    <tr>\n",
       "      <th>2286726</th>\n",
       "      <td>2299329</td>\n",
       "      <td>100006</td>\n",
       "      <td>1.0</td>\n",
       "      <td>1</td>\n",
       "      <td>-545.0</td>\n",
       "      <td>-575.0</td>\n",
       "      <td>2482.920</td>\n",
       "      <td>2482.920</td>\n",
       "    </tr>\n",
       "    <tr>\n",
       "      <th>2574414</th>\n",
       "      <td>2190416</td>\n",
       "      <td>100006</td>\n",
       "      <td>1.0</td>\n",
       "      <td>10</td>\n",
       "      <td>-11.0</td>\n",
       "      <td>-12.0</td>\n",
       "      <td>29027.520</td>\n",
       "      <td>29027.520</td>\n",
       "    </tr>\n",
       "    <tr>\n",
       "      <th>3615701</th>\n",
       "      <td>2190416</td>\n",
       "      <td>100006</td>\n",
       "      <td>1.0</td>\n",
       "      <td>9</td>\n",
       "      <td>-41.0</td>\n",
       "      <td>-42.0</td>\n",
       "      <td>29027.520</td>\n",
       "      <td>29027.520</td>\n",
       "    </tr>\n",
       "    <tr>\n",
       "      <th>2388586</th>\n",
       "      <td>2190416</td>\n",
       "      <td>100006</td>\n",
       "      <td>1.0</td>\n",
       "      <td>8</td>\n",
       "      <td>-71.0</td>\n",
       "      <td>-72.0</td>\n",
       "      <td>29027.520</td>\n",
       "      <td>29027.520</td>\n",
       "    </tr>\n",
       "    <tr>\n",
       "      <th>218921</th>\n",
       "      <td>2190416</td>\n",
       "      <td>100006</td>\n",
       "      <td>1.0</td>\n",
       "      <td>7</td>\n",
       "      <td>-101.0</td>\n",
       "      <td>-104.0</td>\n",
       "      <td>29027.520</td>\n",
       "      <td>29027.520</td>\n",
       "    </tr>\n",
       "    <tr>\n",
       "      <th>670558</th>\n",
       "      <td>2190416</td>\n",
       "      <td>100006</td>\n",
       "      <td>1.0</td>\n",
       "      <td>6</td>\n",
       "      <td>-131.0</td>\n",
       "      <td>-138.0</td>\n",
       "      <td>29027.520</td>\n",
       "      <td>29027.520</td>\n",
       "    </tr>\n",
       "    <tr>\n",
       "      <th>3416410</th>\n",
       "      <td>2190416</td>\n",
       "      <td>100006</td>\n",
       "      <td>1.0</td>\n",
       "      <td>5</td>\n",
       "      <td>-161.0</td>\n",
       "      <td>-174.0</td>\n",
       "      <td>29027.520</td>\n",
       "      <td>29027.520</td>\n",
       "    </tr>\n",
       "    <tr>\n",
       "      <th>1758076</th>\n",
       "      <td>2190416</td>\n",
       "      <td>100006</td>\n",
       "      <td>1.0</td>\n",
       "      <td>4</td>\n",
       "      <td>-191.0</td>\n",
       "      <td>-196.0</td>\n",
       "      <td>29027.520</td>\n",
       "      <td>29027.520</td>\n",
       "    </tr>\n",
       "    <tr>\n",
       "      <th>100902</th>\n",
       "      <td>2190416</td>\n",
       "      <td>100006</td>\n",
       "      <td>1.0</td>\n",
       "      <td>3</td>\n",
       "      <td>-221.0</td>\n",
       "      <td>-226.0</td>\n",
       "      <td>29027.520</td>\n",
       "      <td>29027.520</td>\n",
       "    </tr>\n",
       "    <tr>\n",
       "      <th>2008485</th>\n",
       "      <td>2190416</td>\n",
       "      <td>100006</td>\n",
       "      <td>1.0</td>\n",
       "      <td>2</td>\n",
       "      <td>-251.0</td>\n",
       "      <td>-256.0</td>\n",
       "      <td>29027.520</td>\n",
       "      <td>29027.520</td>\n",
       "    </tr>\n",
       "    <tr>\n",
       "      <th>3181368</th>\n",
       "      <td>2190416</td>\n",
       "      <td>100006</td>\n",
       "      <td>1.0</td>\n",
       "      <td>1</td>\n",
       "      <td>-281.0</td>\n",
       "      <td>-285.0</td>\n",
       "      <td>29027.520</td>\n",
       "      <td>29027.520</td>\n",
       "    </tr>\n",
       "    <tr>\n",
       "      <th>681160</th>\n",
       "      <td>2078043</td>\n",
       "      <td>100006</td>\n",
       "      <td>2.0</td>\n",
       "      <td>1</td>\n",
       "      <td>-151.0</td>\n",
       "      <td>-174.0</td>\n",
       "      <td>691786.890</td>\n",
       "      <td>691786.890</td>\n",
       "    </tr>\n",
       "  </tbody>\n",
       "</table>\n",
       "</div>"
      ],
      "text/plain": [
       "         SK_ID_PREV  SK_ID_CURR  NUM_INSTALMENT_VERSION  \\\n",
       "1022507     2299329      100006                     2.0   \n",
       "1229699     2299329      100006                     1.0   \n",
       "529435      2299329      100006                     1.0   \n",
       "3314736     2299329      100006                     1.0   \n",
       "2286726     2299329      100006                     1.0   \n",
       "2574414     2190416      100006                     1.0   \n",
       "3615701     2190416      100006                     1.0   \n",
       "2388586     2190416      100006                     1.0   \n",
       "218921      2190416      100006                     1.0   \n",
       "670558      2190416      100006                     1.0   \n",
       "3416410     2190416      100006                     1.0   \n",
       "1758076     2190416      100006                     1.0   \n",
       "100902      2190416      100006                     1.0   \n",
       "2008485     2190416      100006                     1.0   \n",
       "3181368     2190416      100006                     1.0   \n",
       "681160      2078043      100006                     2.0   \n",
       "\n",
       "         NUM_INSTALMENT_NUMBER  DAYS_INSTALMENT  DAYS_ENTRY_PAYMENT  \\\n",
       "1022507                      5           -425.0              -438.0   \n",
       "1229699                      4           -455.0              -530.0   \n",
       "529435                       3           -485.0              -562.0   \n",
       "3314736                      2           -515.0              -562.0   \n",
       "2286726                      1           -545.0              -575.0   \n",
       "2574414                     10            -11.0               -12.0   \n",
       "3615701                      9            -41.0               -42.0   \n",
       "2388586                      8            -71.0               -72.0   \n",
       "218921                       7           -101.0              -104.0   \n",
       "670558                       6           -131.0              -138.0   \n",
       "3416410                      5           -161.0              -174.0   \n",
       "1758076                      4           -191.0              -196.0   \n",
       "100902                       3           -221.0              -226.0   \n",
       "2008485                      2           -251.0              -256.0   \n",
       "3181368                      1           -281.0              -285.0   \n",
       "681160                       1           -151.0              -174.0   \n",
       "\n",
       "         AMT_INSTALMENT  AMT_PAYMENT  \n",
       "1022507       15159.645    15159.645  \n",
       "1229699        2482.920     2482.920  \n",
       "529435         2482.920     2482.920  \n",
       "3314736        2482.920     2482.920  \n",
       "2286726        2482.920     2482.920  \n",
       "2574414       29027.520    29027.520  \n",
       "3615701       29027.520    29027.520  \n",
       "2388586       29027.520    29027.520  \n",
       "218921        29027.520    29027.520  \n",
       "670558        29027.520    29027.520  \n",
       "3416410       29027.520    29027.520  \n",
       "1758076       29027.520    29027.520  \n",
       "100902        29027.520    29027.520  \n",
       "2008485       29027.520    29027.520  \n",
       "3181368       29027.520    29027.520  \n",
       "681160       691786.890   691786.890  "
      ]
     },
     "execution_count": 114,
     "metadata": {},
     "output_type": "execute_result"
    }
   ],
   "source": [
    "df_inst[df_inst[\"SK_ID_CURR\"] == curr_ids[3]].sort_values(\n",
    "    [\"SK_ID_PREV\", \"NUM_INSTALMENT_NUMBER\"], ascending=False\n",
    ")"
   ]
  },
  {
   "cell_type": "code",
   "execution_count": 118,
   "metadata": {},
   "outputs": [
    {
     "data": {
      "text/plain": [
       "NUM_INSTALMENT_VERSION\n",
       "1.0    6903773\n",
       "0.0    3288518\n",
       "2.0     498167\n",
       "3.0     184775\n",
       "4.0      42806\n",
       "5.0      37340\n",
       "6.0      13211\n",
       "7.0      12727\n",
       "9.0       6253\n",
       "8.0       5990\n",
       "Name: count, dtype: int64"
      ]
     },
     "execution_count": 118,
     "metadata": {},
     "output_type": "execute_result"
    }
   ],
   "source": [
    "df_inst[\"NUM_INSTALMENT_VERSION\"].value_counts().head(10)"
   ]
  },
  {
   "cell_type": "markdown",
   "metadata": {},
   "source": [
    "Too many different variants to aggregate."
   ]
  },
  {
   "cell_type": "markdown",
   "metadata": {},
   "source": [
    "aggregations: create (days_installment - days_entry_payment) feature, take mean max min; amt - mean max."
   ]
  },
  {
   "cell_type": "markdown",
   "metadata": {},
   "source": [
    "#### Aggregate the Table"
   ]
  },
  {
   "cell_type": "code",
   "execution_count": 8,
   "metadata": {},
   "outputs": [],
   "source": [
    "aggregates_inst = functions.aggregate_inst(df_inst)"
   ]
  },
  {
   "cell_type": "markdown",
   "metadata": {},
   "source": [
    "### Aggregating df_cred Table"
   ]
  },
  {
   "cell_type": "markdown",
   "metadata": {},
   "source": [
    "#### Explore the Table"
   ]
  },
  {
   "cell_type": "code",
   "execution_count": 171,
   "metadata": {},
   "outputs": [
    {
     "data": {
      "text/html": [
       "<div>\n",
       "<style scoped>\n",
       "    .dataframe tbody tr th:only-of-type {\n",
       "        vertical-align: middle;\n",
       "    }\n",
       "\n",
       "    .dataframe tbody tr th {\n",
       "        vertical-align: top;\n",
       "    }\n",
       "\n",
       "    .dataframe thead th {\n",
       "        text-align: right;\n",
       "    }\n",
       "</style>\n",
       "<table border=\"1\" class=\"dataframe\">\n",
       "  <thead>\n",
       "    <tr style=\"text-align: right;\">\n",
       "      <th></th>\n",
       "      <th>SK_ID_PREV</th>\n",
       "      <th>SK_ID_CURR</th>\n",
       "      <th>MONTHS_BALANCE</th>\n",
       "      <th>AMT_BALANCE</th>\n",
       "      <th>AMT_CREDIT_LIMIT_ACTUAL</th>\n",
       "      <th>AMT_DRAWINGS_ATM_CURRENT</th>\n",
       "      <th>AMT_DRAWINGS_CURRENT</th>\n",
       "    </tr>\n",
       "  </thead>\n",
       "  <tbody>\n",
       "    <tr>\n",
       "      <th>3802026</th>\n",
       "      <td>2248472</td>\n",
       "      <td>455333</td>\n",
       "      <td>-2</td>\n",
       "      <td>0.0</td>\n",
       "      <td>0</td>\n",
       "      <td>0.0</td>\n",
       "      <td>0.0</td>\n",
       "    </tr>\n",
       "    <tr>\n",
       "      <th>2675024</th>\n",
       "      <td>2248472</td>\n",
       "      <td>455333</td>\n",
       "      <td>-3</td>\n",
       "      <td>0.0</td>\n",
       "      <td>0</td>\n",
       "      <td>0.0</td>\n",
       "      <td>0.0</td>\n",
       "    </tr>\n",
       "    <tr>\n",
       "      <th>75645</th>\n",
       "      <td>2248472</td>\n",
       "      <td>455333</td>\n",
       "      <td>-4</td>\n",
       "      <td>0.0</td>\n",
       "      <td>0</td>\n",
       "      <td>0.0</td>\n",
       "      <td>0.0</td>\n",
       "    </tr>\n",
       "  </tbody>\n",
       "</table>\n",
       "</div>"
      ],
      "text/plain": [
       "         SK_ID_PREV  SK_ID_CURR  MONTHS_BALANCE  AMT_BALANCE  \\\n",
       "3802026     2248472      455333              -2          0.0   \n",
       "2675024     2248472      455333              -3          0.0   \n",
       "75645       2248472      455333              -4          0.0   \n",
       "\n",
       "         AMT_CREDIT_LIMIT_ACTUAL  AMT_DRAWINGS_ATM_CURRENT  \\\n",
       "3802026                        0                       0.0   \n",
       "2675024                        0                       0.0   \n",
       "75645                          0                       0.0   \n",
       "\n",
       "         AMT_DRAWINGS_CURRENT  \n",
       "3802026                   0.0  \n",
       "2675024                   0.0  \n",
       "75645                     0.0  "
      ]
     },
     "metadata": {},
     "output_type": "display_data"
    },
    {
     "data": {
      "text/html": [
       "<div>\n",
       "<style scoped>\n",
       "    .dataframe tbody tr th:only-of-type {\n",
       "        vertical-align: middle;\n",
       "    }\n",
       "\n",
       "    .dataframe tbody tr th {\n",
       "        vertical-align: top;\n",
       "    }\n",
       "\n",
       "    .dataframe thead th {\n",
       "        text-align: right;\n",
       "    }\n",
       "</style>\n",
       "<table border=\"1\" class=\"dataframe\">\n",
       "  <thead>\n",
       "    <tr style=\"text-align: right;\">\n",
       "      <th></th>\n",
       "      <th>SK_ID_PREV</th>\n",
       "      <th>SK_ID_CURR</th>\n",
       "      <th>MONTHS_BALANCE</th>\n",
       "      <th>AMT_BALANCE</th>\n",
       "      <th>AMT_CREDIT_LIMIT_ACTUAL</th>\n",
       "      <th>AMT_DRAWINGS_ATM_CURRENT</th>\n",
       "      <th>AMT_DRAWINGS_CURRENT</th>\n",
       "    </tr>\n",
       "  </thead>\n",
       "  <tbody>\n",
       "    <tr>\n",
       "      <th>1134179</th>\n",
       "      <td>2248472</td>\n",
       "      <td>455333</td>\n",
       "      <td>-32</td>\n",
       "      <td>113865.480</td>\n",
       "      <td>112500</td>\n",
       "      <td>0.0</td>\n",
       "      <td>0.0</td>\n",
       "    </tr>\n",
       "    <tr>\n",
       "      <th>1764928</th>\n",
       "      <td>2248472</td>\n",
       "      <td>455333</td>\n",
       "      <td>-33</td>\n",
       "      <td>122324.310</td>\n",
       "      <td>112500</td>\n",
       "      <td>0.0</td>\n",
       "      <td>0.0</td>\n",
       "    </tr>\n",
       "    <tr>\n",
       "      <th>1656899</th>\n",
       "      <td>2248472</td>\n",
       "      <td>455333</td>\n",
       "      <td>-34</td>\n",
       "      <td>118925.955</td>\n",
       "      <td>112500</td>\n",
       "      <td>112050.0</td>\n",
       "      <td>112050.0</td>\n",
       "    </tr>\n",
       "  </tbody>\n",
       "</table>\n",
       "</div>"
      ],
      "text/plain": [
       "         SK_ID_PREV  SK_ID_CURR  MONTHS_BALANCE  AMT_BALANCE  \\\n",
       "1134179     2248472      455333             -32   113865.480   \n",
       "1764928     2248472      455333             -33   122324.310   \n",
       "1656899     2248472      455333             -34   118925.955   \n",
       "\n",
       "         AMT_CREDIT_LIMIT_ACTUAL  AMT_DRAWINGS_ATM_CURRENT  \\\n",
       "1134179                   112500                       0.0   \n",
       "1764928                   112500                       0.0   \n",
       "1656899                   112500                  112050.0   \n",
       "\n",
       "         AMT_DRAWINGS_CURRENT  \n",
       "1134179                   0.0  \n",
       "1764928                   0.0  \n",
       "1656899              112050.0  "
      ]
     },
     "execution_count": 171,
     "metadata": {},
     "output_type": "execute_result"
    }
   ],
   "source": [
    "good_sample_id = df_cred.dropna()[\"SK_ID_CURR\"].sample(1, random_state=49)\n",
    "good_sample = df_cred[df_cred[\"SK_ID_CURR\"] == good_sample_id.values[0]]\n",
    "good_sample = good_sample.sort_values(\"MONTHS_BALANCE\", ascending=False)\n",
    "display(good_sample.iloc[:3, :7])\n",
    "good_sample.iloc[-3:, :7]"
   ]
  },
  {
   "cell_type": "code",
   "execution_count": 174,
   "metadata": {},
   "outputs": [
    {
     "data": {
      "text/html": [
       "<div>\n",
       "<style scoped>\n",
       "    .dataframe tbody tr th:only-of-type {\n",
       "        vertical-align: middle;\n",
       "    }\n",
       "\n",
       "    .dataframe tbody tr th {\n",
       "        vertical-align: top;\n",
       "    }\n",
       "\n",
       "    .dataframe thead th {\n",
       "        text-align: right;\n",
       "    }\n",
       "</style>\n",
       "<table border=\"1\" class=\"dataframe\">\n",
       "  <thead>\n",
       "    <tr style=\"text-align: right;\">\n",
       "      <th></th>\n",
       "      <th>AMT_DRAWINGS_OTHER_CURRENT</th>\n",
       "      <th>AMT_DRAWINGS_POS_CURRENT</th>\n",
       "      <th>AMT_INST_MIN_REGULARITY</th>\n",
       "      <th>AMT_PAYMENT_CURRENT</th>\n",
       "      <th>AMT_PAYMENT_TOTAL_CURRENT</th>\n",
       "    </tr>\n",
       "  </thead>\n",
       "  <tbody>\n",
       "    <tr>\n",
       "      <th>3802026</th>\n",
       "      <td>0.0</td>\n",
       "      <td>0.0</td>\n",
       "      <td>0.0</td>\n",
       "      <td>0.0</td>\n",
       "      <td>0.0</td>\n",
       "    </tr>\n",
       "    <tr>\n",
       "      <th>2675024</th>\n",
       "      <td>0.0</td>\n",
       "      <td>0.0</td>\n",
       "      <td>0.0</td>\n",
       "      <td>0.0</td>\n",
       "      <td>0.0</td>\n",
       "    </tr>\n",
       "    <tr>\n",
       "      <th>75645</th>\n",
       "      <td>0.0</td>\n",
       "      <td>0.0</td>\n",
       "      <td>0.0</td>\n",
       "      <td>0.0</td>\n",
       "      <td>0.0</td>\n",
       "    </tr>\n",
       "  </tbody>\n",
       "</table>\n",
       "</div>"
      ],
      "text/plain": [
       "         AMT_DRAWINGS_OTHER_CURRENT  AMT_DRAWINGS_POS_CURRENT  \\\n",
       "3802026                         0.0                       0.0   \n",
       "2675024                         0.0                       0.0   \n",
       "75645                           0.0                       0.0   \n",
       "\n",
       "         AMT_INST_MIN_REGULARITY  AMT_PAYMENT_CURRENT  \\\n",
       "3802026                      0.0                  0.0   \n",
       "2675024                      0.0                  0.0   \n",
       "75645                        0.0                  0.0   \n",
       "\n",
       "         AMT_PAYMENT_TOTAL_CURRENT  \n",
       "3802026                        0.0  \n",
       "2675024                        0.0  \n",
       "75645                          0.0  "
      ]
     },
     "metadata": {},
     "output_type": "display_data"
    },
    {
     "data": {
      "text/html": [
       "<div>\n",
       "<style scoped>\n",
       "    .dataframe tbody tr th:only-of-type {\n",
       "        vertical-align: middle;\n",
       "    }\n",
       "\n",
       "    .dataframe tbody tr th {\n",
       "        vertical-align: top;\n",
       "    }\n",
       "\n",
       "    .dataframe thead th {\n",
       "        text-align: right;\n",
       "    }\n",
       "</style>\n",
       "<table border=\"1\" class=\"dataframe\">\n",
       "  <thead>\n",
       "    <tr style=\"text-align: right;\">\n",
       "      <th></th>\n",
       "      <th>AMT_DRAWINGS_OTHER_CURRENT</th>\n",
       "      <th>AMT_DRAWINGS_POS_CURRENT</th>\n",
       "      <th>AMT_INST_MIN_REGULARITY</th>\n",
       "      <th>AMT_PAYMENT_CURRENT</th>\n",
       "      <th>AMT_PAYMENT_TOTAL_CURRENT</th>\n",
       "    </tr>\n",
       "  </thead>\n",
       "  <tbody>\n",
       "    <tr>\n",
       "      <th>1134179</th>\n",
       "      <td>0.0</td>\n",
       "      <td>0.0</td>\n",
       "      <td>6025.59</td>\n",
       "      <td>11970.0</td>\n",
       "      <td>6078.24</td>\n",
       "    </tr>\n",
       "    <tr>\n",
       "      <th>1764928</th>\n",
       "      <td>0.0</td>\n",
       "      <td>0.0</td>\n",
       "      <td>6160.50</td>\n",
       "      <td>0.0</td>\n",
       "      <td>0.00</td>\n",
       "    </tr>\n",
       "    <tr>\n",
       "      <th>1656899</th>\n",
       "      <td>0.0</td>\n",
       "      <td>0.0</td>\n",
       "      <td>NaN</td>\n",
       "      <td>6210.0</td>\n",
       "      <td>49.50</td>\n",
       "    </tr>\n",
       "  </tbody>\n",
       "</table>\n",
       "</div>"
      ],
      "text/plain": [
       "         AMT_DRAWINGS_OTHER_CURRENT  AMT_DRAWINGS_POS_CURRENT  \\\n",
       "1134179                         0.0                       0.0   \n",
       "1764928                         0.0                       0.0   \n",
       "1656899                         0.0                       0.0   \n",
       "\n",
       "         AMT_INST_MIN_REGULARITY  AMT_PAYMENT_CURRENT  \\\n",
       "1134179                  6025.59              11970.0   \n",
       "1764928                  6160.50                  0.0   \n",
       "1656899                      NaN               6210.0   \n",
       "\n",
       "         AMT_PAYMENT_TOTAL_CURRENT  \n",
       "1134179                    6078.24  \n",
       "1764928                       0.00  \n",
       "1656899                      49.50  "
      ]
     },
     "execution_count": 174,
     "metadata": {},
     "output_type": "execute_result"
    }
   ],
   "source": [
    "display(good_sample.iloc[:3, 7:12])\n",
    "good_sample.iloc[-3:, 7:12]"
   ]
  },
  {
   "cell_type": "code",
   "execution_count": 175,
   "metadata": {},
   "outputs": [
    {
     "data": {
      "text/html": [
       "<div>\n",
       "<style scoped>\n",
       "    .dataframe tbody tr th:only-of-type {\n",
       "        vertical-align: middle;\n",
       "    }\n",
       "\n",
       "    .dataframe tbody tr th {\n",
       "        vertical-align: top;\n",
       "    }\n",
       "\n",
       "    .dataframe thead th {\n",
       "        text-align: right;\n",
       "    }\n",
       "</style>\n",
       "<table border=\"1\" class=\"dataframe\">\n",
       "  <thead>\n",
       "    <tr style=\"text-align: right;\">\n",
       "      <th></th>\n",
       "      <th>AMT_RECEIVABLE_PRINCIPAL</th>\n",
       "      <th>AMT_RECIVABLE</th>\n",
       "      <th>AMT_TOTAL_RECEIVABLE</th>\n",
       "      <th>CNT_DRAWINGS_ATM_CURRENT</th>\n",
       "      <th>CNT_DRAWINGS_CURRENT</th>\n",
       "      <th>CNT_DRAWINGS_OTHER_CURRENT</th>\n",
       "    </tr>\n",
       "  </thead>\n",
       "  <tbody>\n",
       "    <tr>\n",
       "      <th>3802026</th>\n",
       "      <td>0.0</td>\n",
       "      <td>0.0</td>\n",
       "      <td>0.0</td>\n",
       "      <td>0.0</td>\n",
       "      <td>0</td>\n",
       "      <td>0.0</td>\n",
       "    </tr>\n",
       "    <tr>\n",
       "      <th>2675024</th>\n",
       "      <td>0.0</td>\n",
       "      <td>0.0</td>\n",
       "      <td>0.0</td>\n",
       "      <td>0.0</td>\n",
       "      <td>0</td>\n",
       "      <td>0.0</td>\n",
       "    </tr>\n",
       "    <tr>\n",
       "      <th>75645</th>\n",
       "      <td>0.0</td>\n",
       "      <td>0.0</td>\n",
       "      <td>0.0</td>\n",
       "      <td>0.0</td>\n",
       "      <td>0</td>\n",
       "      <td>0.0</td>\n",
       "    </tr>\n",
       "  </tbody>\n",
       "</table>\n",
       "</div>"
      ],
      "text/plain": [
       "         AMT_RECEIVABLE_PRINCIPAL  AMT_RECIVABLE  AMT_TOTAL_RECEIVABLE  \\\n",
       "3802026                       0.0            0.0                   0.0   \n",
       "2675024                       0.0            0.0                   0.0   \n",
       "75645                         0.0            0.0                   0.0   \n",
       "\n",
       "         CNT_DRAWINGS_ATM_CURRENT  CNT_DRAWINGS_CURRENT  \\\n",
       "3802026                       0.0                     0   \n",
       "2675024                       0.0                     0   \n",
       "75645                         0.0                     0   \n",
       "\n",
       "         CNT_DRAWINGS_OTHER_CURRENT  \n",
       "3802026                         0.0  \n",
       "2675024                         0.0  \n",
       "75645                           0.0  "
      ]
     },
     "metadata": {},
     "output_type": "display_data"
    },
    {
     "data": {
      "text/html": [
       "<div>\n",
       "<style scoped>\n",
       "    .dataframe tbody tr th:only-of-type {\n",
       "        vertical-align: middle;\n",
       "    }\n",
       "\n",
       "    .dataframe tbody tr th {\n",
       "        vertical-align: top;\n",
       "    }\n",
       "\n",
       "    .dataframe thead th {\n",
       "        text-align: right;\n",
       "    }\n",
       "</style>\n",
       "<table border=\"1\" class=\"dataframe\">\n",
       "  <thead>\n",
       "    <tr style=\"text-align: right;\">\n",
       "      <th></th>\n",
       "      <th>AMT_RECEIVABLE_PRINCIPAL</th>\n",
       "      <th>AMT_RECIVABLE</th>\n",
       "      <th>AMT_TOTAL_RECEIVABLE</th>\n",
       "      <th>CNT_DRAWINGS_ATM_CURRENT</th>\n",
       "      <th>CNT_DRAWINGS_CURRENT</th>\n",
       "      <th>CNT_DRAWINGS_OTHER_CURRENT</th>\n",
       "    </tr>\n",
       "  </thead>\n",
       "  <tbody>\n",
       "    <tr>\n",
       "      <th>1134179</th>\n",
       "      <td>111940.2</td>\n",
       "      <td>113865.480</td>\n",
       "      <td>113865.480</td>\n",
       "      <td>0.0</td>\n",
       "      <td>0</td>\n",
       "      <td>0.0</td>\n",
       "    </tr>\n",
       "    <tr>\n",
       "      <th>1764928</th>\n",
       "      <td>112050.0</td>\n",
       "      <td>122324.310</td>\n",
       "      <td>122324.310</td>\n",
       "      <td>0.0</td>\n",
       "      <td>0</td>\n",
       "      <td>0.0</td>\n",
       "    </tr>\n",
       "    <tr>\n",
       "      <th>1656899</th>\n",
       "      <td>112050.0</td>\n",
       "      <td>114371.955</td>\n",
       "      <td>114371.955</td>\n",
       "      <td>8.0</td>\n",
       "      <td>8</td>\n",
       "      <td>0.0</td>\n",
       "    </tr>\n",
       "  </tbody>\n",
       "</table>\n",
       "</div>"
      ],
      "text/plain": [
       "         AMT_RECEIVABLE_PRINCIPAL  AMT_RECIVABLE  AMT_TOTAL_RECEIVABLE  \\\n",
       "1134179                  111940.2     113865.480            113865.480   \n",
       "1764928                  112050.0     122324.310            122324.310   \n",
       "1656899                  112050.0     114371.955            114371.955   \n",
       "\n",
       "         CNT_DRAWINGS_ATM_CURRENT  CNT_DRAWINGS_CURRENT  \\\n",
       "1134179                       0.0                     0   \n",
       "1764928                       0.0                     0   \n",
       "1656899                       8.0                     8   \n",
       "\n",
       "         CNT_DRAWINGS_OTHER_CURRENT  \n",
       "1134179                         0.0  \n",
       "1764928                         0.0  \n",
       "1656899                         0.0  "
      ]
     },
     "execution_count": 175,
     "metadata": {},
     "output_type": "execute_result"
    }
   ],
   "source": [
    "display(good_sample.iloc[:3, 12:18])\n",
    "good_sample.iloc[-3:, 12:18]"
   ]
  },
  {
   "cell_type": "code",
   "execution_count": 176,
   "metadata": {},
   "outputs": [
    {
     "data": {
      "text/html": [
       "<div>\n",
       "<style scoped>\n",
       "    .dataframe tbody tr th:only-of-type {\n",
       "        vertical-align: middle;\n",
       "    }\n",
       "\n",
       "    .dataframe tbody tr th {\n",
       "        vertical-align: top;\n",
       "    }\n",
       "\n",
       "    .dataframe thead th {\n",
       "        text-align: right;\n",
       "    }\n",
       "</style>\n",
       "<table border=\"1\" class=\"dataframe\">\n",
       "  <thead>\n",
       "    <tr style=\"text-align: right;\">\n",
       "      <th></th>\n",
       "      <th>CNT_DRAWINGS_POS_CURRENT</th>\n",
       "      <th>CNT_INSTALMENT_MATURE_CUM</th>\n",
       "      <th>NAME_CONTRACT_STATUS</th>\n",
       "      <th>SK_DPD</th>\n",
       "      <th>SK_DPD_DEF</th>\n",
       "    </tr>\n",
       "  </thead>\n",
       "  <tbody>\n",
       "    <tr>\n",
       "      <th>3802026</th>\n",
       "      <td>0.0</td>\n",
       "      <td>20.0</td>\n",
       "      <td>Completed</td>\n",
       "      <td>0</td>\n",
       "      <td>0</td>\n",
       "    </tr>\n",
       "    <tr>\n",
       "      <th>2675024</th>\n",
       "      <td>0.0</td>\n",
       "      <td>20.0</td>\n",
       "      <td>Completed</td>\n",
       "      <td>0</td>\n",
       "      <td>0</td>\n",
       "    </tr>\n",
       "    <tr>\n",
       "      <th>75645</th>\n",
       "      <td>0.0</td>\n",
       "      <td>20.0</td>\n",
       "      <td>Completed</td>\n",
       "      <td>0</td>\n",
       "      <td>0</td>\n",
       "    </tr>\n",
       "  </tbody>\n",
       "</table>\n",
       "</div>"
      ],
      "text/plain": [
       "         CNT_DRAWINGS_POS_CURRENT  CNT_INSTALMENT_MATURE_CUM  \\\n",
       "3802026                       0.0                       20.0   \n",
       "2675024                       0.0                       20.0   \n",
       "75645                         0.0                       20.0   \n",
       "\n",
       "        NAME_CONTRACT_STATUS  SK_DPD  SK_DPD_DEF  \n",
       "3802026            Completed       0           0  \n",
       "2675024            Completed       0           0  \n",
       "75645              Completed       0           0  "
      ]
     },
     "metadata": {},
     "output_type": "display_data"
    },
    {
     "data": {
      "text/html": [
       "<div>\n",
       "<style scoped>\n",
       "    .dataframe tbody tr th:only-of-type {\n",
       "        vertical-align: middle;\n",
       "    }\n",
       "\n",
       "    .dataframe tbody tr th {\n",
       "        vertical-align: top;\n",
       "    }\n",
       "\n",
       "    .dataframe thead th {\n",
       "        text-align: right;\n",
       "    }\n",
       "</style>\n",
       "<table border=\"1\" class=\"dataframe\">\n",
       "  <thead>\n",
       "    <tr style=\"text-align: right;\">\n",
       "      <th></th>\n",
       "      <th>CNT_DRAWINGS_POS_CURRENT</th>\n",
       "      <th>CNT_INSTALMENT_MATURE_CUM</th>\n",
       "      <th>NAME_CONTRACT_STATUS</th>\n",
       "      <th>SK_DPD</th>\n",
       "      <th>SK_DPD_DEF</th>\n",
       "    </tr>\n",
       "  </thead>\n",
       "  <tbody>\n",
       "    <tr>\n",
       "      <th>1134179</th>\n",
       "      <td>0.0</td>\n",
       "      <td>2.0</td>\n",
       "      <td>Active</td>\n",
       "      <td>0</td>\n",
       "      <td>0</td>\n",
       "    </tr>\n",
       "    <tr>\n",
       "      <th>1764928</th>\n",
       "      <td>0.0</td>\n",
       "      <td>1.0</td>\n",
       "      <td>Active</td>\n",
       "      <td>0</td>\n",
       "      <td>0</td>\n",
       "    </tr>\n",
       "    <tr>\n",
       "      <th>1656899</th>\n",
       "      <td>0.0</td>\n",
       "      <td>NaN</td>\n",
       "      <td>Active</td>\n",
       "      <td>0</td>\n",
       "      <td>0</td>\n",
       "    </tr>\n",
       "  </tbody>\n",
       "</table>\n",
       "</div>"
      ],
      "text/plain": [
       "         CNT_DRAWINGS_POS_CURRENT  CNT_INSTALMENT_MATURE_CUM  \\\n",
       "1134179                       0.0                        2.0   \n",
       "1764928                       0.0                        1.0   \n",
       "1656899                       0.0                        NaN   \n",
       "\n",
       "        NAME_CONTRACT_STATUS  SK_DPD  SK_DPD_DEF  \n",
       "1134179               Active       0           0  \n",
       "1764928               Active       0           0  \n",
       "1656899               Active       0           0  "
      ]
     },
     "execution_count": 176,
     "metadata": {},
     "output_type": "execute_result"
    }
   ],
   "source": [
    "display(good_sample.iloc[:3, 18:])\n",
    "good_sample.iloc[-3:, 18:]"
   ]
  },
  {
   "cell_type": "code",
   "execution_count": 197,
   "metadata": {},
   "outputs": [
    {
     "data": {
      "text/plain": [
       "count    3.067338e+06\n",
       "mean     9.542091e+00\n",
       "std      9.832393e+01\n",
       "min      0.000000e+00\n",
       "25%      0.000000e+00\n",
       "50%      0.000000e+00\n",
       "75%      0.000000e+00\n",
       "max      2.831000e+03\n",
       "Name: SK_DPD, dtype: float64"
      ]
     },
     "execution_count": 197,
     "metadata": {},
     "output_type": "execute_result"
    }
   ],
   "source": [
    "df_cred[\"SK_DPD\"].describe()"
   ]
  },
  {
   "cell_type": "markdown",
   "metadata": {},
   "source": [
    "#### Aggregate the Table"
   ]
  },
  {
   "cell_type": "code",
   "execution_count": 24,
   "metadata": {},
   "outputs": [],
   "source": [
    "aggregates_cred = functions.aggregate_cred(df_cred)"
   ]
  },
  {
   "cell_type": "markdown",
   "metadata": {},
   "source": [
    "### Aggregating df_prev_app Table"
   ]
  },
  {
   "cell_type": "markdown",
   "metadata": {},
   "source": [
    "#### Explore the Table"
   ]
  },
  {
   "cell_type": "code",
   "execution_count": 13,
   "metadata": {},
   "outputs": [
    {
     "data": {
      "text/plain": [
       "count    276550.000000\n",
       "mean       -480.351991\n",
       "std         539.931545\n",
       "min       -2922.000000\n",
       "25%        -595.000000\n",
       "50%        -299.000000\n",
       "75%        -147.000000\n",
       "max          -1.000000\n",
       "Name: DAYS_DECISION, dtype: float64"
      ]
     },
     "execution_count": 13,
     "metadata": {},
     "output_type": "execute_result"
    }
   ],
   "source": [
    "df_prev_app.groupby(\"SK_ID_CURR\")[\"DAYS_DECISION\"].max().describe()"
   ]
  },
  {
   "cell_type": "markdown",
   "metadata": {},
   "source": [
    "#### Aggregate the Table"
   ]
  },
  {
   "cell_type": "markdown",
   "metadata": {},
   "source": [
    "### WIP"
   ]
  },
  {
   "cell_type": "code",
   "execution_count": 26,
   "metadata": {},
   "outputs": [],
   "source": [
    "aggregates = (\n",
    "    aggregates_bur.join(aggregates_cash).join(aggregates_cred).join(aggregates_inst)\n",
    ")"
   ]
  },
  {
   "cell_type": "code",
   "execution_count": 28,
   "metadata": {},
   "outputs": [],
   "source": [
    "df_app_agg = df_app.join(aggregates, on=\"SK_ID_CURR\")"
   ]
  },
  {
   "cell_type": "markdown",
   "metadata": {},
   "source": [
    "TODO create flags for IDs that have no data in each table"
   ]
  },
  {
   "cell_type": "code",
   "execution_count": 36,
   "metadata": {},
   "outputs": [
    {
     "data": {
      "text/plain": [
       "(292135, 217)"
      ]
     },
     "execution_count": 36,
     "metadata": {},
     "output_type": "execute_result"
    }
   ],
   "source": [
    "df_app_agg.shape"
   ]
  },
  {
   "cell_type": "code",
   "execution_count": 39,
   "metadata": {},
   "outputs": [
    {
     "data": {
      "text/plain": [
       "(41860, 217)"
      ]
     },
     "execution_count": 39,
     "metadata": {},
     "output_type": "execute_result"
    }
   ],
   "source": [
    "bur_ids = aggregates_bur.index\n",
    "not_in_bur_mask = ~df_app_agg[\"SK_ID_CURR\"].isin(bur_ids)\n",
    "not_in_bur_df = df_app_agg[not_in_bur_mask]\n",
    "not_in_bur_df.shape"
   ]
  },
  {
   "cell_type": "code",
   "execution_count": 40,
   "metadata": {},
   "outputs": [
    {
     "data": {
      "text/plain": [
       "(17108, 217)"
      ]
     },
     "execution_count": 40,
     "metadata": {},
     "output_type": "execute_result"
    }
   ],
   "source": [
    "cash_ids = aggregates_cash.index\n",
    "not_in_cash_mask = ~df_app_agg[\"SK_ID_CURR\"].isin(cash_ids)\n",
    "not_in_cash_df = df_app_agg[not_in_cash_mask]\n",
    "not_in_cash_df.shape"
   ]
  },
  {
   "cell_type": "code",
   "execution_count": 32,
   "metadata": {},
   "outputs": [
    {
     "data": {
      "text/html": [
       "<div>\n",
       "<style scoped>\n",
       "    .dataframe tbody tr th:only-of-type {\n",
       "        vertical-align: middle;\n",
       "    }\n",
       "\n",
       "    .dataframe tbody tr th {\n",
       "        vertical-align: top;\n",
       "    }\n",
       "\n",
       "    .dataframe thead th {\n",
       "        text-align: right;\n",
       "    }\n",
       "</style>\n",
       "<table border=\"1\" class=\"dataframe\">\n",
       "  <thead>\n",
       "    <tr style=\"text-align: right;\">\n",
       "      <th></th>\n",
       "      <th>SK_ID_CURR</th>\n",
       "      <th>TARGET</th>\n",
       "      <th>NAME_CONTRACT_TYPE</th>\n",
       "      <th>CODE_GENDER</th>\n",
       "      <th>FLAG_OWN_CAR</th>\n",
       "      <th>FLAG_OWN_REALTY</th>\n",
       "      <th>CNT_CHILDREN</th>\n",
       "      <th>AMT_INCOME_TOTAL</th>\n",
       "      <th>AMT_CREDIT</th>\n",
       "      <th>AMT_ANNUITY</th>\n",
       "      <th>...</th>\n",
       "      <th>CRED_CNT_DRAWINGS_POS_CURRENT_mean</th>\n",
       "      <th>CRED_CNT_DRAWINGS_POS_CURRENT_max</th>\n",
       "      <th>CRED_Status_Active_count</th>\n",
       "      <th>INST_Days_till_deadline_mean</th>\n",
       "      <th>INST_Days_till_deadline_max</th>\n",
       "      <th>INST_Days_till_deadline_min</th>\n",
       "      <th>INST_Amt_deficit_mean</th>\n",
       "      <th>INST_Amt_deficit_max</th>\n",
       "      <th>INST_AMT_INSTALMENT_mean</th>\n",
       "      <th>INST_AMT_INSTALMENT_max</th>\n",
       "    </tr>\n",
       "  </thead>\n",
       "  <tbody>\n",
       "    <tr>\n",
       "      <th>47905</th>\n",
       "      <td>155481</td>\n",
       "      <td>0</td>\n",
       "      <td>Cash loans</td>\n",
       "      <td>M</td>\n",
       "      <td>N</td>\n",
       "      <td>Y</td>\n",
       "      <td>1</td>\n",
       "      <td>135000.0</td>\n",
       "      <td>678456.0</td>\n",
       "      <td>18787.5</td>\n",
       "      <td>...</td>\n",
       "      <td>NaN</td>\n",
       "      <td>NaN</td>\n",
       "      <td>NaN</td>\n",
       "      <td>NaN</td>\n",
       "      <td>NaN</td>\n",
       "      <td>NaN</td>\n",
       "      <td>NaN</td>\n",
       "      <td>NaN</td>\n",
       "      <td>NaN</td>\n",
       "      <td>NaN</td>\n",
       "    </tr>\n",
       "    <tr>\n",
       "      <th>170935</th>\n",
       "      <td>298097</td>\n",
       "      <td>0</td>\n",
       "      <td>Cash loans</td>\n",
       "      <td>M</td>\n",
       "      <td>Y</td>\n",
       "      <td>Y</td>\n",
       "      <td>1</td>\n",
       "      <td>1575000.0</td>\n",
       "      <td>3299688.0</td>\n",
       "      <td>170986.5</td>\n",
       "      <td>...</td>\n",
       "      <td>NaN</td>\n",
       "      <td>NaN</td>\n",
       "      <td>NaN</td>\n",
       "      <td>NaN</td>\n",
       "      <td>NaN</td>\n",
       "      <td>NaN</td>\n",
       "      <td>NaN</td>\n",
       "      <td>NaN</td>\n",
       "      <td>NaN</td>\n",
       "      <td>NaN</td>\n",
       "    </tr>\n",
       "    <tr>\n",
       "      <th>261796</th>\n",
       "      <td>403052</td>\n",
       "      <td>0</td>\n",
       "      <td>Cash loans</td>\n",
       "      <td>F</td>\n",
       "      <td>N</td>\n",
       "      <td>Y</td>\n",
       "      <td>0</td>\n",
       "      <td>67500.0</td>\n",
       "      <td>101880.0</td>\n",
       "      <td>5976.0</td>\n",
       "      <td>...</td>\n",
       "      <td>0.0</td>\n",
       "      <td>0.0</td>\n",
       "      <td>NaN</td>\n",
       "      <td>10.847458</td>\n",
       "      <td>31.0</td>\n",
       "      <td>-11.0</td>\n",
       "      <td>-265.704407</td>\n",
       "      <td>0.00</td>\n",
       "      <td>7280.747161</td>\n",
       "      <td>147888.450</td>\n",
       "    </tr>\n",
       "    <tr>\n",
       "      <th>291903</th>\n",
       "      <td>438168</td>\n",
       "      <td>0</td>\n",
       "      <td>Cash loans</td>\n",
       "      <td>F</td>\n",
       "      <td>Y</td>\n",
       "      <td>Y</td>\n",
       "      <td>0</td>\n",
       "      <td>270000.0</td>\n",
       "      <td>1288350.0</td>\n",
       "      <td>37800.0</td>\n",
       "      <td>...</td>\n",
       "      <td>NaN</td>\n",
       "      <td>NaN</td>\n",
       "      <td>NaN</td>\n",
       "      <td>14.053571</td>\n",
       "      <td>26.0</td>\n",
       "      <td>2.0</td>\n",
       "      <td>0.000000</td>\n",
       "      <td>0.00</td>\n",
       "      <td>13145.927143</td>\n",
       "      <td>56461.680</td>\n",
       "    </tr>\n",
       "    <tr>\n",
       "      <th>301036</th>\n",
       "      <td>448758</td>\n",
       "      <td>0</td>\n",
       "      <td>Cash loans</td>\n",
       "      <td>F</td>\n",
       "      <td>N</td>\n",
       "      <td>Y</td>\n",
       "      <td>0</td>\n",
       "      <td>225000.0</td>\n",
       "      <td>398016.0</td>\n",
       "      <td>20349.0</td>\n",
       "      <td>...</td>\n",
       "      <td>NaN</td>\n",
       "      <td>NaN</td>\n",
       "      <td>NaN</td>\n",
       "      <td>NaN</td>\n",
       "      <td>NaN</td>\n",
       "      <td>NaN</td>\n",
       "      <td>NaN</td>\n",
       "      <td>NaN</td>\n",
       "      <td>NaN</td>\n",
       "      <td>NaN</td>\n",
       "    </tr>\n",
       "    <tr>\n",
       "      <th>...</th>\n",
       "      <td>...</td>\n",
       "      <td>...</td>\n",
       "      <td>...</td>\n",
       "      <td>...</td>\n",
       "      <td>...</td>\n",
       "      <td>...</td>\n",
       "      <td>...</td>\n",
       "      <td>...</td>\n",
       "      <td>...</td>\n",
       "      <td>...</td>\n",
       "      <td>...</td>\n",
       "      <td>...</td>\n",
       "      <td>...</td>\n",
       "      <td>...</td>\n",
       "      <td>...</td>\n",
       "      <td>...</td>\n",
       "      <td>...</td>\n",
       "      <td>...</td>\n",
       "      <td>...</td>\n",
       "      <td>...</td>\n",
       "      <td>...</td>\n",
       "    </tr>\n",
       "    <tr>\n",
       "      <th>119879</th>\n",
       "      <td>239009</td>\n",
       "      <td>0</td>\n",
       "      <td>Cash loans</td>\n",
       "      <td>F</td>\n",
       "      <td>N</td>\n",
       "      <td>Y</td>\n",
       "      <td>0</td>\n",
       "      <td>121500.0</td>\n",
       "      <td>675000.0</td>\n",
       "      <td>32602.5</td>\n",
       "      <td>...</td>\n",
       "      <td>NaN</td>\n",
       "      <td>NaN</td>\n",
       "      <td>NaN</td>\n",
       "      <td>NaN</td>\n",
       "      <td>NaN</td>\n",
       "      <td>NaN</td>\n",
       "      <td>NaN</td>\n",
       "      <td>NaN</td>\n",
       "      <td>NaN</td>\n",
       "      <td>NaN</td>\n",
       "    </tr>\n",
       "    <tr>\n",
       "      <th>259178</th>\n",
       "      <td>399937</td>\n",
       "      <td>0</td>\n",
       "      <td>Cash loans</td>\n",
       "      <td>F</td>\n",
       "      <td>N</td>\n",
       "      <td>N</td>\n",
       "      <td>2</td>\n",
       "      <td>225000.0</td>\n",
       "      <td>509922.0</td>\n",
       "      <td>40419.0</td>\n",
       "      <td>...</td>\n",
       "      <td>NaN</td>\n",
       "      <td>NaN</td>\n",
       "      <td>NaN</td>\n",
       "      <td>7.761905</td>\n",
       "      <td>17.0</td>\n",
       "      <td>1.0</td>\n",
       "      <td>0.000000</td>\n",
       "      <td>0.00</td>\n",
       "      <td>44948.995714</td>\n",
       "      <td>321254.100</td>\n",
       "    </tr>\n",
       "    <tr>\n",
       "      <th>131932</th>\n",
       "      <td>253016</td>\n",
       "      <td>0</td>\n",
       "      <td>Cash loans</td>\n",
       "      <td>M</td>\n",
       "      <td>Y</td>\n",
       "      <td>Y</td>\n",
       "      <td>0</td>\n",
       "      <td>450000.0</td>\n",
       "      <td>1125000.0</td>\n",
       "      <td>33025.5</td>\n",
       "      <td>...</td>\n",
       "      <td>NaN</td>\n",
       "      <td>NaN</td>\n",
       "      <td>NaN</td>\n",
       "      <td>14.625000</td>\n",
       "      <td>69.0</td>\n",
       "      <td>-4.0</td>\n",
       "      <td>973.839375</td>\n",
       "      <td>15567.93</td>\n",
       "      <td>17822.370937</td>\n",
       "      <td>74639.655</td>\n",
       "    </tr>\n",
       "    <tr>\n",
       "      <th>146867</th>\n",
       "      <td>270275</td>\n",
       "      <td>0</td>\n",
       "      <td>Revolving loans</td>\n",
       "      <td>M</td>\n",
       "      <td>Y</td>\n",
       "      <td>Y</td>\n",
       "      <td>1</td>\n",
       "      <td>180000.0</td>\n",
       "      <td>270000.0</td>\n",
       "      <td>13500.0</td>\n",
       "      <td>...</td>\n",
       "      <td>2.5</td>\n",
       "      <td>8.0</td>\n",
       "      <td>NaN</td>\n",
       "      <td>25.608696</td>\n",
       "      <td>95.0</td>\n",
       "      <td>0.0</td>\n",
       "      <td>0.000000</td>\n",
       "      <td>0.00</td>\n",
       "      <td>15862.560652</td>\n",
       "      <td>85500.000</td>\n",
       "    </tr>\n",
       "    <tr>\n",
       "      <th>121958</th>\n",
       "      <td>241394</td>\n",
       "      <td>1</td>\n",
       "      <td>Cash loans</td>\n",
       "      <td>M</td>\n",
       "      <td>Y</td>\n",
       "      <td>Y</td>\n",
       "      <td>0</td>\n",
       "      <td>157500.0</td>\n",
       "      <td>729792.0</td>\n",
       "      <td>35239.5</td>\n",
       "      <td>...</td>\n",
       "      <td>NaN</td>\n",
       "      <td>NaN</td>\n",
       "      <td>NaN</td>\n",
       "      <td>25.750000</td>\n",
       "      <td>41.0</td>\n",
       "      <td>11.0</td>\n",
       "      <td>0.000000</td>\n",
       "      <td>0.00</td>\n",
       "      <td>12803.107500</td>\n",
       "      <td>36137.115</td>\n",
       "    </tr>\n",
       "  </tbody>\n",
       "</table>\n",
       "<p>292135 rows × 217 columns</p>\n",
       "</div>"
      ],
      "text/plain": [
       "        SK_ID_CURR  TARGET NAME_CONTRACT_TYPE CODE_GENDER FLAG_OWN_CAR  \\\n",
       "47905       155481       0         Cash loans           M            N   \n",
       "170935      298097       0         Cash loans           M            Y   \n",
       "261796      403052       0         Cash loans           F            N   \n",
       "291903      438168       0         Cash loans           F            Y   \n",
       "301036      448758       0         Cash loans           F            N   \n",
       "...            ...     ...                ...         ...          ...   \n",
       "119879      239009       0         Cash loans           F            N   \n",
       "259178      399937       0         Cash loans           F            N   \n",
       "131932      253016       0         Cash loans           M            Y   \n",
       "146867      270275       0    Revolving loans           M            Y   \n",
       "121958      241394       1         Cash loans           M            Y   \n",
       "\n",
       "       FLAG_OWN_REALTY  CNT_CHILDREN  AMT_INCOME_TOTAL  AMT_CREDIT  \\\n",
       "47905                Y             1          135000.0    678456.0   \n",
       "170935               Y             1         1575000.0   3299688.0   \n",
       "261796               Y             0           67500.0    101880.0   \n",
       "291903               Y             0          270000.0   1288350.0   \n",
       "301036               Y             0          225000.0    398016.0   \n",
       "...                ...           ...               ...         ...   \n",
       "119879               Y             0          121500.0    675000.0   \n",
       "259178               N             2          225000.0    509922.0   \n",
       "131932               Y             0          450000.0   1125000.0   \n",
       "146867               Y             1          180000.0    270000.0   \n",
       "121958               Y             0          157500.0    729792.0   \n",
       "\n",
       "        AMT_ANNUITY  ...  CRED_CNT_DRAWINGS_POS_CURRENT_mean  \\\n",
       "47905       18787.5  ...                                 NaN   \n",
       "170935     170986.5  ...                                 NaN   \n",
       "261796       5976.0  ...                                 0.0   \n",
       "291903      37800.0  ...                                 NaN   \n",
       "301036      20349.0  ...                                 NaN   \n",
       "...             ...  ...                                 ...   \n",
       "119879      32602.5  ...                                 NaN   \n",
       "259178      40419.0  ...                                 NaN   \n",
       "131932      33025.5  ...                                 NaN   \n",
       "146867      13500.0  ...                                 2.5   \n",
       "121958      35239.5  ...                                 NaN   \n",
       "\n",
       "       CRED_CNT_DRAWINGS_POS_CURRENT_max CRED_Status_Active_count  \\\n",
       "47905                                NaN                      NaN   \n",
       "170935                               NaN                      NaN   \n",
       "261796                               0.0                      NaN   \n",
       "291903                               NaN                      NaN   \n",
       "301036                               NaN                      NaN   \n",
       "...                                  ...                      ...   \n",
       "119879                               NaN                      NaN   \n",
       "259178                               NaN                      NaN   \n",
       "131932                               NaN                      NaN   \n",
       "146867                               8.0                      NaN   \n",
       "121958                               NaN                      NaN   \n",
       "\n",
       "       INST_Days_till_deadline_mean INST_Days_till_deadline_max  \\\n",
       "47905                           NaN                         NaN   \n",
       "170935                          NaN                         NaN   \n",
       "261796                    10.847458                        31.0   \n",
       "291903                    14.053571                        26.0   \n",
       "301036                          NaN                         NaN   \n",
       "...                             ...                         ...   \n",
       "119879                          NaN                         NaN   \n",
       "259178                     7.761905                        17.0   \n",
       "131932                    14.625000                        69.0   \n",
       "146867                    25.608696                        95.0   \n",
       "121958                    25.750000                        41.0   \n",
       "\n",
       "       INST_Days_till_deadline_min  INST_Amt_deficit_mean  \\\n",
       "47905                          NaN                    NaN   \n",
       "170935                         NaN                    NaN   \n",
       "261796                       -11.0            -265.704407   \n",
       "291903                         2.0               0.000000   \n",
       "301036                         NaN                    NaN   \n",
       "...                            ...                    ...   \n",
       "119879                         NaN                    NaN   \n",
       "259178                         1.0               0.000000   \n",
       "131932                        -4.0             973.839375   \n",
       "146867                         0.0               0.000000   \n",
       "121958                        11.0               0.000000   \n",
       "\n",
       "        INST_Amt_deficit_max  INST_AMT_INSTALMENT_mean  \\\n",
       "47905                    NaN                       NaN   \n",
       "170935                   NaN                       NaN   \n",
       "261796                  0.00               7280.747161   \n",
       "291903                  0.00              13145.927143   \n",
       "301036                   NaN                       NaN   \n",
       "...                      ...                       ...   \n",
       "119879                   NaN                       NaN   \n",
       "259178                  0.00              44948.995714   \n",
       "131932              15567.93              17822.370937   \n",
       "146867                  0.00              15862.560652   \n",
       "121958                  0.00              12803.107500   \n",
       "\n",
       "        INST_AMT_INSTALMENT_max  \n",
       "47905                       NaN  \n",
       "170935                      NaN  \n",
       "261796               147888.450  \n",
       "291903                56461.680  \n",
       "301036                      NaN  \n",
       "...                         ...  \n",
       "119879                      NaN  \n",
       "259178               321254.100  \n",
       "131932                74639.655  \n",
       "146867                85500.000  \n",
       "121958                36137.115  \n",
       "\n",
       "[292135 rows x 217 columns]"
      ]
     },
     "execution_count": 32,
     "metadata": {},
     "output_type": "execute_result"
    }
   ],
   "source": [
    "df_app_agg"
   ]
  },
  {
   "cell_type": "markdown",
   "metadata": {},
   "source": [
    "IDEA for improvement: use more last statuses, especially from those tables that have monthly updates. According to this article (https://medium.com/cuenex/credit-default-prediction-practical-tips-for-successful-execution-f62a92ab5df8), \"the last aggregated features are the most important features which represent the most recent statement status and are the strongest indicator of their default risk\""
   ]
  }
 ],
 "metadata": {
  "kernelspec": {
   "display_name": "venv",
   "language": "python",
   "name": "python3"
  },
  "language_info": {
   "codemirror_mode": {
    "name": "ipython",
    "version": 3
   },
   "file_extension": ".py",
   "mimetype": "text/x-python",
   "name": "python",
   "nbconvert_exporter": "python",
   "pygments_lexer": "ipython3",
   "version": "3.11.1"
  }
 },
 "nbformat": 4,
 "nbformat_minor": 2
}
