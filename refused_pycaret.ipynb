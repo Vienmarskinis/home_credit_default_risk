{
 "cells": [
  {
   "cell_type": "markdown",
   "metadata": {},
   "source": [
    "## Imports and Data"
   ]
  },
  {
   "cell_type": "code",
   "execution_count": 1,
   "metadata": {},
   "outputs": [],
   "source": [
    "import pandas as pd"
   ]
  },
  {
   "cell_type": "code",
   "execution_count": 3,
   "metadata": {},
   "outputs": [],
   "source": [
    "df = pd.read_parquet(\"data/refused_model_df.parquet\", engine=\"pyarrow\").drop(\n",
    "    columns=[\"CODE_REJECT_REASON\"]\n",
    ")"
   ]
  },
  {
   "cell_type": "markdown",
   "metadata": {},
   "source": [
    "## Pycaret"
   ]
  },
  {
   "cell_type": "code",
   "execution_count": 4,
   "metadata": {},
   "outputs": [],
   "source": [
    "from pycaret.classification import setup, compare_models, evaluate_model, plot_model"
   ]
  },
  {
   "cell_type": "markdown",
   "metadata": {},
   "source": [
    "Sample to run faster."
   ]
  },
  {
   "cell_type": "code",
   "execution_count": 5,
   "metadata": {},
   "outputs": [],
   "source": [
    "df_sample = df.sample(frac=0.2, random_state=42)"
   ]
  },
  {
   "cell_type": "markdown",
   "metadata": {},
   "source": [
    "Reduce validation fold count from 10 to 3 to run faster."
   ]
  },
  {
   "cell_type": "code",
   "execution_count": 6,
   "metadata": {},
   "outputs": [
    {
     "data": {
      "text/html": [
       "<style type=\"text/css\">\n",
       "#T_30ca3_row11_col1 {\n",
       "  background-color: lightgreen;\n",
       "}\n",
       "</style>\n",
       "<table id=\"T_30ca3\">\n",
       "  <thead>\n",
       "    <tr>\n",
       "      <th class=\"blank level0\" >&nbsp;</th>\n",
       "      <th id=\"T_30ca3_level0_col0\" class=\"col_heading level0 col0\" >Description</th>\n",
       "      <th id=\"T_30ca3_level0_col1\" class=\"col_heading level0 col1\" >Value</th>\n",
       "    </tr>\n",
       "  </thead>\n",
       "  <tbody>\n",
       "    <tr>\n",
       "      <th id=\"T_30ca3_level0_row0\" class=\"row_heading level0 row0\" >0</th>\n",
       "      <td id=\"T_30ca3_row0_col0\" class=\"data row0 col0\" >Session id</td>\n",
       "      <td id=\"T_30ca3_row0_col1\" class=\"data row0 col1\" >42</td>\n",
       "    </tr>\n",
       "    <tr>\n",
       "      <th id=\"T_30ca3_level0_row1\" class=\"row_heading level0 row1\" >1</th>\n",
       "      <td id=\"T_30ca3_row1_col0\" class=\"data row1 col0\" >Target</td>\n",
       "      <td id=\"T_30ca3_row1_col1\" class=\"data row1 col1\" >NAME_CONTRACT_STATUS_Refused</td>\n",
       "    </tr>\n",
       "    <tr>\n",
       "      <th id=\"T_30ca3_level0_row2\" class=\"row_heading level0 row2\" >2</th>\n",
       "      <td id=\"T_30ca3_row2_col0\" class=\"data row2 col0\" >Target type</td>\n",
       "      <td id=\"T_30ca3_row2_col1\" class=\"data row2 col1\" >Binary</td>\n",
       "    </tr>\n",
       "    <tr>\n",
       "      <th id=\"T_30ca3_level0_row3\" class=\"row_heading level0 row3\" >3</th>\n",
       "      <td id=\"T_30ca3_row3_col0\" class=\"data row3 col0\" >Original data shape</td>\n",
       "      <td id=\"T_30ca3_row3_col1\" class=\"data row3 col1\" >(219426, 27)</td>\n",
       "    </tr>\n",
       "    <tr>\n",
       "      <th id=\"T_30ca3_level0_row4\" class=\"row_heading level0 row4\" >4</th>\n",
       "      <td id=\"T_30ca3_row4_col0\" class=\"data row4 col0\" >Transformed data shape</td>\n",
       "      <td id=\"T_30ca3_row4_col1\" class=\"data row4 col1\" >(219426, 115)</td>\n",
       "    </tr>\n",
       "    <tr>\n",
       "      <th id=\"T_30ca3_level0_row5\" class=\"row_heading level0 row5\" >5</th>\n",
       "      <td id=\"T_30ca3_row5_col0\" class=\"data row5 col0\" >Transformed train set shape</td>\n",
       "      <td id=\"T_30ca3_row5_col1\" class=\"data row5 col1\" >(153598, 115)</td>\n",
       "    </tr>\n",
       "    <tr>\n",
       "      <th id=\"T_30ca3_level0_row6\" class=\"row_heading level0 row6\" >6</th>\n",
       "      <td id=\"T_30ca3_row6_col0\" class=\"data row6 col0\" >Transformed test set shape</td>\n",
       "      <td id=\"T_30ca3_row6_col1\" class=\"data row6 col1\" >(65828, 115)</td>\n",
       "    </tr>\n",
       "    <tr>\n",
       "      <th id=\"T_30ca3_level0_row7\" class=\"row_heading level0 row7\" >7</th>\n",
       "      <td id=\"T_30ca3_row7_col0\" class=\"data row7 col0\" >Ordinal features</td>\n",
       "      <td id=\"T_30ca3_row7_col1\" class=\"data row7 col1\" >1</td>\n",
       "    </tr>\n",
       "    <tr>\n",
       "      <th id=\"T_30ca3_level0_row8\" class=\"row_heading level0 row8\" >8</th>\n",
       "      <td id=\"T_30ca3_row8_col0\" class=\"data row8 col0\" >Numeric features</td>\n",
       "      <td id=\"T_30ca3_row8_col1\" class=\"data row8 col1\" >12</td>\n",
       "    </tr>\n",
       "    <tr>\n",
       "      <th id=\"T_30ca3_level0_row9\" class=\"row_heading level0 row9\" >9</th>\n",
       "      <td id=\"T_30ca3_row9_col0\" class=\"data row9 col0\" >Categorical features</td>\n",
       "      <td id=\"T_30ca3_row9_col1\" class=\"data row9 col1\" >14</td>\n",
       "    </tr>\n",
       "    <tr>\n",
       "      <th id=\"T_30ca3_level0_row10\" class=\"row_heading level0 row10\" >10</th>\n",
       "      <td id=\"T_30ca3_row10_col0\" class=\"data row10 col0\" >Rows with missing values</td>\n",
       "      <td id=\"T_30ca3_row10_col1\" class=\"data row10 col1\" >63.4%</td>\n",
       "    </tr>\n",
       "    <tr>\n",
       "      <th id=\"T_30ca3_level0_row11\" class=\"row_heading level0 row11\" >11</th>\n",
       "      <td id=\"T_30ca3_row11_col0\" class=\"data row11 col0\" >Preprocess</td>\n",
       "      <td id=\"T_30ca3_row11_col1\" class=\"data row11 col1\" >True</td>\n",
       "    </tr>\n",
       "    <tr>\n",
       "      <th id=\"T_30ca3_level0_row12\" class=\"row_heading level0 row12\" >12</th>\n",
       "      <td id=\"T_30ca3_row12_col0\" class=\"data row12 col0\" >Imputation type</td>\n",
       "      <td id=\"T_30ca3_row12_col1\" class=\"data row12 col1\" >simple</td>\n",
       "    </tr>\n",
       "    <tr>\n",
       "      <th id=\"T_30ca3_level0_row13\" class=\"row_heading level0 row13\" >13</th>\n",
       "      <td id=\"T_30ca3_row13_col0\" class=\"data row13 col0\" >Numeric imputation</td>\n",
       "      <td id=\"T_30ca3_row13_col1\" class=\"data row13 col1\" >mean</td>\n",
       "    </tr>\n",
       "    <tr>\n",
       "      <th id=\"T_30ca3_level0_row14\" class=\"row_heading level0 row14\" >14</th>\n",
       "      <td id=\"T_30ca3_row14_col0\" class=\"data row14 col0\" >Categorical imputation</td>\n",
       "      <td id=\"T_30ca3_row14_col1\" class=\"data row14 col1\" >mode</td>\n",
       "    </tr>\n",
       "    <tr>\n",
       "      <th id=\"T_30ca3_level0_row15\" class=\"row_heading level0 row15\" >15</th>\n",
       "      <td id=\"T_30ca3_row15_col0\" class=\"data row15 col0\" >Maximum one-hot encoding</td>\n",
       "      <td id=\"T_30ca3_row15_col1\" class=\"data row15 col1\" >25</td>\n",
       "    </tr>\n",
       "    <tr>\n",
       "      <th id=\"T_30ca3_level0_row16\" class=\"row_heading level0 row16\" >16</th>\n",
       "      <td id=\"T_30ca3_row16_col0\" class=\"data row16 col0\" >Encoding method</td>\n",
       "      <td id=\"T_30ca3_row16_col1\" class=\"data row16 col1\" >None</td>\n",
       "    </tr>\n",
       "    <tr>\n",
       "      <th id=\"T_30ca3_level0_row17\" class=\"row_heading level0 row17\" >17</th>\n",
       "      <td id=\"T_30ca3_row17_col0\" class=\"data row17 col0\" >Fold Generator</td>\n",
       "      <td id=\"T_30ca3_row17_col1\" class=\"data row17 col1\" >StratifiedKFold</td>\n",
       "    </tr>\n",
       "    <tr>\n",
       "      <th id=\"T_30ca3_level0_row18\" class=\"row_heading level0 row18\" >18</th>\n",
       "      <td id=\"T_30ca3_row18_col0\" class=\"data row18 col0\" >Fold Number</td>\n",
       "      <td id=\"T_30ca3_row18_col1\" class=\"data row18 col1\" >3</td>\n",
       "    </tr>\n",
       "    <tr>\n",
       "      <th id=\"T_30ca3_level0_row19\" class=\"row_heading level0 row19\" >19</th>\n",
       "      <td id=\"T_30ca3_row19_col0\" class=\"data row19 col0\" >CPU Jobs</td>\n",
       "      <td id=\"T_30ca3_row19_col1\" class=\"data row19 col1\" >-1</td>\n",
       "    </tr>\n",
       "    <tr>\n",
       "      <th id=\"T_30ca3_level0_row20\" class=\"row_heading level0 row20\" >20</th>\n",
       "      <td id=\"T_30ca3_row20_col0\" class=\"data row20 col0\" >Use GPU</td>\n",
       "      <td id=\"T_30ca3_row20_col1\" class=\"data row20 col1\" >False</td>\n",
       "    </tr>\n",
       "    <tr>\n",
       "      <th id=\"T_30ca3_level0_row21\" class=\"row_heading level0 row21\" >21</th>\n",
       "      <td id=\"T_30ca3_row21_col0\" class=\"data row21 col0\" >Log Experiment</td>\n",
       "      <td id=\"T_30ca3_row21_col1\" class=\"data row21 col1\" >False</td>\n",
       "    </tr>\n",
       "    <tr>\n",
       "      <th id=\"T_30ca3_level0_row22\" class=\"row_heading level0 row22\" >22</th>\n",
       "      <td id=\"T_30ca3_row22_col0\" class=\"data row22 col0\" >Experiment Name</td>\n",
       "      <td id=\"T_30ca3_row22_col1\" class=\"data row22 col1\" >clf-default-name</td>\n",
       "    </tr>\n",
       "    <tr>\n",
       "      <th id=\"T_30ca3_level0_row23\" class=\"row_heading level0 row23\" >23</th>\n",
       "      <td id=\"T_30ca3_row23_col0\" class=\"data row23 col0\" >USI</td>\n",
       "      <td id=\"T_30ca3_row23_col1\" class=\"data row23 col1\" >2232</td>\n",
       "    </tr>\n",
       "  </tbody>\n",
       "</table>\n"
      ],
      "text/plain": [
       "<pandas.io.formats.style.Styler at 0x1c9289a2590>"
      ]
     },
     "metadata": {},
     "output_type": "display_data"
    }
   ],
   "source": [
    "s = setup(df_sample, target=\"NAME_CONTRACT_STATUS_Refused\", fold=3, session_id=42)"
   ]
  },
  {
   "cell_type": "code",
   "execution_count": 7,
   "metadata": {},
   "outputs": [
    {
     "data": {
      "text/html": [],
      "text/plain": [
       "<IPython.core.display.HTML object>"
      ]
     },
     "metadata": {},
     "output_type": "display_data"
    },
    {
     "data": {
      "text/html": [
       "<style type=\"text/css\">\n",
       "#T_348e8 th {\n",
       "  text-align: left;\n",
       "}\n",
       "#T_348e8_row0_col0, #T_348e8_row0_col2, #T_348e8_row0_col3, #T_348e8_row0_col4, #T_348e8_row1_col0, #T_348e8_row1_col1, #T_348e8_row1_col3, #T_348e8_row1_col4, #T_348e8_row1_col5, #T_348e8_row1_col6, #T_348e8_row1_col7, #T_348e8_row2_col0, #T_348e8_row2_col1, #T_348e8_row2_col2, #T_348e8_row2_col3, #T_348e8_row2_col4, #T_348e8_row2_col5, #T_348e8_row2_col6, #T_348e8_row2_col7, #T_348e8_row3_col0, #T_348e8_row3_col1, #T_348e8_row3_col2, #T_348e8_row3_col3, #T_348e8_row3_col4, #T_348e8_row3_col5, #T_348e8_row3_col6, #T_348e8_row3_col7, #T_348e8_row4_col0, #T_348e8_row4_col1, #T_348e8_row4_col2, #T_348e8_row4_col3, #T_348e8_row4_col4, #T_348e8_row4_col5, #T_348e8_row4_col6, #T_348e8_row4_col7, #T_348e8_row5_col0, #T_348e8_row5_col1, #T_348e8_row5_col2, #T_348e8_row5_col3, #T_348e8_row5_col4, #T_348e8_row5_col5, #T_348e8_row5_col6, #T_348e8_row5_col7, #T_348e8_row6_col0, #T_348e8_row6_col1, #T_348e8_row6_col2, #T_348e8_row6_col3, #T_348e8_row6_col5, #T_348e8_row6_col6, #T_348e8_row6_col7, #T_348e8_row7_col0, #T_348e8_row7_col1, #T_348e8_row7_col2, #T_348e8_row7_col3, #T_348e8_row7_col4, #T_348e8_row7_col5, #T_348e8_row7_col6, #T_348e8_row7_col7, #T_348e8_row8_col0, #T_348e8_row8_col1, #T_348e8_row8_col2, #T_348e8_row8_col3, #T_348e8_row8_col4, #T_348e8_row8_col5, #T_348e8_row8_col6, #T_348e8_row8_col7, #T_348e8_row9_col0, #T_348e8_row9_col1, #T_348e8_row9_col2, #T_348e8_row9_col4, #T_348e8_row9_col5, #T_348e8_row9_col6, #T_348e8_row9_col7, #T_348e8_row10_col0, #T_348e8_row10_col1, #T_348e8_row10_col2, #T_348e8_row10_col3, #T_348e8_row10_col4, #T_348e8_row10_col5, #T_348e8_row10_col6, #T_348e8_row10_col7, #T_348e8_row11_col0, #T_348e8_row11_col1, #T_348e8_row11_col2, #T_348e8_row11_col3, #T_348e8_row11_col4, #T_348e8_row11_col5, #T_348e8_row11_col6, #T_348e8_row11_col7, #T_348e8_row12_col0, #T_348e8_row12_col1, #T_348e8_row12_col2, #T_348e8_row12_col3, #T_348e8_row12_col4, #T_348e8_row12_col5, #T_348e8_row12_col6, #T_348e8_row12_col7 {\n",
       "  text-align: left;\n",
       "}\n",
       "#T_348e8_row0_col1, #T_348e8_row0_col5, #T_348e8_row0_col6, #T_348e8_row0_col7, #T_348e8_row1_col2, #T_348e8_row6_col4, #T_348e8_row9_col3 {\n",
       "  text-align: left;\n",
       "  background-color: yellow;\n",
       "}\n",
       "#T_348e8_row0_col8, #T_348e8_row1_col8, #T_348e8_row2_col8, #T_348e8_row3_col8, #T_348e8_row4_col8, #T_348e8_row5_col8, #T_348e8_row6_col8, #T_348e8_row7_col8, #T_348e8_row8_col8, #T_348e8_row9_col8, #T_348e8_row11_col8, #T_348e8_row12_col8 {\n",
       "  text-align: left;\n",
       "  background-color: lightgrey;\n",
       "}\n",
       "#T_348e8_row10_col8 {\n",
       "  text-align: left;\n",
       "  background-color: yellow;\n",
       "  background-color: lightgrey;\n",
       "}\n",
       "</style>\n",
       "<table id=\"T_348e8\">\n",
       "  <thead>\n",
       "    <tr>\n",
       "      <th class=\"blank level0\" >&nbsp;</th>\n",
       "      <th id=\"T_348e8_level0_col0\" class=\"col_heading level0 col0\" >Model</th>\n",
       "      <th id=\"T_348e8_level0_col1\" class=\"col_heading level0 col1\" >Accuracy</th>\n",
       "      <th id=\"T_348e8_level0_col2\" class=\"col_heading level0 col2\" >AUC</th>\n",
       "      <th id=\"T_348e8_level0_col3\" class=\"col_heading level0 col3\" >Recall</th>\n",
       "      <th id=\"T_348e8_level0_col4\" class=\"col_heading level0 col4\" >Prec.</th>\n",
       "      <th id=\"T_348e8_level0_col5\" class=\"col_heading level0 col5\" >F1</th>\n",
       "      <th id=\"T_348e8_level0_col6\" class=\"col_heading level0 col6\" >Kappa</th>\n",
       "      <th id=\"T_348e8_level0_col7\" class=\"col_heading level0 col7\" >MCC</th>\n",
       "      <th id=\"T_348e8_level0_col8\" class=\"col_heading level0 col8\" >TT (Sec)</th>\n",
       "    </tr>\n",
       "  </thead>\n",
       "  <tbody>\n",
       "    <tr>\n",
       "      <th id=\"T_348e8_level0_row0\" class=\"row_heading level0 row0\" >rf</th>\n",
       "      <td id=\"T_348e8_row0_col0\" class=\"data row0 col0\" >Random Forest Classifier</td>\n",
       "      <td id=\"T_348e8_row0_col1\" class=\"data row0 col1\" >0.8579</td>\n",
       "      <td id=\"T_348e8_row0_col2\" class=\"data row0 col2\" >0.8555</td>\n",
       "      <td id=\"T_348e8_row0_col3\" class=\"data row0 col3\" >0.4812</td>\n",
       "      <td id=\"T_348e8_row0_col4\" class=\"data row0 col4\" >0.7565</td>\n",
       "      <td id=\"T_348e8_row0_col5\" class=\"data row0 col5\" >0.5882</td>\n",
       "      <td id=\"T_348e8_row0_col6\" class=\"data row0 col6\" >0.5075</td>\n",
       "      <td id=\"T_348e8_row0_col7\" class=\"data row0 col7\" >0.5264</td>\n",
       "      <td id=\"T_348e8_row0_col8\" class=\"data row0 col8\" >8.6367</td>\n",
       "    </tr>\n",
       "    <tr>\n",
       "      <th id=\"T_348e8_level0_row1\" class=\"row_heading level0 row1\" >gbc</th>\n",
       "      <td id=\"T_348e8_row1_col0\" class=\"data row1 col0\" >Gradient Boosting Classifier</td>\n",
       "      <td id=\"T_348e8_row1_col1\" class=\"data row1 col1\" >0.8576</td>\n",
       "      <td id=\"T_348e8_row1_col2\" class=\"data row1 col2\" >0.8611</td>\n",
       "      <td id=\"T_348e8_row1_col3\" class=\"data row1 col3\" >0.4748</td>\n",
       "      <td id=\"T_348e8_row1_col4\" class=\"data row1 col4\" >0.7600</td>\n",
       "      <td id=\"T_348e8_row1_col5\" class=\"data row1 col5\" >0.5844</td>\n",
       "      <td id=\"T_348e8_row1_col6\" class=\"data row1 col6\" >0.5040</td>\n",
       "      <td id=\"T_348e8_row1_col7\" class=\"data row1 col7\" >0.5243</td>\n",
       "      <td id=\"T_348e8_row1_col8\" class=\"data row1 col8\" >28.5133</td>\n",
       "    </tr>\n",
       "    <tr>\n",
       "      <th id=\"T_348e8_level0_row2\" class=\"row_heading level0 row2\" >et</th>\n",
       "      <td id=\"T_348e8_row2_col0\" class=\"data row2 col0\" >Extra Trees Classifier</td>\n",
       "      <td id=\"T_348e8_row2_col1\" class=\"data row2 col1\" >0.8519</td>\n",
       "      <td id=\"T_348e8_row2_col2\" class=\"data row2 col2\" >0.8374</td>\n",
       "      <td id=\"T_348e8_row2_col3\" class=\"data row2 col3\" >0.4723</td>\n",
       "      <td id=\"T_348e8_row2_col4\" class=\"data row2 col4\" >0.7302</td>\n",
       "      <td id=\"T_348e8_row2_col5\" class=\"data row2 col5\" >0.5736</td>\n",
       "      <td id=\"T_348e8_row2_col6\" class=\"data row2 col6\" >0.4889</td>\n",
       "      <td id=\"T_348e8_row2_col7\" class=\"data row2 col7\" >0.5059</td>\n",
       "      <td id=\"T_348e8_row2_col8\" class=\"data row2 col8\" >11.0733</td>\n",
       "    </tr>\n",
       "    <tr>\n",
       "      <th id=\"T_348e8_level0_row3\" class=\"row_heading level0 row3\" >ada</th>\n",
       "      <td id=\"T_348e8_row3_col0\" class=\"data row3 col0\" >Ada Boost Classifier</td>\n",
       "      <td id=\"T_348e8_row3_col1\" class=\"data row3 col1\" >0.8482</td>\n",
       "      <td id=\"T_348e8_row3_col2\" class=\"data row3 col2\" >0.8389</td>\n",
       "      <td id=\"T_348e8_row3_col3\" class=\"data row3 col3\" >0.4114</td>\n",
       "      <td id=\"T_348e8_row3_col4\" class=\"data row3 col4\" >0.7588</td>\n",
       "      <td id=\"T_348e8_row3_col5\" class=\"data row3 col5\" >0.5335</td>\n",
       "      <td id=\"T_348e8_row3_col6\" class=\"data row3 col6\" >0.4522</td>\n",
       "      <td id=\"T_348e8_row3_col7\" class=\"data row3 col7\" >0.4825</td>\n",
       "      <td id=\"T_348e8_row3_col8\" class=\"data row3 col8\" >8.4367</td>\n",
       "    </tr>\n",
       "    <tr>\n",
       "      <th id=\"T_348e8_level0_row4\" class=\"row_heading level0 row4\" >lda</th>\n",
       "      <td id=\"T_348e8_row4_col0\" class=\"data row4 col0\" >Linear Discriminant Analysis</td>\n",
       "      <td id=\"T_348e8_row4_col1\" class=\"data row4 col1\" >0.8445</td>\n",
       "      <td id=\"T_348e8_row4_col2\" class=\"data row4 col2\" >0.8265</td>\n",
       "      <td id=\"T_348e8_row4_col3\" class=\"data row4 col3\" >0.4295</td>\n",
       "      <td id=\"T_348e8_row4_col4\" class=\"data row4 col4\" >0.7209</td>\n",
       "      <td id=\"T_348e8_row4_col5\" class=\"data row4 col5\" >0.5382</td>\n",
       "      <td id=\"T_348e8_row4_col6\" class=\"data row4 col6\" >0.4518</td>\n",
       "      <td id=\"T_348e8_row4_col7\" class=\"data row4 col7\" >0.4738</td>\n",
       "      <td id=\"T_348e8_row4_col8\" class=\"data row4 col8\" >4.2433</td>\n",
       "    </tr>\n",
       "    <tr>\n",
       "      <th id=\"T_348e8_level0_row5\" class=\"row_heading level0 row5\" >ridge</th>\n",
       "      <td id=\"T_348e8_row5_col0\" class=\"data row5 col0\" >Ridge Classifier</td>\n",
       "      <td id=\"T_348e8_row5_col1\" class=\"data row5 col1\" >0.8425</td>\n",
       "      <td id=\"T_348e8_row5_col2\" class=\"data row5 col2\" >0.0000</td>\n",
       "      <td id=\"T_348e8_row5_col3\" class=\"data row5 col3\" >0.3411</td>\n",
       "      <td id=\"T_348e8_row5_col4\" class=\"data row5 col4\" >0.7957</td>\n",
       "      <td id=\"T_348e8_row5_col5\" class=\"data row5 col5\" >0.4775</td>\n",
       "      <td id=\"T_348e8_row5_col6\" class=\"data row5 col6\" >0.4017</td>\n",
       "      <td id=\"T_348e8_row5_col7\" class=\"data row5 col7\" >0.4519</td>\n",
       "      <td id=\"T_348e8_row5_col8\" class=\"data row5 col8\" >2.0667</td>\n",
       "    </tr>\n",
       "    <tr>\n",
       "      <th id=\"T_348e8_level0_row6\" class=\"row_heading level0 row6\" >qda</th>\n",
       "      <td id=\"T_348e8_row6_col0\" class=\"data row6 col0\" >Quadratic Discriminant Analysis</td>\n",
       "      <td id=\"T_348e8_row6_col1\" class=\"data row6 col1\" >0.8174</td>\n",
       "      <td id=\"T_348e8_row6_col2\" class=\"data row6 col2\" >0.6613</td>\n",
       "      <td id=\"T_348e8_row6_col3\" class=\"data row6 col3\" >0.1864</td>\n",
       "      <td id=\"T_348e8_row6_col4\" class=\"data row6 col4\" >0.8251</td>\n",
       "      <td id=\"T_348e8_row6_col5\" class=\"data row6 col5\" >0.2865</td>\n",
       "      <td id=\"T_348e8_row6_col6\" class=\"data row6 col6\" >0.2317</td>\n",
       "      <td id=\"T_348e8_row6_col7\" class=\"data row6 col7\" >0.3139</td>\n",
       "      <td id=\"T_348e8_row6_col8\" class=\"data row6 col8\" >3.4167</td>\n",
       "    </tr>\n",
       "    <tr>\n",
       "      <th id=\"T_348e8_level0_row7\" class=\"row_heading level0 row7\" >lr</th>\n",
       "      <td id=\"T_348e8_row7_col0\" class=\"data row7 col0\" >Logistic Regression</td>\n",
       "      <td id=\"T_348e8_row7_col1\" class=\"data row7 col1\" >0.8129</td>\n",
       "      <td id=\"T_348e8_row7_col2\" class=\"data row7 col2\" >0.6623</td>\n",
       "      <td id=\"T_348e8_row7_col3\" class=\"data row7 col3\" >0.1885</td>\n",
       "      <td id=\"T_348e8_row7_col4\" class=\"data row7 col4\" >0.7142</td>\n",
       "      <td id=\"T_348e8_row7_col5\" class=\"data row7 col5\" >0.2982</td>\n",
       "      <td id=\"T_348e8_row7_col6\" class=\"data row7 col6\" >0.2304</td>\n",
       "      <td id=\"T_348e8_row7_col7\" class=\"data row7 col7\" >0.2994</td>\n",
       "      <td id=\"T_348e8_row7_col8\" class=\"data row7 col8\" >5.1700</td>\n",
       "    </tr>\n",
       "    <tr>\n",
       "      <th id=\"T_348e8_level0_row8\" class=\"row_heading level0 row8\" >knn</th>\n",
       "      <td id=\"T_348e8_row8_col0\" class=\"data row8 col0\" >K Neighbors Classifier</td>\n",
       "      <td id=\"T_348e8_row8_col1\" class=\"data row8 col1\" >0.8006</td>\n",
       "      <td id=\"T_348e8_row8_col2\" class=\"data row8 col2\" >0.7138</td>\n",
       "      <td id=\"T_348e8_row8_col3\" class=\"data row8 col3\" >0.3163</td>\n",
       "      <td id=\"T_348e8_row8_col4\" class=\"data row8 col4\" >0.5474</td>\n",
       "      <td id=\"T_348e8_row8_col5\" class=\"data row8 col5\" >0.4009</td>\n",
       "      <td id=\"T_348e8_row8_col6\" class=\"data row8 col6\" >0.2914</td>\n",
       "      <td id=\"T_348e8_row8_col7\" class=\"data row8 col7\" >0.3072</td>\n",
       "      <td id=\"T_348e8_row8_col8\" class=\"data row8 col8\" >52.2467</td>\n",
       "    </tr>\n",
       "    <tr>\n",
       "      <th id=\"T_348e8_level0_row9\" class=\"row_heading level0 row9\" >dt</th>\n",
       "      <td id=\"T_348e8_row9_col0\" class=\"data row9 col0\" >Decision Tree Classifier</td>\n",
       "      <td id=\"T_348e8_row9_col1\" class=\"data row9 col1\" >0.7956</td>\n",
       "      <td id=\"T_348e8_row9_col2\" class=\"data row9 col2\" >0.7022</td>\n",
       "      <td id=\"T_348e8_row9_col3\" class=\"data row9 col3\" >0.5405</td>\n",
       "      <td id=\"T_348e8_row9_col4\" class=\"data row9 col4\" >0.5149</td>\n",
       "      <td id=\"T_348e8_row9_col5\" class=\"data row9 col5\" >0.5274</td>\n",
       "      <td id=\"T_348e8_row9_col6\" class=\"data row9 col6\" >0.3971</td>\n",
       "      <td id=\"T_348e8_row9_col7\" class=\"data row9 col7\" >0.3973</td>\n",
       "      <td id=\"T_348e8_row9_col8\" class=\"data row9 col8\" >5.1700</td>\n",
       "    </tr>\n",
       "    <tr>\n",
       "      <th id=\"T_348e8_level0_row10\" class=\"row_heading level0 row10\" >dummy</th>\n",
       "      <td id=\"T_348e8_row10_col0\" class=\"data row10 col0\" >Dummy Classifier</td>\n",
       "      <td id=\"T_348e8_row10_col1\" class=\"data row10 col1\" >0.7891</td>\n",
       "      <td id=\"T_348e8_row10_col2\" class=\"data row10 col2\" >0.5000</td>\n",
       "      <td id=\"T_348e8_row10_col3\" class=\"data row10 col3\" >0.0000</td>\n",
       "      <td id=\"T_348e8_row10_col4\" class=\"data row10 col4\" >0.0000</td>\n",
       "      <td id=\"T_348e8_row10_col5\" class=\"data row10 col5\" >0.0000</td>\n",
       "      <td id=\"T_348e8_row10_col6\" class=\"data row10 col6\" >0.0000</td>\n",
       "      <td id=\"T_348e8_row10_col7\" class=\"data row10 col7\" >0.0000</td>\n",
       "      <td id=\"T_348e8_row10_col8\" class=\"data row10 col8\" >1.6200</td>\n",
       "    </tr>\n",
       "    <tr>\n",
       "      <th id=\"T_348e8_level0_row11\" class=\"row_heading level0 row11\" >nb</th>\n",
       "      <td id=\"T_348e8_row11_col0\" class=\"data row11 col0\" >Naive Bayes</td>\n",
       "      <td id=\"T_348e8_row11_col1\" class=\"data row11 col1\" >0.7674</td>\n",
       "      <td id=\"T_348e8_row11_col2\" class=\"data row11 col2\" >0.6717</td>\n",
       "      <td id=\"T_348e8_row11_col3\" class=\"data row11 col3\" >0.2471</td>\n",
       "      <td id=\"T_348e8_row11_col4\" class=\"data row11 col4\" >0.4140</td>\n",
       "      <td id=\"T_348e8_row11_col5\" class=\"data row11 col5\" >0.3094</td>\n",
       "      <td id=\"T_348e8_row11_col6\" class=\"data row11 col6\" >0.1801</td>\n",
       "      <td id=\"T_348e8_row11_col7\" class=\"data row11 col7\" >0.1888</td>\n",
       "      <td id=\"T_348e8_row11_col8\" class=\"data row11 col8\" >3.2300</td>\n",
       "    </tr>\n",
       "    <tr>\n",
       "      <th id=\"T_348e8_level0_row12\" class=\"row_heading level0 row12\" >svm</th>\n",
       "      <td id=\"T_348e8_row12_col0\" class=\"data row12 col0\" >SVM - Linear Kernel</td>\n",
       "      <td id=\"T_348e8_row12_col1\" class=\"data row12 col1\" >0.6019</td>\n",
       "      <td id=\"T_348e8_row12_col2\" class=\"data row12 col2\" >0.0000</td>\n",
       "      <td id=\"T_348e8_row12_col3\" class=\"data row12 col3\" >0.4447</td>\n",
       "      <td id=\"T_348e8_row12_col4\" class=\"data row12 col4\" >0.5527</td>\n",
       "      <td id=\"T_348e8_row12_col5\" class=\"data row12 col5\" >0.2644</td>\n",
       "      <td id=\"T_348e8_row12_col6\" class=\"data row12 col6\" >0.1082</td>\n",
       "      <td id=\"T_348e8_row12_col7\" class=\"data row12 col7\" >0.1486</td>\n",
       "      <td id=\"T_348e8_row12_col8\" class=\"data row12 col8\" >10.8100</td>\n",
       "    </tr>\n",
       "  </tbody>\n",
       "</table>\n"
      ],
      "text/plain": [
       "<pandas.io.formats.style.Styler at 0x1c92fe08b50>"
      ]
     },
     "metadata": {},
     "output_type": "display_data"
    },
    {
     "data": {
      "text/html": [],
      "text/plain": [
       "<IPython.core.display.HTML object>"
      ]
     },
     "metadata": {},
     "output_type": "display_data"
    }
   ],
   "source": [
    "best = compare_models()"
   ]
  },
  {
   "cell_type": "markdown",
   "metadata": {},
   "source": [
    "Tree based models seem to have performed the best, which is no surprise. "
   ]
  },
  {
   "cell_type": "code",
   "execution_count": 8,
   "metadata": {},
   "outputs": [
    {
     "data": {
      "application/vnd.jupyter.widget-view+json": {
       "model_id": "d39c8fbdf56041cfab4a14bafa674348",
       "version_major": 2,
       "version_minor": 0
      },
      "text/plain": [
       "interactive(children=(ToggleButtons(description='Plot Type:', icons=('',), options=(('Pipeline Plot', 'pipelin…"
      ]
     },
     "metadata": {},
     "output_type": "display_data"
    }
   ],
   "source": [
    "evaluate_model(best)"
   ]
  },
  {
   "cell_type": "code",
   "execution_count": 11,
   "metadata": {},
   "outputs": [
    {
     "data": {
      "text/html": [],
      "text/plain": [
       "<IPython.core.display.HTML object>"
      ]
     },
     "metadata": {},
     "output_type": "display_data"
    },
    {
     "data": {
      "image/png": "[encoded data removed]",
      "text/plain": [
       "<Figure size 800x550 with 1 Axes>"
      ]
     },
     "metadata": {},
     "output_type": "display_data"
    }
   ],
   "source": [
    "plot_model(best, plot=\"pr\")"
   ]
  },
  {
   "cell_type": "code",
   "execution_count": 10,
   "metadata": {},
   "outputs": [
    {
     "data": {
      "text/html": [],
      "text/plain": [
       "<IPython.core.display.HTML object>"
      ]
     },
     "metadata": {},
     "output_type": "display_data"
    },
    {
     "data": {
      "image/png": "[encoded data removed]",
      "text/plain": [
       "<Figure size 800x550 with 1 Axes>"
      ]
     },
     "metadata": {},
     "output_type": "display_data"
    }
   ],
   "source": [
    "plot_model(best, plot=\"confusion_matrix\")"
   ]
  },
  {
   "cell_type": "markdown",
   "metadata": {},
   "source": [
    "The PRC and confusion matrix seem quite good for a baseline model, especially since we know how it went when we tried predicting TARGET. Either our new problem is easier to solve or we are somehow leaking information about the target."
   ]
  }
 ],
 "metadata": {
  "kernelspec": {
   "display_name": "pycaret_env",
   "language": "python",
   "name": "python3"
  },
  "language_info": {
   "codemirror_mode": {
    "name": "ipython",
    "version": 3
   },
   "file_extension": ".py",
   "mimetype": "text/x-python",
   "name": "python",
   "nbconvert_exporter": "python",
   "pygments_lexer": "ipython3",
   "version": "3.11.1"
  }
 },
 "nbformat": 4,
 "nbformat_minor": 2
}
