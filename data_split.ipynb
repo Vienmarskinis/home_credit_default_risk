{
 "cells": [
  {
   "cell_type": "code",
   "execution_count": 1,
   "metadata": {},
   "outputs": [],
   "source": [
    "import pandas as pd\n",
    "import numpy as np\n",
    "import matplotlib.pyplot as plt\n",
    "import seaborn as sns\n",
    "import functions\n",
    "from sklearn.model_selection import train_test_split"
   ]
  },
  {
   "cell_type": "code",
   "execution_count": 2,
   "metadata": {},
   "outputs": [
    {
     "data": {
      "text/plain": [
       "<module 'functions' from 'c:\\\\Users\\\\balsevt\\\\python\\\\m3s4\\\\functions.py'>"
      ]
     },
     "execution_count": 2,
     "metadata": {},
     "output_type": "execute_result"
    }
   ],
   "source": [
    "import importlib\n",
    "\n",
    "importlib.reload(functions)"
   ]
  },
  {
   "cell_type": "code",
   "execution_count": 13,
   "metadata": {},
   "outputs": [],
   "source": [
    "df_app = pd.read_parquet(r\"data\\application_train.parquet\", engine=\"pyarrow\")\n",
    "df_bur = pd.read_parquet(r\"data\\bureau.parquet\", engine=\"pyarrow\")\n",
    "df_bur_bal = pd.read_parquet(r\"data\\bureau_balance.parquet\", engine=\"pyarrow\")\n",
    "df_prev_app = pd.read_parquet(r\"data\\previous_application.parquet\", engine=\"pyarrow\")\n",
    "df_cash = pd.read_parquet(r\"data\\POS_CASH_balance.parquet\", engine=\"pyarrow\")\n",
    "df_inst = pd.read_parquet(r\"data\\installments_payments.parquet\", engine=\"pyarrow\")\n",
    "df_cred = pd.read_parquet(r\"data\\credit_card_balance.parquet\", engine=\"pyarrow\")"
   ]
  },
  {
   "cell_type": "code",
   "execution_count": 4,
   "metadata": {},
   "outputs": [],
   "source": [
    "df_app_train, df_app_test = train_test_split(\n",
    "    df_app, test_size=0.05, shuffle=True, random_state=42\n",
    ")"
   ]
  },
  {
   "cell_type": "markdown",
   "metadata": {},
   "source": [
    "### Handle Train Split on Other Tables"
   ]
  },
  {
   "cell_type": "code",
   "execution_count": 5,
   "metadata": {},
   "outputs": [],
   "source": [
    "curr_ids = df_app_train[\"SK_ID_CURR\"]\n",
    "\n",
    "# Handle Bureau\n",
    "df_bur_train = df_bur[df_bur[\"SK_ID_CURR\"].isin(curr_ids)]\n",
    "bureau_ids = df_bur_train[\"SK_ID_BUREAU\"]\n",
    "df_bur_bal_train = df_bur_bal[df_bur_bal[\"SK_ID_BUREAU\"].isin(bureau_ids)]\n",
    "\n",
    "# Handle cash, inst, cred tables directly through SK_ID_CURR\n",
    "df_cash_curr = df_cash[df_cash[\"SK_ID_CURR\"].isin(curr_ids)]\n",
    "df_inst_curr = df_inst[df_inst[\"SK_ID_CURR\"].isin(curr_ids)]\n",
    "df_cred_curr = df_cred[df_cred[\"SK_ID_CURR\"].isin(curr_ids)]\n",
    "\n",
    "# Handle cash, inst, cred tables through prev_app table\n",
    "df_prev_app_train = df_prev_app[df_prev_app[\"SK_ID_CURR\"].isin(curr_ids)]\n",
    "prev_ids = df_prev_app_train[\"SK_ID_PREV\"]\n",
    "df_cash_prev = df_cash[df_cash[\"SK_ID_PREV\"].isin(prev_ids)]\n",
    "df_inst_prev = df_inst[df_inst[\"SK_ID_PREV\"].isin(prev_ids)]\n",
    "df_cred_prev = df_cred[df_cred[\"SK_ID_PREV\"].isin(prev_ids)]"
   ]
  },
  {
   "cell_type": "code",
   "execution_count": 6,
   "metadata": {},
   "outputs": [
    {
     "name": "stdout",
     "output_type": "stream",
     "text": [
      "Shape of cash table when handled directly: (8117603, 8)\n",
      "Shape of cash table when handled indirectly: (7841360, 8)\n"
     ]
    }
   ],
   "source": [
    "print(\"Shape of cash table when handled directly:\", df_cash_curr.shape)\n",
    "print(\"Shape of cash table when handled indirectly:\", df_cash_prev.shape)"
   ]
  },
  {
   "cell_type": "markdown",
   "metadata": {},
   "source": [
    "When handled indirectly, we get a smaller dataset, which would imply that we don't have all the previous applications in the prev_app table.\n",
    "\n",
    "We can also check if the \"_curr\" tables are supersets of the \"_prev\" tables."
   ]
  },
  {
   "cell_type": "code",
   "execution_count": 7,
   "metadata": {},
   "outputs": [
    {
     "name": "stdout",
     "output_type": "stream",
     "text": [
      "cash_curr table is a superset of cash_prev\n",
      "inst_curr table is a superset of inst_prev\n",
      "cred_curr table is a superset of cred_prev\n"
     ]
    }
   ],
   "source": [
    "cols = [\"SK_ID_CURR\", \"SK_ID_PREV\"]\n",
    "functions.check_if_superset(df_cash_curr, df_cash_prev, cols, \"cash_curr\", \"cash_prev\")\n",
    "functions.check_if_superset(df_inst_curr, df_inst_prev, cols, \"inst_curr\", \"inst_prev\")\n",
    "functions.check_if_superset(df_cred_curr, df_cred_prev, cols, \"cred_curr\", \"cred_prev\")"
   ]
  },
  {
   "cell_type": "markdown",
   "metadata": {},
   "source": [
    "Since all the \"curr\" tables are supersets, we'll only save them and discard \"prev\" tables."
   ]
  },
  {
   "cell_type": "code",
   "execution_count": 8,
   "metadata": {},
   "outputs": [],
   "source": [
    "df_cash_train = df_cash_curr.copy()\n",
    "df_inst_train = df_inst_curr.copy()\n",
    "df_cred_train = df_cred_curr.copy()"
   ]
  },
  {
   "cell_type": "markdown",
   "metadata": {},
   "source": [
    "### Handle Test Split on Other Tables"
   ]
  },
  {
   "cell_type": "code",
   "execution_count": 9,
   "metadata": {},
   "outputs": [],
   "source": [
    "curr_ids = df_app_test[\"SK_ID_CURR\"]\n",
    "\n",
    "# Handle Bureau\n",
    "df_bur_test = df_bur[df_bur[\"SK_ID_CURR\"].isin(curr_ids)]\n",
    "bureau_ids = df_bur_test[\"SK_ID_BUREAU\"]\n",
    "df_bur_bal_test = df_bur_bal[df_bur_bal[\"SK_ID_BUREAU\"].isin(bureau_ids)]\n",
    "\n",
    "# Handle cash, inst, cred tables directly through SK_ID_CURR\n",
    "df_cash_test = df_cash[df_cash[\"SK_ID_CURR\"].isin(curr_ids)]\n",
    "df_inst_test = df_inst[df_inst[\"SK_ID_CURR\"].isin(curr_ids)]\n",
    "df_cred_test = df_cred[df_cred[\"SK_ID_CURR\"].isin(curr_ids)]\n",
    "\n",
    "# Handle prev_app\n",
    "df_prev_app_test = df_prev_app[df_prev_app[\"SK_ID_CURR\"].isin(curr_ids)]"
   ]
  },
  {
   "cell_type": "markdown",
   "metadata": {},
   "source": [
    "### Save as Parquet"
   ]
  },
  {
   "cell_type": "code",
   "execution_count": 11,
   "metadata": {},
   "outputs": [],
   "source": [
    "df_app_train.to_parquet(r\"data\\train\\df_app.parquet\", engine=\"pyarrow\")\n",
    "df_app_test.to_parquet(r\"data\\test\\df_app.parquet\", engine=\"pyarrow\")\n",
    "df_bur_train.to_parquet(r\"data\\train\\df_bur.parquet\", engine=\"pyarrow\")\n",
    "df_bur_test.to_parquet(r\"data\\test\\df_bur.parquet\", engine=\"pyarrow\")\n",
    "df_bur_bal_train.to_parquet(r\"data\\train\\df_bur_bal.parquet\", engine=\"pyarrow\")\n",
    "df_bur_bal_test.to_parquet(r\"data\\test\\df_bur_bal.parquet\", engine=\"pyarrow\")\n",
    "df_prev_app_train.to_parquet(r\"data\\train\\df_prev_app.parquet\", engine=\"pyarrow\")\n",
    "df_prev_app_test.to_parquet(r\"data\\test\\df_prev_app.parquet\", engine=\"pyarrow\")\n",
    "df_cash_train.to_parquet(r\"data\\train\\df_cash.parquet\", engine=\"pyarrow\")\n",
    "df_cash_test.to_parquet(r\"data\\test\\df_cash.parquet\", engine=\"pyarrow\")\n",
    "df_inst_train.to_parquet(r\"data\\train\\df_inst.parquet\", engine=\"pyarrow\")\n",
    "df_inst_test.to_parquet(r\"data\\test\\df_inst.parquet\", engine=\"pyarrow\")\n",
    "df_cred_train.to_parquet(r\"data\\train\\df_cred.parquet\", engine=\"pyarrow\")\n",
    "df_cred_test.to_parquet(r\"data\\test\\df_cred.parquet\", engine=\"pyarrow\")"
   ]
  }
 ],
 "metadata": {
  "kernelspec": {
   "display_name": "venv",
   "language": "python",
   "name": "python3"
  },
  "language_info": {
   "codemirror_mode": {
    "name": "ipython",
    "version": 3
   },
   "file_extension": ".py",
   "mimetype": "text/x-python",
   "name": "python",
   "nbconvert_exporter": "python",
   "pygments_lexer": "ipython3",
   "version": "3.11.1"
  }
 },
 "nbformat": 4,
 "nbformat_minor": 2
}
